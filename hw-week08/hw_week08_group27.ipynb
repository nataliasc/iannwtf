{
  "nbformat": 4,
  "nbformat_minor": 0,
  "metadata": {
    "colab": {
      "name": "hw-week08-group27.ipynb",
      "provenance": [],
      "collapsed_sections": []
    },
    "kernelspec": {
      "name": "python3",
      "display_name": "Python 3"
    },
    "language_info": {
      "name": "python"
    }
  },
  "cells": [
    {
      "cell_type": "markdown",
      "source": [
        "# Homework 08 — IANNwTF\n",
        "## Group 27\n",
        "Deadline: Dec 19, 2021 23:59\n",
        "\n",
        "<https://forms.gle/n6ERdhYx3uBPzuGn9>"
      ],
      "metadata": {
        "id": "2Qaj18msKDOK"
      }
    },
    {
      "cell_type": "code",
      "execution_count": 1,
      "metadata": {
        "id": "sd37kIBGJ8-U"
      },
      "outputs": [],
      "source": [
        "import numpy as np\n",
        "import tensorflow as tf\n",
        "from tensorflow.keras.datasets import mnist\n",
        "import matplotlib.pyplot as plt"
      ]
    },
    {
      "cell_type": "markdown",
      "source": [
        "# Dataset"
      ],
      "metadata": {
        "id": "pytsUrBwKYea"
      }
    },
    {
      "cell_type": "code",
      "source": [
        "(X_train, Y_train), (X_test, Y_test) = mnist.load_data()"
      ],
      "metadata": {
        "id": "03CWpIgqKZkS"
      },
      "execution_count": 2,
      "outputs": []
    },
    {
      "cell_type": "code",
      "source": [
        "print('MNIST Dataset Shape:')\n",
        "print('X_train: ' + str(X_train.shape))\n",
        "print('Y_train: ' + str(Y_train.shape))\n",
        "print('X_test:  '  + str(X_test.shape))\n",
        "print('Y_test:  '  + str(Y_test.shape))"
      ],
      "metadata": {
        "colab": {
          "base_uri": "https://localhost:8080/"
        },
        "id": "vSHH9w5ZKtRr",
        "outputId": "33d7fdcf-32c0-481c-b635-8dcada721935"
      },
      "execution_count": 3,
      "outputs": [
        {
          "output_type": "stream",
          "name": "stdout",
          "text": [
            "MNIST Dataset Shape:\n",
            "X_train: (60000, 28, 28)\n",
            "Y_train: (60000,)\n",
            "X_test:  (10000, 28, 28)\n",
            "Y_test:  (10000,)\n"
          ]
        }
      ]
    },
    {
      "cell_type": "code",
      "source": [
        "npics = 5\n",
        "fig, ax = plt.subplots(nrows=1, ncols=npics, figsize=(18,3))\n",
        "ax = ax.ravel()\n",
        "for i in range(npics):\n",
        "  ax[i].imshow(X_train[i], cmap='gray')\n",
        "  ax[i].axis(\"off\")"
      ],
      "metadata": {
        "colab": {
          "base_uri": "https://localhost:8080/",
          "height": 194
        },
        "id": "riGq8PuVSLpu",
        "outputId": "95f10f23-a61c-4b61-c350-109a16d67b56"
      },
      "execution_count": 4,
      "outputs": [
        {
          "output_type": "display_data",
          "data": {
            "image/png": "[encoded data removed]",
            "text/plain": [
              "<Figure size 1296x216 with 5 Axes>"
            ]
          },
          "metadata": {
            "needs_background": "light"
          }
        }
      ]
    },
    {
      "cell_type": "code",
      "source": [
        "# Load the dataset and construct a tf.Data.Dateset for testing and training using the images only\n",
        "train_ds = tf.data.Dataset.from_tensor_slices(X_train)\n",
        "test_ds = tf.data.Dataset.from_tensor_slices(X_test)"
      ],
      "metadata": {
        "id": "_YxFx5UvK7YL"
      },
      "execution_count": 5,
      "outputs": []
    },
    {
      "cell_type": "code",
      "source": [
        "def prepare_data(ds):\n",
        "  # convert data from uint8 to float32\n",
        "  ds = ds.map(lambda img: (tf.cast(img, tf.float32)))\n",
        "\n",
        "  # bring image values from range [0, 255] to [0, 1]\n",
        "  ds = ds.map(lambda img: (img/255.))\n",
        "\n",
        "  # add third dimension\n",
        "  ds = ds.map(lambda img: tf.expand_dims(img, axis=-1))\n",
        "\n",
        "  # Add noise to the images\n",
        "  how_noisy = 0.2 # std deviation of the normal distribution\n",
        "  ds = ds.map(lambda img: tf.add(img, tf.random.normal(shape=(28,28,1), mean=0.0, stddev=how_noisy, dtype=tf.dtypes.float32)))\n",
        "\n",
        "  # make sure the images are kept in the range [0,1]\n",
        "  ds = ds.map(lambda img: tf.clip_by_value(img, 0, 1))\n",
        "\n",
        "  # shuffle, batch, prefetch\n",
        "  ds = ds.shuffle(1000).batch(32).prefetch(20)\n",
        "  return ds"
      ],
      "metadata": {
        "id": "SQad6ff4LhqR"
      },
      "execution_count": 6,
      "outputs": []
    },
    {
      "cell_type": "code",
      "source": [
        "train_ds = prepare_data(train_ds)\n",
        "test_ds = prepare_data(test_ds)"
      ],
      "metadata": {
        "id": "wP7mOMN-Te9C"
      },
      "execution_count": 7,
      "outputs": []
    },
    {
      "cell_type": "code",
      "source": [
        "npics = 5\n",
        "fig, ax = plt.subplots(nrows=1, ncols=npics, figsize=(18,3))\n",
        "ax = ax.ravel()\n",
        "for elem, i in zip(train_ds.take(npics), range(npics)):\n",
        "  ax[i].imshow(tf.squeeze(elem).numpy()[0], cmap='gray')\n",
        "  ax[i].axis(\"off\")"
      ],
      "metadata": {
        "colab": {
          "base_uri": "https://localhost:8080/",
          "height": 194
        },
        "id": "2Jtxfb26cpIh",
        "outputId": "ef0fc860-5bcd-4694-a250-1ea94317ff91"
      },
      "execution_count": 8,
      "outputs": [
        {
          "output_type": "display_data",
          "data": {
            "image/png": "[encoded data removed]",
            "text/plain": [
              "<Figure size 1296x216 with 5 Axes>"
            ]
          },
          "metadata": {
            "needs_background": "light"
          }
        }
      ]
    },
    {
      "cell_type": "markdown",
      "source": [
        "# Model: Convolutional Autoencoder"
      ],
      "metadata": {
        "id": "WP7XtSOKfDcj"
      }
    },
    {
      "cell_type": "code",
      "source": [
        "class Encoder(tf.keras.Model):\n",
        "  def __init__(self, embedding_size=10):\n",
        "    super(Encoder, self).__init__()\n",
        "    self.layers_list = [tf.keras.layers.Conv2D(filters=32, kernel_size=3, strides=2, padding=\"same\", activation='relu', input_shape=((28,28,1))),\n",
        "                        tf.keras.layers.Conv2D(filters=64, kernel_size=3, strides=2, padding=\"same\", activation='relu'),\n",
        "                        tf.keras.layers.Flatten(),\n",
        "                        tf.keras.layers.Dense(embedding_size)]\n",
        "  \n",
        "  def call(self, x):\n",
        "    for layer in self.layers_list:\n",
        "      x = layer(x)\n",
        "    return x\n"
      ],
      "metadata": {
        "id": "OEnUgdT6fF0s"
      },
      "execution_count": 9,
      "outputs": []
    },
    {
      "cell_type": "code",
      "source": [
        "class Decoder(tf.keras.Model):\n",
        "  def __init__(self):\n",
        "    super(Encoder, self).__init__()\n",
        "    self.layers_list = [tf.keras.layers.Dense(units=7*7*64, activation=tf.nn.relu),\n",
        "                        tf.keras.layers.Reshape(target_shape=(7, 7, 64)),\n",
        "                        tf.keras.layers.Conv2DTranspose(filters=64, kernel_size=3, strides=2, padding='same', activation='relu'),\n",
        "                        tf.keras.layers.Conv2DTranspose(filters=32, kernel_size=3, strides=2, padding='same', activation='relu'),\n",
        "                        tf.keras.layers.Conv2DTranspose(filters=1, kernel_size=3, strides=1, padding='same', activation='sigmoid')] # output layer\n",
        "  \n",
        "  def call(self, x):\n",
        "    for layer in self.layers_list:\n",
        "      x = layer(x)\n",
        "    return x \n"
      ],
      "metadata": {
        "id": "VICF2gpyky_6"
      },
      "execution_count": 10,
      "outputs": []
    },
    {
      "cell_type": "code",
      "source": [
        "class Autoencoder(tf.keras.Model):\n",
        "  def __init__(self, embedding_size=10):\n",
        "    super(Autoencoder, self).__init__()\n",
        "    self.encoder = Encoder(embedding_size)\n",
        "    self.decoder = Decoder()\n",
        "  \n",
        "  def call(self, x):\n",
        "    embedding = self.encoder(x)\n",
        "    output = self.decoder(embedding)\n",
        "    return output\n"
      ],
      "metadata": {
        "id": "ycICcDLgovbI"
      },
      "execution_count": 11,
      "outputs": []
    },
    {
      "cell_type": "markdown",
      "source": [
        "# Training"
      ],
      "metadata": {
        "id": "L2L0O8Aqpm_9"
      }
    },
    {
      "cell_type": "code",
      "source": [
        ""
      ],
      "metadata": {
        "id": "8-HneZWBpmeY"
      },
      "execution_count": 11,
      "outputs": []
    },
    {
      "cell_type": "markdown",
      "source": [
        "# Latent Space Analysis"
      ],
      "metadata": {
        "id": "qCXl0A3pp6sS"
      }
    },
    {
      "cell_type": "code",
      "source": [
        ""
      ],
      "metadata": {
        "id": "zZT3HJMCp71X"
      },
      "execution_count": 11,
      "outputs": []
    }
  ]
}