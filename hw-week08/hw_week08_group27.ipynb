{
  "nbformat": 4,
  "nbformat_minor": 0,
  "metadata": {
    "colab": {
      "name": "hw-week08-group27.ipynb",
      "provenance": [],
      "collapsed_sections": []
    },
    "kernelspec": {
      "name": "python3",
      "display_name": "Python 3"
    },
    "language_info": {
      "name": "python"
    },
    "accelerator": "GPU"
  },
  "cells": [
    {
      "cell_type": "markdown",
      "source": [
        "# Homework 08 — IANNwTF\n",
        "## Group 27\n",
        "Deadline: Dec 19, 2021 23:59\n",
        "\n",
        "<https://forms.gle/n6ERdhYx3uBPzuGn9>"
      ],
      "metadata": {
        "id": "2Qaj18msKDOK"
      }
    },
    {
      "cell_type": "code",
      "execution_count": 1,
      "metadata": {
        "id": "sd37kIBGJ8-U"
      },
      "outputs": [],
      "source": [
        "import numpy as np\n",
        "import tensorflow as tf\n",
        "from tensorflow.keras.datasets import mnist\n",
        "import matplotlib.pyplot as plt"
      ]
    },
    {
      "cell_type": "markdown",
      "source": [
        "# Dataset"
      ],
      "metadata": {
        "id": "pytsUrBwKYea"
      }
    },
    {
      "cell_type": "code",
      "source": [
        "(X_train, Y_train), (X_test, Y_test) = mnist.load_data()"
      ],
      "metadata": {
        "id": "03CWpIgqKZkS"
      },
      "execution_count": 2,
      "outputs": []
    },
    {
      "cell_type": "code",
      "source": [
        "print('MNIST Dataset Shape:')\n",
        "print('X_train: ' + str(X_train.shape))\n",
        "print('Y_train: ' + str(Y_train.shape))\n",
        "print('X_test:  '  + str(X_test.shape))\n",
        "print('Y_test:  '  + str(Y_test.shape))"
      ],
      "metadata": {
        "colab": {
          "base_uri": "https://localhost:8080/"
        },
        "id": "vSHH9w5ZKtRr",
        "outputId": "7ef051fc-d8a7-4bfe-e9d5-f2021c293e35"
      },
      "execution_count": 3,
      "outputs": [
        {
          "output_type": "stream",
          "name": "stdout",
          "text": [
            "MNIST Dataset Shape:\n",
            "X_train: (60000, 28, 28)\n",
            "Y_train: (60000,)\n",
            "X_test:  (10000, 28, 28)\n",
            "Y_test:  (10000,)\n"
          ]
        }
      ]
    },
    {
      "cell_type": "code",
      "source": [
        "npics = 5\n",
        "fig, ax = plt.subplots(nrows=1, ncols=npics, figsize=(18,3))\n",
        "ax = ax.ravel()\n",
        "for i in range(npics):\n",
        "  ax[i].imshow(X_train[i], cmap='gray')\n",
        "  ax[i].axis(\"off\")"
      ],
      "metadata": {
        "colab": {
          "base_uri": "https://localhost:8080/",
          "height": 194
        },
        "id": "riGq8PuVSLpu",
        "outputId": "ece54334-0d96-4f26-8bd7-69ddcb56f6ae"
      },
      "execution_count": 4,
      "outputs": [
        {
          "output_type": "display_data",
          "data": {
            "image/png": "[encoded data removed]",
            "text/plain": [
              "<Figure size 1296x216 with 5 Axes>"
            ]
          },
          "metadata": {
            "needs_background": "light"
          }
        }
      ]
    },
    {
      "cell_type": "code",
      "source": [
        "# Load the dataset and construct a tf.Data.Dateset for testing and training using the images only\n",
        "train_ds = tf.data.Dataset.from_tensor_slices(X_train)\n",
        "test_ds = tf.data.Dataset.from_tensor_slices(X_test)"
      ],
      "metadata": {
        "id": "_YxFx5UvK7YL"
      },
      "execution_count": 5,
      "outputs": []
    },
    {
      "cell_type": "code",
      "source": [
        "def prepare_data(ds, target_ds=False):\n",
        "  # convert data from uint8 to float32\n",
        "  ds = ds.map(lambda img: (tf.cast(img, tf.float32)))\n",
        "\n",
        "  # bring image values from range [0, 255] to [0, 1]\n",
        "  ds = ds.map(lambda img: (img/255.))\n",
        "\n",
        "  # add third dimension\n",
        "  ds = ds.map(lambda img: tf.expand_dims(img, axis=-1))\n",
        "\n",
        "  if target_ds == False:\n",
        "    # Add noise to the images\n",
        "    how_noisy = 0.2 # std deviation of the normal distribution\n",
        "    ds = ds.map(lambda img: tf.add(img, tf.random.normal(shape=(28,28,1), mean=0.0, stddev=how_noisy, dtype=tf.dtypes.float32)))\n",
        "\n",
        "    # make sure the images are kept in the range [0,1]\n",
        "    ds = ds.map(lambda img: tf.clip_by_value(img, 0, 1))\n",
        "\n",
        "  # shuffle, batch, prefetch\n",
        "  ds = ds.shuffle(1000).batch(32).prefetch(20)\n",
        "  return ds"
      ],
      "metadata": {
        "id": "SQad6ff4LhqR"
      },
      "execution_count": 6,
      "outputs": []
    },
    {
      "cell_type": "code",
      "source": [
        "train_inputs_ds = prepare_data(train_ds)\n",
        "test_inputs_ds = prepare_data(test_ds)\n",
        "train_targets_ds = prepare_data(train_ds, target_ds=True)\n",
        "test_targets_ds = prepare_data(test_ds, target_ds=True)"
      ],
      "metadata": {
        "id": "wP7mOMN-Te9C"
      },
      "execution_count": 7,
      "outputs": []
    },
    {
      "cell_type": "code",
      "source": [
        "npics = 5\n",
        "fig, ax = plt.subplots(nrows=1, ncols=npics, figsize=(18,3))\n",
        "ax = ax.ravel()\n",
        "for elem, i in zip(train_inputs_ds.take(npics), range(npics)):\n",
        "  ax[i].imshow(tf.squeeze(elem).numpy()[0], cmap='gray')\n",
        "  ax[i].axis(\"off\")"
      ],
      "metadata": {
        "colab": {
          "base_uri": "https://localhost:8080/",
          "height": 194
        },
        "id": "2Jtxfb26cpIh",
        "outputId": "b7b7c7c2-1893-4bd9-85b5-b48c332d71c5"
      },
      "execution_count": 8,
      "outputs": [
        {
          "output_type": "display_data",
          "data": {
            "image/png": "[encoded data removed]",
            "text/plain": [
              "<Figure size 1296x216 with 5 Axes>"
            ]
          },
          "metadata": {
            "needs_background": "light"
          }
        }
      ]
    },
    {
      "cell_type": "markdown",
      "source": [
        "# Model: Convolutional Autoencoder"
      ],
      "metadata": {
        "id": "WP7XtSOKfDcj"
      }
    },
    {
      "cell_type": "code",
      "source": [
        "class Encoder(tf.keras.Model):\n",
        "  def __init__(self, embedding_size=10):\n",
        "    super(Encoder, self).__init__()\n",
        "    self.layers_list = [tf.keras.layers.Conv2D(filters=32, kernel_size=3, strides=2, padding=\"same\", activation='relu', input_shape=((28,28,1))),\n",
        "                        tf.keras.layers.Conv2D(filters=64, kernel_size=3, strides=2, padding=\"same\", activation='relu'),\n",
        "                        tf.keras.layers.Flatten(),\n",
        "                        tf.keras.layers.Dense(embedding_size)]\n",
        "  \n",
        "  def call(self, x):\n",
        "    for layer in self.layers_list:\n",
        "      x = layer(x)\n",
        "    return x\n"
      ],
      "metadata": {
        "id": "OEnUgdT6fF0s"
      },
      "execution_count": 9,
      "outputs": []
    },
    {
      "cell_type": "code",
      "source": [
        "class Decoder(tf.keras.Model):\n",
        "  def __init__(self):\n",
        "    super(Decoder, self).__init__()\n",
        "    self.layers_list = [tf.keras.layers.Dense(units=7*7*64, activation=tf.nn.relu),\n",
        "                        tf.keras.layers.Reshape(target_shape=(7, 7, 64)),\n",
        "                        tf.keras.layers.Conv2DTranspose(filters=64, kernel_size=3, strides=2, padding='same', activation='relu'),\n",
        "                        tf.keras.layers.Conv2DTranspose(filters=32, kernel_size=3, strides=2, padding='same', activation='relu'),\n",
        "                        tf.keras.layers.Conv2DTranspose(filters=1, kernel_size=3, strides=1, padding='same', activation='sigmoid')] # output layer\n",
        "  \n",
        "  def call(self, x):\n",
        "    for layer in self.layers_list:\n",
        "      x = layer(x)\n",
        "    return x \n"
      ],
      "metadata": {
        "id": "VICF2gpyky_6"
      },
      "execution_count": 10,
      "outputs": []
    },
    {
      "cell_type": "code",
      "source": [
        "class Autoencoder(tf.keras.Model):\n",
        "  def __init__(self, embedding_size=10):\n",
        "    super(Autoencoder, self).__init__()\n",
        "    self.encoder = Encoder(embedding_size)\n",
        "    self.decoder = Decoder()\n",
        "  \n",
        "  def call(self, x):\n",
        "    x = self.encoder(x)\n",
        "    x = self.decoder(x)\n",
        "    return x\n"
      ],
      "metadata": {
        "id": "ycICcDLgovbI"
      },
      "execution_count": 11,
      "outputs": []
    },
    {
      "cell_type": "markdown",
      "source": [
        "# Training"
      ],
      "metadata": {
        "id": "L2L0O8Aqpm_9"
      }
    },
    {
      "cell_type": "code",
      "source": [
        "@tf.function\n",
        "def train_step(model, inputs, targets, loss_fn, optimizer, loss_metric, accuracy_metric):\n",
        "    # training step\n",
        "    with tf.GradientTape() as tape:\n",
        "      predictions = model(inputs)\n",
        "      loss = loss_fn(targets, predictions)\n",
        "    gradients = tape.gradient(loss, model.trainable_variables)\n",
        "    optimizer.apply_gradients(zip(gradients, model.trainable_variables))\n",
        "    logs = {}\n",
        "    accuracy_metric.update_state(targets, predictions)\n",
        "    logs[accuracy_metric.name] = accuracy_metric.result()\n",
        "    loss_metric.update_state(loss)\n",
        "    logs[\"loss\"] = loss_metric.result()\n",
        "    return logs\n",
        "    \n",
        "@tf.function\n",
        "def test_step(inputs, targets, loss_fn, loss_metric, accuracy_metric):\n",
        "    # test step\n",
        "    predictions = model(inputs)\n",
        "    loss = loss_fn(targets, predictions)\n",
        "    logs = {}\n",
        "    accuracy_metric.update_state(targets, predictions)\n",
        "    logs[\"val_\" + accuracy_metric.name] = accuracy_metric.result()\n",
        "    loss_metric.update_state(loss)\n",
        "    logs[\"val_loss\"] = loss_metric.result()\n",
        "    return logs, predictions"
      ],
      "metadata": {
        "id": "esHRKHbc52pZ"
      },
      "execution_count": 12,
      "outputs": []
    },
    {
      "cell_type": "code",
      "source": [
        "tf.keras.backend.clear_session()\n",
        "\n",
        "# Hyperparameters\n",
        "epochs = 10\n",
        "learning_rate = 0.001\n",
        "\n",
        "# Initialize the model\n",
        "model = Autoencoder()\n",
        "\n",
        "# Initialize the loss function: categorical cross entropy\n",
        "loss_fn = tf.keras.losses.BinaryCrossentropy()\n",
        "\n",
        "# Initialize the optimizer\n",
        "optimizer = tf.keras.optimizers.Adam(learning_rate, amsgrad = True)\n",
        "\n",
        "# Metrics\n",
        "accuracy_metric = tf.keras.metrics.BinaryAccuracy()\n",
        "loss_metric = tf.keras.metrics.Mean()\n",
        "hist = {'loss': [], 'val_loss': [], 'binary_accuracy': [], 'val_binary_accuracy': []}\n",
        "\n",
        "\n",
        "def reset_metrics(metrics):\n",
        "    # utility function to reset the state of metrics\n",
        "    for metric in metrics:\n",
        "        metric.reset_state()\n",
        "\n",
        "examples = {\"prediction\": [], \"target\": []}\n",
        "\n",
        "# training\n",
        "for epoch in range(epochs):\n",
        "    reset_metrics([accuracy_metric,loss_metric])\n",
        "    for inputs, targets in zip(train_inputs_ds, train_targets_ds):\n",
        "        logs = train_step(model, inputs, targets, loss_fn, optimizer, loss_metric, accuracy_metric)\n",
        "    print(f\"Results at the end of epoch {epoch}\")\n",
        "    for key, value in logs.items():\n",
        "        hist[key].append(value)\n",
        "        print(f\"...{key}: {value:.4f}\")\n",
        "\n",
        "    # test\n",
        "    reset_metrics([accuracy_metric,loss_metric])\n",
        "    for inputs_batch, targets_batch in zip(test_inputs_ds, test_targets_ds):\n",
        "        logs, predictions = test_step(inputs_batch, targets_batch, loss_fn, loss_metric, accuracy_metric)\n",
        "    examples[\"prediction\"].append(predictions[0])\n",
        "    examples[\"target\"].append(targets_batch[0])\n",
        "    print(\"...Evaluation results:\")\n",
        "    for key, value in logs.items():\n",
        "        hist[key].append(value)\n",
        "        print(f\"...{key}: {value:.4f}\")\n"
      ],
      "metadata": {
        "colab": {
          "base_uri": "https://localhost:8080/"
        },
        "id": "4x7l_pIo5_EY",
        "outputId": "1e2abd6c-13c6-4146-dd96-e9903aefabcf"
      },
      "execution_count": 13,
      "outputs": [
        {
          "output_type": "stream",
          "name": "stdout",
          "text": [
            "Results at the end of epoch 0\n",
            "...binary_accuracy: 0.8055\n",
            "...loss: 0.2667\n",
            "...Evaluation results:\n",
            "...val_binary_accuracy: 0.8022\n",
            "...val_loss: 0.2655\n",
            "Results at the end of epoch 1\n",
            "...binary_accuracy: 0.8038\n",
            "...loss: 0.2631\n",
            "...Evaluation results:\n",
            "...val_binary_accuracy: 0.8025\n",
            "...val_loss: 0.2653\n",
            "Results at the end of epoch 2\n",
            "...binary_accuracy: 0.8037\n",
            "...loss: 0.2629\n",
            "...Evaluation results:\n",
            "...val_binary_accuracy: 0.8019\n",
            "...val_loss: 0.2648\n",
            "Results at the end of epoch 3\n",
            "...binary_accuracy: 0.8037\n",
            "...loss: 0.2629\n",
            "...Evaluation results:\n",
            "...val_binary_accuracy: 0.8023\n",
            "...val_loss: 0.2642\n",
            "Results at the end of epoch 4\n",
            "...binary_accuracy: 0.8037\n",
            "...loss: 0.2629\n",
            "...Evaluation results:\n",
            "...val_binary_accuracy: 0.8019\n",
            "...val_loss: 0.2648\n",
            "Results at the end of epoch 5\n",
            "...binary_accuracy: 0.8037\n",
            "...loss: 0.2629\n",
            "...Evaluation results:\n",
            "...val_binary_accuracy: 0.8019\n",
            "...val_loss: 0.2637\n",
            "Results at the end of epoch 6\n",
            "...binary_accuracy: 0.8037\n",
            "...loss: 0.2628\n",
            "...Evaluation results:\n",
            "...val_binary_accuracy: 0.8023\n",
            "...val_loss: 0.2638\n",
            "Results at the end of epoch 7\n",
            "...binary_accuracy: 0.8037\n",
            "...loss: 0.2628\n",
            "...Evaluation results:\n",
            "...val_binary_accuracy: 0.8015\n",
            "...val_loss: 0.2635\n",
            "Results at the end of epoch 8\n",
            "...binary_accuracy: 0.8037\n",
            "...loss: 0.2628\n",
            "...Evaluation results:\n",
            "...val_binary_accuracy: 0.8023\n",
            "...val_loss: 0.2633\n",
            "Results at the end of epoch 9\n",
            "...binary_accuracy: 0.8037\n",
            "...loss: 0.2628\n",
            "...Evaluation results:\n",
            "...val_binary_accuracy: 0.8016\n",
            "...val_loss: 0.2634\n"
          ]
        }
      ]
    },
    {
      "cell_type": "code",
      "source": [
        "fig, ax = plt.subplots(nrows=2, ncols=epochs, figsize=(30,8))\n",
        "ax = ax.ravel()\n",
        "for i, prediction in enumerate(examples[\"prediction\"]):\n",
        "  ax[i].imshow(tf.squeeze(prediction).numpy(), cmap='gray')\n",
        "  ax[i].set_title(\"Reconstructed Epoch {}\".format(i))  \n",
        "  ax[i].axis(\"off\")\n",
        "\n",
        "for i, target in enumerate(examples[\"target\"]):\n",
        "  ax[epochs+i].imshow(tf.squeeze(target).numpy(), cmap='gray')\n",
        "  ax[epochs+i].set_title(\"Target Epoch {}\".format(i))  \n",
        "  ax[epochs+i].axis(\"off\")\n"
      ],
      "metadata": {
        "colab": {
          "base_uri": "https://localhost:8080/",
          "height": 425
        },
        "id": "TkYlMc-aFViR",
        "outputId": "d2ad09ba-f133-4217-e97e-19031473916a"
      },
      "execution_count": 15,
      "outputs": [
        {
          "output_type": "display_data",
          "data": {
            "image/png": "[encoded data removed]",
            "text/plain": [
              "<Figure size 2160x576 with 20 Axes>"
            ]
          },
          "metadata": {
            "needs_background": "light"
          }
        }
      ]
    },
    {
      "cell_type": "markdown",
      "source": [
        "# Latent Space Analysis"
      ],
      "metadata": {
        "id": "qCXl0A3pp6sS"
      }
    },
    {
      "cell_type": "code",
      "source": [
        ""
      ],
      "metadata": {
        "id": "zZT3HJMCp71X"
      },
      "execution_count": 14,
      "outputs": []
    }
  ]
}