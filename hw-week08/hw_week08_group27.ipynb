{
  "cells": [
    {
      "cell_type": "markdown",
      "metadata": {
        "id": "2Qaj18msKDOK"
      },
      "source": [
        "[![Open In Colab](https://colab.research.google.com/assets/colab-badge.svg)](https://colab.research.google.com/github/zora-no/iannwtf/blob/main/hw-week08/hw_week08_group27.ipynb)\n",
        "# Homework 08 — IANNwTF\n",
        "## Group 27\n",
        "Deadline: Dec 19, 2021 23:59\n",
        "\n",
        "<https://forms.gle/n6ERdhYx3uBPzuGn9>"
      ]
    },
    {
      "cell_type": "code",
      "execution_count": 1,
      "metadata": {
        "id": "sd37kIBGJ8-U"
      },
      "outputs": [],
      "source": [
        "import numpy as np\n",
        "import tensorflow as tf\n",
        "from tensorflow.keras.datasets import mnist\n",
        "import matplotlib.pyplot as plt\n",
        "%config InlineBackend.figure_format = 'retina'\n",
        "plt.rcParams['font.size'] = 15"
      ]
    },
    {
      "cell_type": "markdown",
      "metadata": {
        "id": "pytsUrBwKYea"
      },
      "source": [
        "# Dataset\n",
        "\n"
      ]
    },
    {
      "cell_type": "code",
      "execution_count": null,
      "metadata": {
        "id": "03CWpIgqKZkS"
      },
      "outputs": [],
      "source": [
        "(X_train, Y_train), (X_test, Y_test) = mnist.load_data(as_supervised=True)"
      ]
    },
    {
      "cell_type": "code",
      "execution_count": null,
      "metadata": {
        "colab": {
          "base_uri": "https://localhost:8080/"
        },
        "id": "vSHH9w5ZKtRr",
        "outputId": "5201cc3a-3a33-4f3f-ca31-f5245955bf8a"
      },
      "outputs": [
        {
          "name": "stdout",
          "output_type": "stream",
          "text": [
            "MNIST Dataset Shape:\n",
            "X_train: (60000, 28, 28)\n",
            "Y_train: (60000,)\n",
            "X_test:  (10000, 28, 28)\n",
            "Y_test:  (10000,)\n"
          ]
        }
      ],
      "source": [
        "print('MNIST Dataset Shape:')\n",
        "print('X_train: ' + str(X_train.shape))\n",
        "print('Y_train: ' + str(Y_train.shape))\n",
        "print('X_test:  '  + str(X_test.shape))\n",
        "print('Y_test:  '  + str(Y_test.shape))"
      ]
    },
    {
      "cell_type": "code",
      "execution_count": null,
      "metadata": {
        "colab": {
          "base_uri": "https://localhost:8080/",
          "height": 194
        },
        "id": "riGq8PuVSLpu",
        "outputId": "be477217-907f-41e5-a47f-63ad5b6ff685"
      },
      "outputs": [
        {
          "data": {
            "image/png": "[encoded data removed]",
            "text/plain": [
              "<Figure size 1296x216 with 5 Axes>"
            ]
          },
          "metadata": {
            "image/png": {
              "height": 177,
              "width": 1008
            },
            "needs_background": "light"
          },
          "output_type": "display_data"
        }
      ],
      "source": [
        "npics = 5\n",
        "fig, ax = plt.subplots(nrows=1, ncols=npics, figsize=(18,3))\n",
        "ax = ax.ravel()\n",
        "for i in range(npics):\n",
        "  ax[i].imshow(X_train[i], cmap='gray')\n",
        "  ax[i].axis(\"off\")"
      ]
    },
    {
      "cell_type": "code",
      "execution_count": null,
      "metadata": {
        "id": "_YxFx5UvK7YL"
      },
      "outputs": [],
      "source": [
        "# Load the dataset and construct a tf.Data.Dateset for testing and training using the images only\n",
        "train_ds = tf.data.Dataset.from_tensor_slices(X_train)\n",
        "test_ds = tf.data.Dataset.from_tensor_slices(X_test)"
      ]
    },
    {
      "cell_type": "code",
      "execution_count": null,
      "metadata": {
        "id": "SQad6ff4LhqR"
      },
      "outputs": [],
      "source": [
        "def prepare_data(ds, target_ds=False):\n",
        "    # convert data from uint8 to float32\n",
        "    ds = ds.map(lambda img: (tf.cast(img, tf.float32)))\n",
        "    \n",
        "    # bring image values from range [0, 255] to [0, 1]\n",
        "    ds = ds.map(lambda img: (img/255.))\n",
        "    \n",
        "    # add third dimension\n",
        "    ds = ds.map(lambda img: tf.expand_dims(img, axis=-1))\n",
        "    \n",
        "    if target_ds == False:\n",
        "        # Add noise to the images\n",
        "        how_noisy = 0.2 # std deviation of the normal distribution\n",
        "        \n",
        "        ds = ds.map(lambda img: tf.add(img, tf.random.normal(shape=(28,28,1), mean=0.0, stddev=how_noisy, dtype=tf.dtypes.float32)))\n",
        "\n",
        "    # make sure the images are kept in the range [0,1]\n",
        "    ds = ds.map(lambda img: tf.clip_by_value(img, 0, 1))\n",
        "    # shuffle, batch, prefetch\n",
        "    ds = ds.shuffle(1000).batch(64).prefetch(tf.data.experimental.AUTOTUNE)\n",
        "    return ds"
      ]
    },
    {
      "cell_type": "code",
      "execution_count": null,
      "metadata": {
        "id": "wP7mOMN-Te9C"
      },
      "outputs": [],
      "source": [
        "train_inputs_ds = prepare_data(train_ds)\n",
        "test_inputs_ds = prepare_data(test_ds)\n",
        "train_targets_ds = prepare_data(train_ds, target_ds=True)\n",
        "test_targets_ds = prepare_data(test_ds, target_ds=True)"
      ]
    },
    {
      "cell_type": "code",
      "execution_count": null,
      "metadata": {
        "colab": {
          "base_uri": "https://localhost:8080/",
          "height": 194
        },
        "id": "2Jtxfb26cpIh",
        "outputId": "b038c6b6-f2fb-4891-a251-618bf8f6ad44"
      },
      "outputs": [
        {
          "name": "stdout",
          "output_type": "stream",
          "text": [
            "(64, 28, 28, 1) (64, 28, 28, 1)\n"
          ]
        },
        {
          "data": {
            "image/png": "[encoded data removed]",
            "text/plain": [
              "<Figure size 432x216 with 2 Axes>"
            ]
          },
          "metadata": {
            "image/png": {
              "height": 166,
              "width": 349
            },
            "needs_background": "light"
          },
          "output_type": "display_data"
        }
      ],
      "source": [
        "# I don't think this will work\n",
        "fig, ax = plt.subplots(nrows=1, ncols=2, figsize=(6,3))\n",
        "ax = ax.ravel()\n",
        "for inputs, targets in zip(train_inputs_ds, train_targets_ds):\n",
        "    print(inputs.shape, targets.shape)\n",
        "    ax[0].imshow(tf.squeeze(inputs).numpy()[0], cmap='gray')\n",
        "    ax[0].axis(\"off\")\n",
        "    ax[1].imshow(tf.squeeze(targets).numpy()[0], cmap='gray')\n",
        "    ax[1].axis(\"off\")\n",
        "    break"
      ]
    },
    {
      "cell_type": "code",
      "execution_count": 22,
      "metadata": {
        "colab": {
          "base_uri": "https://localhost:8080/",
          "height": 183
        },
        "id": "VaFSSmazDFI8",
        "outputId": "32273ed7-0884-4c90-b80b-43613bf482f1"
      },
      "outputs": [
        {
          "output_type": "display_data",
          "data": {
            "image/png": "[encoded data removed]",
            "text/plain": [
              "<Figure size 432x216 with 2 Axes>"
            ]
          },
          "metadata": {
            "image/png": {
              "width": 349,
              "height": 166
            },
            "needs_background": "light"
          }
        }
      ],
      "source": [
        "# This will work though\n",
        "\n",
        "import tensorflow_datasets as tfds\n",
        "\n",
        "train_ds, test_ds = tfds.load('mnist', split=['train', 'test'], as_supervised=True)\n",
        "\n",
        "def add_noise(img, noise_amount=0.2):\n",
        "\n",
        "    noise = tf.random.normal(shape=img.shape, mean=0.0, stddev=1.0, dtype=tf.dtypes.float32)\n",
        "\n",
        "    img = img + noise * noise_amount\n",
        "    \n",
        "    img = tf.clip_by_value(img, 0, 1)\n",
        "\n",
        "    return img\n",
        "\n",
        "def prepare_data(mnist):\n",
        "    # convert data from uint8 to float32\n",
        "    mnist = mnist.map(lambda img, label: (tf.cast(img, tf.float32), label))\n",
        "    \n",
        "    # bring image values from range [0, 255] to [0, 1]\n",
        "    mnist = mnist.map(lambda img, label: (img/255., label))\n",
        "    \n",
        "    # add third dimension\n",
        "    mnist = mnist.map(lambda img, label: (tf.expand_dims(img, axis=-1), label))\n",
        "        \n",
        "    mnist =  mnist.map(lambda img, label: (add_noise(img), img, label))\n",
        "\n",
        "    # shuffle, batch, prefetch\n",
        "    mnist = mnist.shuffle(1000).batch(64).prefetch(tf.data.AUTOTUNE)\n",
        "    return mnist\n",
        "\n",
        "train_ds = prepare_data(train_ds)\n",
        "test_ds = prepare_data(test_ds)\n",
        "\n",
        "fig, ax = plt.subplots(nrows=1, ncols=2, figsize=(6,3))\n",
        "ax = ax.ravel()\n",
        "for inputs, targets, _ in train_ds:\n",
        "    ax[0].imshow(tf.squeeze(inputs).numpy()[0], cmap='gray')\n",
        "    ax[0].axis(\"off\")\n",
        "    ax[1].imshow(tf.squeeze(targets).numpy()[0], cmap='gray')\n",
        "    ax[1].axis(\"off\")\n",
        "    break"
      ]
    },
    {
      "cell_type": "markdown",
      "metadata": {
        "id": "WP7XtSOKfDcj"
      },
      "source": [
        "# Model: Convolutional Autoencoder"
      ]
    },
    {
      "cell_type": "code",
      "execution_count": 17,
      "metadata": {
        "id": "OEnUgdT6fF0s"
      },
      "outputs": [],
      "source": [
        "class Encoder(tf.keras.Model):\n",
        "    def __init__(self, embedding_size=10):\n",
        "        super(Encoder, self).__init__()\n",
        "        \n",
        "        self.all_teh_layers = [tf.keras.layers.Conv2D(filters=64,\n",
        "                                               kernel_size=3,\n",
        "                                               strides=2,\n",
        "                                               padding=\"same\",\n",
        "                                               activation='relu',\n",
        "                                               input_shape=((28,28,1))),\n",
        "                        tf.keras.layers.Conv2D(filters=128,\n",
        "                                               kernel_size=3,\n",
        "                                               strides=2,\n",
        "                                               padding=\"same\",\n",
        "                                               activation='relu'),\n",
        "                        tf.keras.layers.Flatten(),\n",
        "                        tf.keras.layers.Dense(embedding_size,activation='relu')\n",
        "                              ]\n",
        "        \n",
        "    def call(self, x, training=True):\n",
        "        for layer in self.all_teh_layers:\n",
        "            x = layer(x, training = training)\n",
        "        return x\n"
      ]
    },
    {
      "cell_type": "code",
      "execution_count": 18,
      "metadata": {
        "id": "VICF2gpyky_6"
      },
      "outputs": [],
      "source": [
        "class Decoder(tf.keras.Model):\n",
        "    def __init__(self):\n",
        "        super(Decoder, self).__init__()\n",
        "        self.all_teh_layers = [\n",
        "            tf.keras.layers.Dense(units=3136,\n",
        "                              activation='relu'),\n",
        "            tf.keras.layers.Reshape((7, 7, 64)),\n",
        "            tf.keras.layers.Conv2DTranspose(filters=128,\n",
        "                                            kernel_size=3,\n",
        "                                            strides=2,\n",
        "                                            padding='same',\n",
        "                                            activation='relu'),\n",
        "            tf.keras.layers.Conv2DTranspose(filters=64,\n",
        "                                            kernel_size=3,\n",
        "                                            strides=2,\n",
        "                                            padding='same',\n",
        "                                            activation='relu'),\n",
        "            tf.keras.layers.Conv2D(filters=1,\n",
        "                                   kernel_size=3,\n",
        "                                   strides=1,\n",
        "                                   padding='same',\n",
        "                                   activation='sigmoid')\n",
        "    ]\n",
        "  \n",
        "    def call(self, x, training=True):\n",
        "        for layer in self.all_teh_layers:\n",
        "            x = layer(x, training = training)\n",
        "        return x  "
      ]
    },
    {
      "cell_type": "code",
      "execution_count": 19,
      "metadata": {
        "id": "ycICcDLgovbI"
      },
      "outputs": [],
      "source": [
        "class Autoencoder(tf.keras.Model):\n",
        "    \n",
        "    def __init__(self, embedding_size=10):\n",
        "        \n",
        "        super(Autoencoder, self).__init__()\n",
        "        self.encoder = Encoder(embedding_size=embedding_size)\n",
        "        self.decoder = Decoder()\n",
        "    \n",
        "    def call(self, x):\n",
        "        x = self.encoder(x)\n",
        "        x = self.decoder(x)\n",
        "        \n",
        "        return x"
      ]
    },
    {
      "cell_type": "markdown",
      "metadata": {
        "id": "L2L0O8Aqpm_9"
      },
      "source": [
        "# Training"
      ]
    },
    {
      "cell_type": "code",
      "execution_count": 20,
      "metadata": {
        "id": "esHRKHbc52pZ"
      },
      "outputs": [],
      "source": [
        "@tf.function\n",
        "def train_step(model, inputs, targets, loss_fn, optimizer, loss_metric):\n",
        "    # training step\n",
        "    with tf.GradientTape() as tape:\n",
        "        predictions = model(inputs)\n",
        "        loss = loss_fn(targets, predictions)\n",
        "    gradients = tape.gradient(loss, model.trainable_variables)\n",
        "    optimizer.apply_gradients(zip(gradients, model.trainable_variables))\n",
        "    logs = {}\n",
        "    loss_metric.update_state(loss)\n",
        "    logs[\"loss\"] = loss_metric.result()\n",
        "    return logs\n",
        "    \n",
        "@tf.function\n",
        "def test_step(inputs, targets, loss_fn, loss_metric):\n",
        "    # test step\n",
        "    predictions = model(inputs)\n",
        "    loss = loss_fn(targets, predictions)\n",
        "    logs = {}\n",
        "    loss_metric.update_state(loss)\n",
        "    logs[\"val_loss\"] = loss_metric.result()\n",
        "    return logs, predictions"
      ]
    },
    {
      "cell_type": "code",
      "execution_count": 21,
      "metadata": {
        "colab": {
          "base_uri": "https://localhost:8080/"
        },
        "id": "4x7l_pIo5_EY",
        "outputId": "13df08d1-8911-4dd0-fc8e-d2c67617e03a"
      },
      "outputs": [
        {
          "output_type": "stream",
          "name": "stdout",
          "text": [
            "Results at the end of epoch 0\n",
            "...loss: 0.0413\n",
            "...Evaluation results:\n",
            "...val_loss: 0.0259\n",
            "\n",
            "\n",
            "Results at the end of epoch 1\n",
            "...loss: 0.0247\n",
            "...Evaluation results:\n",
            "...val_loss: 0.0234\n",
            "\n",
            "\n",
            "Results at the end of epoch 2\n",
            "...loss: 0.0232\n",
            "...Evaluation results:\n",
            "...val_loss: 0.0230\n",
            "\n",
            "\n",
            "Results at the end of epoch 3\n",
            "...loss: 0.0224\n",
            "...Evaluation results:\n",
            "...val_loss: 0.0221\n",
            "\n",
            "\n",
            "Results at the end of epoch 4\n",
            "...loss: 0.0219\n",
            "...Evaluation results:\n",
            "...val_loss: 0.0216\n",
            "\n",
            "\n",
            "Results at the end of epoch 5\n",
            "...loss: 0.0215\n",
            "...Evaluation results:\n",
            "...val_loss: 0.0214\n",
            "\n",
            "\n",
            "Results at the end of epoch 6\n",
            "...loss: 0.0211\n",
            "...Evaluation results:\n",
            "...val_loss: 0.0208\n",
            "\n",
            "\n",
            "Results at the end of epoch 7\n",
            "...loss: 0.0209\n",
            "...Evaluation results:\n",
            "...val_loss: 0.0208\n",
            "\n",
            "\n",
            "Results at the end of epoch 8\n",
            "...loss: 0.0207\n",
            "...Evaluation results:\n",
            "...val_loss: 0.0207\n",
            "\n",
            "\n",
            "Results at the end of epoch 9\n",
            "...loss: 0.0205\n",
            "...Evaluation results:\n",
            "...val_loss: 0.0204\n",
            "\n",
            "\n"
          ]
        }
      ],
      "source": [
        "tf.keras.backend.clear_session()\n",
        "\n",
        "# Hyperparameters\n",
        "epochs = 10\n",
        "learning_rate = 0.001\n",
        "\n",
        "# Initialize the model\n",
        "model = Autoencoder(embedding_size=10)\n",
        "\n",
        "# Initialize the loss function (MSE)\n",
        "loss_fn = tf.keras.losses.MeanSquaredError()\n",
        "\n",
        "# Initialize the optimizer\n",
        "optimizer = tf.keras.optimizers.Adam(learning_rate, amsgrad = True)\n",
        "\n",
        "# Metrics\n",
        "loss_metric = tf.keras.metrics.Mean()\n",
        "hist = {'loss': [], 'val_loss': []}\n",
        "\n",
        "\n",
        "def reset_metrics(metrics):\n",
        "    # utility function to reset the state of metrics\n",
        "    for metric in metrics:\n",
        "        metric.reset_state()\n",
        "\n",
        "examples = {\"prediction\": [], \"target\": []}\n",
        "\n",
        "# training\n",
        "for epoch in range(epochs):\n",
        "    reset_metrics([loss_metric])\n",
        "    for inputs, targets, _ in train_ds:\n",
        "        logs = train_step(model, inputs, targets, loss_fn, optimizer, loss_metric)\n",
        "    print(f\"Results at the end of epoch {epoch}\")\n",
        "    for key, value in logs.items():\n",
        "        hist[key].append(value)\n",
        "        print(f\"...{key}: {value:.4f}\")\n",
        "\n",
        "    # test\n",
        "    reset_metrics([loss_metric])\n",
        "    for inputs, targets, _ in test_ds:\n",
        "        logs, predictions = test_step(inputs, targets, loss_fn, loss_metric)\n",
        "    id = np.random.randint(12)\n",
        "    examples[\"prediction\"].append(predictions[id])\n",
        "    examples[\"target\"].append(targets[id])\n",
        "    print(\"...Evaluation results:\")\n",
        "    for key, value in logs.items():\n",
        "        hist[key].append(value)\n",
        "        print(f\"...{key}: {value:.4f}\")\n",
        "    print(\"\\n\")"
      ]
    },
    {
      "cell_type": "code",
      "execution_count": 23,
      "metadata": {
        "colab": {
          "base_uri": "https://localhost:8080/",
          "height": 303
        },
        "id": "TkYlMc-aFViR",
        "outputId": "2967c228-5051-4cc9-b646-2c636d03a031"
      },
      "outputs": [
        {
          "output_type": "display_data",
          "data": {
            "image/png": "[encoded data removed]",
            "text/plain": [
              "<Figure size 1440x360 with 20 Axes>"
            ]
          },
          "metadata": {
            "image/png": {
              "width": 1130,
              "height": 286
            },
            "needs_background": "light"
          }
        }
      ],
      "source": [
        "fig, ax = plt.subplots(nrows=2, ncols=epochs, figsize=(20,5))\n",
        "ax = ax.ravel()\n",
        "for i, prediction in enumerate(examples[\"prediction\"]):\n",
        "    ax[i].imshow(tf.squeeze(prediction).numpy(), cmap='gray')\n",
        "    ax[i].set_title(f\"Reconstruction \\n Epoch {i}\")  \n",
        "    ax[i].axis(\"off\")\n",
        "\n",
        "for i, target in enumerate(examples[\"target\"]):\n",
        "    ax[epochs+i].imshow(tf.squeeze(target).numpy(), cmap='gray')\n",
        "    ax[epochs+i].set_title(f\"Target \\n Epoch {i}\")  \n",
        "    ax[epochs+i].axis(\"off\")"
      ]
    },
    {
      "cell_type": "markdown",
      "metadata": {
        "id": "qCXl0A3pp6sS"
      },
      "source": [
        "# Latent Space Analysis\n",
        "# 🌚"
      ]
    }
  ],
  "metadata": {
    "accelerator": "GPU",
    "colab": {
      "collapsed_sections": [],
      "name": "hw_week08_group27.ipynb",
      "provenance": []
    },
    "kernelspec": {
      "display_name": "Python 3",
      "language": "python",
      "name": "python3"
    },
    "language_info": {
      "codemirror_mode": {
        "name": "ipython",
        "version": 3
      },
      "file_extension": ".py",
      "mimetype": "text/x-python",
      "name": "python",
      "nbconvert_exporter": "python",
      "pygments_lexer": "ipython3",
      "version": "3.7.9"
    }
  },
  "nbformat": 4,
  "nbformat_minor": 0
}