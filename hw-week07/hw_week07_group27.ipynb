{
  "nbformat": 4,
  "nbformat_minor": 0,
  "metadata": {
    "colab": {
      "name": "iannwtf-hw-07.ipynb",
      "provenance": [],
      "collapsed_sections": []
    },
    "kernelspec": {
      "name": "python3",
      "display_name": "Python 3"
    },
    "language_info": {
      "name": "python"
    }
  },
  "cells": [
    {
      "cell_type": "markdown",
      "source": [
        "# Homework 07 — IANNwTF\n",
        "## Group 27\n",
        "Deadline: Dec 12, 2021 23:59\n",
        "\n",
        "<https://forms.gle/8qwiuUXCfLjKGeg67>"
      ],
      "metadata": {
        "id": "xi3mFLBr9e9f"
      }
    },
    {
      "cell_type": "code",
      "source": [
        "import numpy as np\n",
        "import tensorflow as tf"
      ],
      "metadata": {
        "id": "b_CCwaTwAhvm"
      },
      "execution_count": 1,
      "outputs": []
    },
    {
      "cell_type": "markdown",
      "source": [
        "# Data"
      ],
      "metadata": {
        "id": "P1i5lSOj-KRl"
      }
    },
    {
      "cell_type": "code",
      "execution_count": 2,
      "metadata": {
        "id": "xMarWR_V9b0g"
      },
      "outputs": [],
      "source": [
        "def integration_task(seq_len, num_samples):\n",
        "  '''\n",
        "  Generator function that yields a random noise signal of the size seq_len\n",
        "  and a target (if the sum of the noise signal is greater\n",
        "  or smaller than 1) for num_samples.\n",
        "\n",
        "  Args:\n",
        "  seq_len (int): sequence length, i.e. number of time steps\n",
        "  num_samples (int): number of samples to be generated\n",
        "  '''\n",
        "  for sample in range(num_samples):\n",
        "    noise = np.random.normal(size=seq_len)\n",
        "    target = int(np.sum(noise,axis=-1)> 1)\n",
        "    noise = np.expand_dims(noise,axis=-1)\n",
        "    target = np.expand_dims(target,axis=-1)\n",
        "    yield (noise, target)"
      ]
    },
    {
      "cell_type": "code",
      "source": [
        "def my_integration_task():\n",
        "  '''\n",
        "  Wrapper function for the generator integration_task(seq_len, num_samples)\n",
        "  defined above, which internally iterates to integration_task\n",
        "  with a specified seq_len and num_samples and yields the function’s yield.\n",
        "  '''\n",
        "  seq_len = 25\n",
        "  num_samples = 80000\n",
        "  yield from integration_task(seq_len, num_samples)"
      ],
      "metadata": {
        "id": "SCQFoftWAfWF"
      },
      "execution_count": 3,
      "outputs": []
    },
    {
      "cell_type": "code",
      "source": [
        "# create the Tensorflow Dataset by passing on the wrapper generator\n",
        "ds = tf.data.Dataset.from_generator(my_integration_task, output_types=(tf.float32,tf.float32))                    "
      ],
      "metadata": {
        "id": "IcpgJ7_wGwhr"
      },
      "execution_count": 4,
      "outputs": []
    },
    {
      "cell_type": "code",
      "source": [
        "batch_size = 64\n",
        "\n",
        "def prepare_data(ds):\n",
        "  '''\n",
        "  Data pipeline that performs shuffling, batching, and prefetching on the given dataset.\n",
        "\n",
        "  Args:\n",
        "  ds (tf.data.Dataset): the dataset that the preprocessing is to be performed on\n",
        "  '''\n",
        "  ds = ds.shuffle(1000).batch(batch_size).prefetch(20)\n",
        "  return ds\n"
      ],
      "metadata": {
        "id": "yr4v2GfBJbWp"
      },
      "execution_count": 5,
      "outputs": []
    },
    {
      "cell_type": "code",
      "source": [
        "ds = prepare_data(ds)"
      ],
      "metadata": {
        "id": "JZD5SNydROFa"
      },
      "execution_count": 6,
      "outputs": []
    },
    {
      "cell_type": "code",
      "source": [
        "for element in ds.take(1):\n",
        "  print(element[0].shape, element[1].shape)"
      ],
      "metadata": {
        "colab": {
          "base_uri": "https://localhost:8080/"
        },
        "id": "NCp0NHsiRRty",
        "outputId": "df740ac4-8208-412b-d082-f28488dd60d3"
      },
      "execution_count": 7,
      "outputs": [
        {
          "output_type": "stream",
          "name": "stdout",
          "text": [
            "(64, 25, 1) (64, 1)\n"
          ]
        }
      ]
    },
    {
      "cell_type": "markdown",
      "source": [
        "# Network"
      ],
      "metadata": {
        "id": "8upo8fEjSGbU"
      }
    },
    {
      "cell_type": "code",
      "source": [
        "class LSTMCell(tf.keras.layers.Layer):\n",
        "  def __init__(self, units):\n",
        "    '''\n",
        "    Constructor for a LSTM Cell.\n",
        "\n",
        "    Args:\n",
        "    units (int): number of units\n",
        "    '''\n",
        "    super(LSTMCell, self).__init__()\n",
        "    \n",
        "    self.units = units\n",
        "\n",
        "    self.forget_gate = tf.keras.layers.Dense(units, activation=\"sigmoid\", bias_initializer='ones')\n",
        "    self.input_gate = tf.keras.layers.Dense(units, activation=\"sigmoid\")\n",
        "    self.output_gate = tf.keras.layers.Dense(units, activation=\"sigmoid\")\n",
        "    self.candidates = tf.keras.layers.Dense(units, activation=\"tanh\",kernel_initializer='orthogonal')\n",
        "\n",
        "\n",
        "  def call(self, x, states):\n",
        "    '''\n",
        "    Args:\n",
        "    x (tf.Tensor): input for a single time step\n",
        "    states (tf.Tensor, tf.Tensor) : a tuple containing hidden state and cell state\n",
        "    '''\n",
        "    hidden_state, cell_state = states # (old) hidden state and (old) cell state\n",
        "    inputs = tf.concat((x, hidden_state), axis=-1) # concatenate hidden state and inputs\n",
        "\n",
        "    cell_state = cell_state * self.forget_gate(inputs)\n",
        "\n",
        "    # next step: input gate\n",
        "    cell_state = cell_state + self.candidates(inputs) * self.input_gate(inputs)\n",
        "\n",
        "    # last step: output gate\n",
        "    hidden_state = self.output_gate(inputs) * tf.nn.tanh(cell_state)\n",
        "\n",
        "    return hidden_state, cell_state\n",
        "\n",
        "  "
      ],
      "metadata": {
        "id": "XntnvqtdSIKn"
      },
      "execution_count": 8,
      "outputs": []
    },
    {
      "cell_type": "code",
      "source": [
        "class LSTMLayer(tf.keras.layers.Layer):\n",
        "  def __init__(self, cell):\n",
        "    '''\n",
        "    Constructor for a LSTM Layer containing one LSTM Cell.\n",
        "    \n",
        "    Args:\n",
        "    cell (LSTMCell): the LSTMCell the layer consists of.\n",
        "    '''\n",
        "    super(LSTMLayer, self).__init__()\n",
        "            \n",
        "    self.cell = cell\n",
        "\n",
        "  def zero_states(self, batch_size):\n",
        "    '''\n",
        "    Resets the states of the LSTM to zero given the bach size.\n",
        "\n",
        "    Args:\n",
        "    batch_size (int)\n",
        "\n",
        "    Returns:\n",
        "    a tuple of states of the appropriate size filled with zeros.\n",
        "    '''\n",
        "    return (tf.zeros((batch_size, self.cell.units)), tf.zeros((batch_size, self.cell.units)))\n",
        "\n",
        "  def call(self, x, states):\n",
        "    '''\n",
        "    Takes the input over multiple time steps and returns\n",
        "    the outputs over multiple time steps.\n",
        "\n",
        "    Args:\n",
        "    x (tf.Tensor of shape  [batch size, seq_len, input_size]): input\n",
        "    states (tuple) : a tuple containing hidden state and cell state\n",
        "\n",
        "    Returns:\n",
        "    output of the layer, of shape [batch size, seq len, output size]\n",
        "    '''\n",
        "    num_timesteps = tf.shape(x)[1] # second dimension of x is sequence length\n",
        "\n",
        "    unrolled = tf.TensorArray(dtype=tf.float32, size=num_timesteps)\n",
        "    # iterate over timesteps\n",
        "    for t in tf.range(num_timesteps):\n",
        "      hidden_states, _ = self.cell(x[:,t,:], states)\n",
        "      unrolled = unrolled.write(t, hidden_states)\n",
        "\n",
        "    outputs = tf.transpose(unrolled.stack(), perm=[1,0,2])\n",
        "\n",
        "    return outputs\n"
      ],
      "metadata": {
        "id": "1MP9fj-SaqHn"
      },
      "execution_count": 9,
      "outputs": []
    },
    {
      "cell_type": "code",
      "source": [
        "class MyModel(tf.keras.Model):\n",
        "  \n",
        "  def __init__(self):\n",
        "    '''\n",
        "    Constructor for the LSTM Model.\n",
        "    '''\n",
        "    super(MyModel, self).__init__()\n",
        "\n",
        "    self.read_in =  tf.keras.layers.Dense(64, activation=\"sigmoid\")\n",
        "    self.read_in_2 = tf.keras.layers.Dense(32)\n",
        "    self.lstm_cell = LSTMCell(units=2)\n",
        "    self.lstm = LSTMLayer(self.lstm_cell)\n",
        "    self.out_layer = tf.keras.layers.Dense(1, activation=\"sigmoid\") # output layer with one unit for a binary classification task\n",
        "\n",
        "  def call(self, x):\n",
        "    '''\n",
        "    Args:\n",
        "    x (tf.Tensor) : input to the model\n",
        "    '''\n",
        "    batch_size = tf.shape(x)[0] # needed for zero_states\n",
        "\n",
        "    zero_states = self.lstm.zero_states(batch_size=batch_size) # reset LSTM states\n",
        "\n",
        "    out = self.read_in(x)\n",
        "    out = self.read_in_2(out)\n",
        "    out = self.lstm(out, zero_states)\n",
        "    out = self.out_layer(out)\n",
        "\n",
        "    return out"
      ],
      "metadata": {
        "id": "oagL6lQ4asM_"
      },
      "execution_count": 10,
      "outputs": []
    },
    {
      "cell_type": "code",
      "source": [
        "# training step\n",
        "@tf.function\n",
        "def train_step(model, inputs, targets, loss_fn, optimizer, loss_metric, accuracy_metric):\n",
        "    with tf.GradientTape() as tape:\n",
        "        predictions = model(inputs)\n",
        "        loss = loss_fn(targets, predictions[:,-1,:])\n",
        "    gradients = tape.gradient(loss, model.trainable_variables)\n",
        "    optimizer.apply_gradients(zip(gradients, model.trainable_variables))\n",
        "    logs = {}\n",
        "    accuracy_metric.update_state(targets, predictions[:,-1,:])\n",
        "    logs[accuracy_metric.name] = accuracy_metric.result()\n",
        "    loss_metric.update_state(loss)\n",
        "    logs[\"loss\"] = loss_metric.result()\n",
        "    return logs"
      ],
      "metadata": {
        "id": "WvKdCecWEw22"
      },
      "execution_count": 11,
      "outputs": []
    },
    {
      "cell_type": "code",
      "source": [
        "tf.keras.backend.clear_session()\n",
        "\n",
        "# hyperparameters\n",
        "epochs = 40\n",
        "learning_rate = 0.001\n",
        "\n",
        "# initialize the model\n",
        "model = MyModel()\n",
        "# initialize the loss function\n",
        "loss_fn = tf.keras.losses.BinaryCrossentropy()\n",
        "# initialize the optimizer\n",
        "optimizer = tf.keras.optimizers.Adam(learning_rate=learning_rate)\n",
        "\n",
        "# Metrics\n",
        "accuracy_metric = tf.keras.metrics.BinaryAccuracy()\n",
        "loss_metric = tf.keras.metrics.Mean()\n",
        "hist = {'loss': [], 'binary_accuracy': []}\n",
        "\n",
        "def reset_metrics(metrics):\n",
        "    # utility function to reset the state of metrics\n",
        "    for metric in metrics:\n",
        "        metric.reset_state()\n",
        "\n",
        "# training\n",
        "for epoch in range(epochs):\n",
        "    reset_metrics([accuracy_metric,loss_metric])\n",
        "    for inputs, targets in ds:\n",
        "        logs = train_step(model, inputs, targets, loss_fn, optimizer, loss_metric, accuracy_metric)\n",
        "    for key, value in logs.items():\n",
        "        hist[key].append(value)\n",
        "        \n",
        "    if epoch % 5 == 0:\n",
        "        print(f\"...Training results at the end of epoch {epoch}:\")\n",
        "        for key, value in logs.items():\n",
        "            print(f\"...{key}: {value:.4f}\")\n",
        "        print(\"\\n\")\n",
        "        "
      ],
      "metadata": {
        "colab": {
          "base_uri": "https://localhost:8080/"
        },
        "id": "K0GqZtONmKLF",
        "outputId": "8c6573b3-c953-4016-de38-1a1c28a2c63a"
      },
      "execution_count": 12,
      "outputs": [
        {
          "output_type": "stream",
          "name": "stdout",
          "text": [
            "...Training results at the end of epoch 0:\n",
            "...binary_accuracy: 0.5871\n",
            "...loss: 0.6708\n",
            "\n",
            "\n",
            "...Training results at the end of epoch 5:\n",
            "...binary_accuracy: 0.5913\n",
            "...loss: 0.6687\n",
            "\n",
            "\n",
            "...Training results at the end of epoch 10:\n",
            "...binary_accuracy: 0.5920\n",
            "...loss: 0.6680\n",
            "\n",
            "\n",
            "...Training results at the end of epoch 15:\n",
            "...binary_accuracy: 0.5925\n",
            "...loss: 0.6685\n",
            "\n",
            "\n",
            "...Training results at the end of epoch 20:\n",
            "...binary_accuracy: 0.5925\n",
            "...loss: 0.6681\n",
            "\n",
            "\n",
            "...Training results at the end of epoch 25:\n",
            "...binary_accuracy: 0.5938\n",
            "...loss: 0.6673\n",
            "\n",
            "\n",
            "...Training results at the end of epoch 30:\n",
            "...binary_accuracy: 0.5932\n",
            "...loss: 0.6679\n",
            "\n",
            "\n",
            "...Training results at the end of epoch 35:\n",
            "...binary_accuracy: 0.5918\n",
            "...loss: 0.6677\n",
            "\n",
            "\n"
          ]
        }
      ]
    },
    {
      "cell_type": "code",
      "source": [
        "import matplotlib.pyplot as plt\n",
        "%config InlineBackend.figure_format = 'retina'\n",
        "plt.rcParams['font.size'] = 15\n",
        "plt.plot(hist['loss'], label='Training loss')\n",
        "plt.plot(hist['binary_accuracy'], label='Training accuracy')\n",
        "plt.xlabel('Epochs')\n",
        "plt.xticks(np.arange(epochs, step=5))\n",
        "plt.legend()\n",
        "plt.show()"
      ],
      "metadata": {
        "colab": {
          "base_uri": "https://localhost:8080/",
          "height": 288
        },
        "id": "nocnkoqQMXwQ",
        "outputId": "e9fb7ae3-0a00-4478-9d0c-e09dcce6a43f"
      },
      "execution_count": 13,
      "outputs": [
        {
          "output_type": "display_data",
          "data": {
            "image/png": "[encoded data removed]",
            "text/plain": [
              "<Figure size 432x288 with 1 Axes>"
            ]
          },
          "metadata": {
            "image/png": {
              "width": 389,
              "height": 271
            },
            "needs_background": "light"
          }
        }
      ]
    }
  ]
}