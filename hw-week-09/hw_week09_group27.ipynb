{
  "nbformat": 4,
  "nbformat_minor": 0,
  "metadata": {
    "colab": {
      "name": "hw-week09-group27.ipynb",
      "provenance": [],
      "collapsed_sections": []
    },
    "kernelspec": {
      "name": "python3",
      "display_name": "Python 3"
    },
    "language_info": {
      "name": "python"
    },
    "accelerator": "GPU"
  },
  "cells": [
    {
      "cell_type": "markdown",
      "source": [
        "# Homework 09 — IANNwTF\n",
        "## Group 27\n",
        "Deadline: Jan 16, 2021 23:59\n",
        "\n",
        "<https://forms.gle/n6ERdhYx3uBPzuGn9>\n"
      ],
      "metadata": {
        "id": "2Qaj18msKDOK"
      }
    },
    {
      "cell_type": "code",
      "execution_count": 25,
      "metadata": {
        "id": "sd37kIBGJ8-U"
      },
      "outputs": [],
      "source": [
        "import numpy as np\n",
        "import tensorflow as tf\n",
        "import matplotlib.pyplot as plt"
      ]
    },
    {
      "cell_type": "markdown",
      "source": [
        "# The Quick, Draw! Dataset"
      ],
      "metadata": {
        "id": "qf7u6G_YeN1T"
      }
    },
    {
      "cell_type": "code",
      "source": [
        "import os\n",
        "import glob\n",
        "import imageio\n",
        "import matplotlib.pyplot as plt\n",
        "import numpy as np\n",
        "import PIL\n",
        "from tensorflow.keras import layers\n",
        "import time\n",
        "\n",
        "from IPython import display"
      ],
      "metadata": {
        "id": "M4X2hjL1eRSz"
      },
      "execution_count": 26,
      "outputs": []
    },
    {
      "cell_type": "code",
      "source": [
        "import urllib\n",
        "categories = [line.rstrip(b'\\n') for line in urllib.request.urlopen('https://raw.githubusercontent.com/googlecreativelab/quickdraw-dataset/master/categories.txt')]\n",
        "print(categories[:10])\n",
        "category = 'candle'"
      ],
      "metadata": {
        "colab": {
          "base_uri": "https://localhost:8080/"
        },
        "id": "EyVButk1eUGv",
        "outputId": "c64b832f-b929-4eac-89a8-ad5b72d95d09"
      },
      "execution_count": 27,
      "outputs": [
        {
          "output_type": "stream",
          "name": "stdout",
          "text": [
            "[b'aircraft carrier', b'airplane', b'alarm clock', b'ambulance', b'angel', b'animal migration', b'ant', b'anvil', b'apple', b'arm']\n"
          ]
        }
      ]
    },
    {
      "cell_type": "code",
      "source": [
        "# Creates a folder to download the original drawings into.\n",
        "# We chose to use the numpy format : 1x784 pixel vectors, with values going from 0 (white) to 255 (black). We reshape them later to 28x28 grids and normalize the pixel intensity to [-1, 1]\n",
        "\n",
        "if not os.path.isdir('npy_files'):\n",
        "    os.mkdir('npy_files')\n",
        "    \n",
        "url = f'https://storage.googleapis.com/quickdraw_dataset/full/numpy_bitmap/{category}.npy'  \n",
        "urllib.request.urlretrieve(url, f'npy_files/{category}.npy')\n",
        "\n",
        "images = np.load(f'npy_files/{category}.npy')\n",
        "print(f'{len(images)} images available')\n",
        "\n",
        "# You can limit the amount of images you use for training by setting :\n",
        "train_images = images[:10000]\n",
        "# You should also define a samller subset of the images for testing..\n",
        "test_images = images[100000:]\n",
        "\n",
        "print()\n",
        "print(f'{len(train_images)} images used for training')\n",
        "print(f'{len(test_images)} images used for testing')\n",
        "\n",
        "\n",
        "# Notice that this to numpy format contains 1x784 pixel vectors, with values going from 0 (white) to 255 (black). We reshape them later to 28x28 grids and normalize the pixel intensity to [-1, 1]"
      ],
      "metadata": {
        "colab": {
          "base_uri": "https://localhost:8080/"
        },
        "id": "HxTw2KjIeWE2",
        "outputId": "f2917eef-9667-4d2a-b5be-cfc8898f28a7"
      },
      "execution_count": 28,
      "outputs": [
        {
          "output_type": "stream",
          "name": "stdout",
          "text": [
            "141545 images available\n",
            "\n",
            "10000 images used for training\n",
            "41545 images used for testing\n"
          ]
        }
      ]
    },
    {
      "cell_type": "code",
      "source": [
        "# show example images\n",
        "npics = 5\n",
        "fig, ax = plt.subplots(nrows=1, ncols=npics, figsize=(15,3))\n",
        "ax = ax.flatten()\n",
        "for i in range(5):\n",
        "    ax[i].imshow(np.reshape(train_images[i], (28, 28)), cmap='gray', vmin=0, vmax=255)\n",
        "    ax[i].axis(\"off\")"
      ],
      "metadata": {
        "colab": {
          "base_uri": "https://localhost:8080/",
          "height": 174
        },
        "id": "Lide4TqhhIWv",
        "outputId": "b6df827e-bde6-4e52-9575-e912b7d924b8"
      },
      "execution_count": 29,
      "outputs": [
        {
          "output_type": "display_data",
          "data": {
            "image/png": "[encoded data removed]",
            "text/plain": [
              "<Figure size 1080x216 with 5 Axes>"
            ]
          },
          "metadata": {
            "needs_background": "light"
          }
        }
      ]
    },
    {
      "cell_type": "markdown",
      "source": [
        "# Preprocessing"
      ],
      "metadata": {
        "id": "pytsUrBwKYea"
      }
    },
    {
      "cell_type": "code",
      "source": [
        "def prepare_data(image_array):\n",
        "\n",
        "  # create dataset from array\n",
        "  ds = tf.data.Dataset.from_tensor_slices(image_array)\n",
        "  # cast tensors to float32\n",
        "  ds = ds.map(lambda img: tf.cast(img, tf.float32))\n",
        "  # reshape the pixel arrays to images\n",
        "  ds = ds.map(lambda img: tf.reshape(img, (28,28,1)))\n",
        "  # normalize (bring values to a range from -1 to 1)\n",
        "  ds = ds.map(lambda img: ((img/128.)-1.))\n",
        "  # shuffle, batch, prefetch\n",
        "  ds = ds.shuffle(1000).batch(32).prefetch(20)\n",
        "\n",
        "  return ds\n"
      ],
      "metadata": {
        "id": "eZC3DWYzfnEn"
      },
      "execution_count": 30,
      "outputs": []
    },
    {
      "cell_type": "code",
      "source": [
        "train_ds = prepare_data(train_images)\n",
        "test_ds = prepare_data(test_images)"
      ],
      "metadata": {
        "id": "w4rcURbQfVaQ"
      },
      "execution_count": 31,
      "outputs": []
    },
    {
      "cell_type": "markdown",
      "source": [
        "# Model: GAN"
      ],
      "metadata": {
        "id": "S_AaJR8jkCoD"
      }
    },
    {
      "cell_type": "code",
      "source": [
        "class Discriminator(tf.keras.Model):\n",
        "  def __init__(self):\n",
        "    super(Discriminator, self).__init__()\n",
        "    self.layers_1 = [# first convolution\n",
        "                     tf.keras.layers.Conv2D(16, (3,3), activation='relu', padding='same', input_shape=(28, 28, 1)),\n",
        "                     tf.keras.layers.Dropout(0.3)]\n",
        "    self.bn_1 = tf.keras.layers.BatchNormalization()\n",
        "    self.layers_2 = [tf.keras.layers.MaxPooling2D(2, 2),\n",
        "                     # second convolution\n",
        "                      tf.keras.layers.Conv2D(32, (3,3), activation='relu', padding='same'),\n",
        "                      tf.keras.layers.Dropout(0.3)]\n",
        "    self.bn_2 = tf.keras.layers.BatchNormalization()\n",
        "    self.layers_3 = [tf.keras.layers.MaxPooling2D(2, 2),\n",
        "                     # third convolution\n",
        "                      tf.keras.layers.Conv2D(64, (3,3), activation='relu', padding='same'),\n",
        "                      tf.keras.layers.Dropout(0.3)]\n",
        "    self.bn_3 = tf.keras.layers.BatchNormalization()\n",
        "    self.layers_4 = [tf.keras.layers.MaxPooling2D(2,2),\n",
        "                     # flatten, dense, output\n",
        "                    tf.keras.layers.Flatten(),\n",
        "                    tf.keras.layers.Dense(512, activation='relu'),\n",
        "                    tf.keras.layers.Dense(1, activation='sigmoid')]\n",
        "  \n",
        "  def call(self, x, training=True):\n",
        "    for layer in self.layers_1:\n",
        "      x = layer(x)\n",
        "    x = self.bn_1(x, training = training)\n",
        "    for layer in self.layers_2:\n",
        "      x = layer(x)\n",
        "    x = self.bn_2(x, training = training)\n",
        "    for layer in self.layers_3:\n",
        "      x = layer(x)\n",
        "    x = self.bn_3(x, training = training)\n",
        "    for layer in self.layers_4:\n",
        "      x = layer(x)\n",
        "\n",
        "    return x\n"
      ],
      "metadata": {
        "id": "I3xCHM3jkC6M"
      },
      "execution_count": 32,
      "outputs": []
    },
    {
      "cell_type": "code",
      "source": [
        "class Generator(tf.keras.Model):\n",
        "  def __init__(self):\n",
        "    super(Generator, self).__init__()\n",
        "    self.layers_list = []\n",
        "\n",
        "  \n",
        "  def call(self, x):\n",
        "    for layer in self.layers_list:\n",
        "      x = layer(x)\n",
        "    return x\n",
        "\n",
        "\n"
      ],
      "metadata": {
        "id": "AUAmIuqb2-ex"
      },
      "execution_count": 33,
      "outputs": []
    },
    {
      "cell_type": "markdown",
      "source": [
        "# Training"
      ],
      "metadata": {
        "id": "L2L0O8Aqpm_9"
      }
    }
  ]
}