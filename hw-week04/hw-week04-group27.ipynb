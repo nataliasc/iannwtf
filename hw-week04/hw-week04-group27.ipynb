{
 "cells": [
  {
   "cell_type": "markdown",
   "id": "broke-roulette",
   "metadata": {},
   "source": [
    "# Homework 04 — IANNwTF\n",
    "## Group 27\n",
    "Deadline: Nov 21, 2021 23:59\n",
    "\n",
    "<https://forms.gle/8qwiuUXCfLjKGeg67>"
   ]
  },
  {
   "cell_type": "markdown",
   "id": "indie-manitoba",
   "metadata": {},
   "source": [
    "## Dataset"
   ]
  },
  {
   "cell_type": "code",
   "execution_count": 1,
   "id": "limiting-calgary",
   "metadata": {},
   "outputs": [
    {
     "name": "stdout",
     "output_type": "stream",
     "text": [
      "(1599, 12)\n"
     ]
    },
    {
     "data": {
      "text/html": [
       "<div>\n",
       "<style scoped>\n",
       "    .dataframe tbody tr th:only-of-type {\n",
       "        vertical-align: middle;\n",
       "    }\n",
       "\n",
       "    .dataframe tbody tr th {\n",
       "        vertical-align: top;\n",
       "    }\n",
       "\n",
       "    .dataframe thead th {\n",
       "        text-align: right;\n",
       "    }\n",
       "</style>\n",
       "<table border=\"1\" class=\"dataframe\">\n",
       "  <thead>\n",
       "    <tr style=\"text-align: right;\">\n",
       "      <th></th>\n",
       "      <th>fixed acidity</th>\n",
       "      <th>volatile acidity</th>\n",
       "      <th>citric acid</th>\n",
       "      <th>residual sugar</th>\n",
       "      <th>chlorides</th>\n",
       "      <th>free sulfur dioxide</th>\n",
       "      <th>total sulfur dioxide</th>\n",
       "      <th>density</th>\n",
       "      <th>pH</th>\n",
       "      <th>sulphates</th>\n",
       "      <th>alcohol</th>\n",
       "      <th>quality</th>\n",
       "    </tr>\n",
       "  </thead>\n",
       "  <tbody>\n",
       "    <tr>\n",
       "      <th>0</th>\n",
       "      <td>7.4</td>\n",
       "      <td>0.70</td>\n",
       "      <td>0.00</td>\n",
       "      <td>1.9</td>\n",
       "      <td>0.076</td>\n",
       "      <td>11.0</td>\n",
       "      <td>34.0</td>\n",
       "      <td>0.9978</td>\n",
       "      <td>3.51</td>\n",
       "      <td>0.56</td>\n",
       "      <td>9.4</td>\n",
       "      <td>5</td>\n",
       "    </tr>\n",
       "    <tr>\n",
       "      <th>1</th>\n",
       "      <td>7.8</td>\n",
       "      <td>0.88</td>\n",
       "      <td>0.00</td>\n",
       "      <td>2.6</td>\n",
       "      <td>0.098</td>\n",
       "      <td>25.0</td>\n",
       "      <td>67.0</td>\n",
       "      <td>0.9968</td>\n",
       "      <td>3.20</td>\n",
       "      <td>0.68</td>\n",
       "      <td>9.8</td>\n",
       "      <td>5</td>\n",
       "    </tr>\n",
       "    <tr>\n",
       "      <th>2</th>\n",
       "      <td>7.8</td>\n",
       "      <td>0.76</td>\n",
       "      <td>0.04</td>\n",
       "      <td>2.3</td>\n",
       "      <td>0.092</td>\n",
       "      <td>15.0</td>\n",
       "      <td>54.0</td>\n",
       "      <td>0.9970</td>\n",
       "      <td>3.26</td>\n",
       "      <td>0.65</td>\n",
       "      <td>9.8</td>\n",
       "      <td>5</td>\n",
       "    </tr>\n",
       "    <tr>\n",
       "      <th>3</th>\n",
       "      <td>11.2</td>\n",
       "      <td>0.28</td>\n",
       "      <td>0.56</td>\n",
       "      <td>1.9</td>\n",
       "      <td>0.075</td>\n",
       "      <td>17.0</td>\n",
       "      <td>60.0</td>\n",
       "      <td>0.9980</td>\n",
       "      <td>3.16</td>\n",
       "      <td>0.58</td>\n",
       "      <td>9.8</td>\n",
       "      <td>6</td>\n",
       "    </tr>\n",
       "    <tr>\n",
       "      <th>4</th>\n",
       "      <td>7.4</td>\n",
       "      <td>0.70</td>\n",
       "      <td>0.00</td>\n",
       "      <td>1.9</td>\n",
       "      <td>0.076</td>\n",
       "      <td>11.0</td>\n",
       "      <td>34.0</td>\n",
       "      <td>0.9978</td>\n",
       "      <td>3.51</td>\n",
       "      <td>0.56</td>\n",
       "      <td>9.4</td>\n",
       "      <td>5</td>\n",
       "    </tr>\n",
       "  </tbody>\n",
       "</table>\n",
       "</div>"
      ],
      "text/plain": [
       "   fixed acidity  volatile acidity  citric acid  residual sugar  chlorides  \\\n",
       "0            7.4              0.70         0.00             1.9      0.076   \n",
       "1            7.8              0.88         0.00             2.6      0.098   \n",
       "2            7.8              0.76         0.04             2.3      0.092   \n",
       "3           11.2              0.28         0.56             1.9      0.075   \n",
       "4            7.4              0.70         0.00             1.9      0.076   \n",
       "\n",
       "   free sulfur dioxide  total sulfur dioxide  density    pH  sulphates  \\\n",
       "0                 11.0                  34.0   0.9978  3.51       0.56   \n",
       "1                 25.0                  67.0   0.9968  3.20       0.68   \n",
       "2                 15.0                  54.0   0.9970  3.26       0.65   \n",
       "3                 17.0                  60.0   0.9980  3.16       0.58   \n",
       "4                 11.0                  34.0   0.9978  3.51       0.56   \n",
       "\n",
       "   alcohol  quality  \n",
       "0      9.4        5  \n",
       "1      9.8        5  \n",
       "2      9.8        5  \n",
       "3      9.8        6  \n",
       "4      9.4        5  "
      ]
     },
     "execution_count": 1,
     "metadata": {},
     "output_type": "execute_result"
    }
   ],
   "source": [
    "import pandas as pd\n",
    "# load the csv into a dataframe using the url\n",
    "df_wine_quality = pd.read_csv(filepath_or_buffer=\"https://archive.ics.uci.edu/ml/machine-learning-databases/wine-quality/winequality-red.csv\",\n",
    "                             sep=\";\")\n",
    "\n",
    "# have a look at the df\n",
    "print(df_wine_quality.shape)\n",
    "df_wine_quality.head()"
   ]
  },
  {
   "cell_type": "markdown",
   "id": "associate-toner",
   "metadata": {},
   "source": [
    "The column `quality` corresponds to the wine expert rating. Therefore, this column represents the target.\n",
    "\n",
    "All other columns constitute the feature vector.\n"
   ]
  },
  {
   "cell_type": "code",
   "execution_count": 2,
   "id": "brutal-symphony",
   "metadata": {},
   "outputs": [],
   "source": [
    "import matplotlib.pyplot as plt\n",
    "import seaborn as sns\n",
    "import numpy as np\n",
    "%config InlineBackend.figure_format = 'retina'\n",
    "plt.rcParams['font.size'] = 15\n",
    "\n",
    "# function to create a histogram of the desired df column\n",
    "def createSubplotHist(data, x, ax, bins):\n",
    "    '''\n",
    "    data is a pandas data frame\n",
    "    x is the variable to be plotted (str)\n",
    "    ax is the ax object\n",
    "    bins is the number of bins (int)\n",
    "    '''\n",
    "    sns.histplot(data=data, x=data[x], ax=ax, bins=bins)\n",
    "    ax.set_ylabel('')\n",
    "    ax.spines['top'].set_visible(False)\n",
    "    ax.spines['right'].set_visible(False)\n",
    "    total = float(len(data))\n",
    "    addPercentages(data, x, total, ax)\n",
    "\n",
    "# function to add percentages on top of the bars\n",
    "def addPercentages(data, var, N, ax):\n",
    "    '''\n",
    "    data is a pandas data frame\n",
    "    var is the variable to be plotted (str)\n",
    "    N is the number of datapoints (float)\n",
    "    ax is the ax object\n",
    "    '''    \n",
    "    percentages = data[var].value_counts(normalize=True).sort_index() * 100\n",
    "    percentages = percentages.values\n",
    "    for i, p in enumerate(ax.patches):\n",
    "        percentage = percentages[i]\n",
    "        x = p.get_x() + p.get_width()\n",
    "        y = p.get_height()\n",
    "        tex = \"{}%\".format(percentage.round(1))\n",
    "\n",
    "        ax.annotate(tex, (x, y), ha='right', xytext=(0, 4),\n",
    "                textcoords='offset points',)"
   ]
  },
  {
   "cell_type": "code",
   "execution_count": 3,
   "id": "driven-ceremony",
   "metadata": {
    "scrolled": false
   },
   "outputs": [
    {
     "data": {
      "image/png": "[encoded data removed]",
      "text/plain": [
       "<Figure size 432x288 with 1 Axes>"
      ]
     },
     "metadata": {
      "image/png": {
       "height": 299,
       "width": 381
      },
      "needs_background": "light"
     },
     "output_type": "display_data"
    }
   ],
   "source": [
    "fig, ax = plt.subplots(nrows=1, ncols=1)\n",
    "fig.suptitle('Target distribution', fontsize=16)\n",
    "sns.set(style=\"white\")\n",
    "\n",
    "createSubplotHist(df_wine_quality, \"quality\", ax, np.array(sorted(df_wine_quality[\"quality\"].unique()))-0.5)"
   ]
  },
  {
   "cell_type": "code",
   "execution_count": 4,
   "id": "alpine-velvet",
   "metadata": {},
   "outputs": [
    {
     "name": "stdout",
     "output_type": "stream",
     "text": [
      "(1119, 12) (178, 12) (187, 12)\n"
     ]
    }
   ],
   "source": [
    "# Split the dataset into a train, test and validation datasets\n",
    "\n",
    "df_train = df_wine_quality.sample(frac=.7) # use 70% of the dataset for the training set \n",
    "df_valid = pd.merge(df_wine_quality, df_train, indicator=True, how='outer').query('_merge==\"left_only\"').drop('_merge', axis=1)\n",
    "df_test = df_valid.sample(frac=.5)\n",
    "df_valid = pd.merge(df_valid, df_test, indicator=True, how='outer').query('_merge==\"left_only\"').drop('_merge', axis=1)\n",
    "print(df_train.shape,df_valid.shape,df_test.shape)"
   ]
  },
  {
   "cell_type": "code",
   "execution_count": 5,
   "id": "solved-brand",
   "metadata": {},
   "outputs": [],
   "source": [
    "# Separate the labels from the input and store them\n",
    "\n",
    "labels_train = df_train.pop('quality')\n",
    "labels_test = df_test.pop('quality')\n",
    "labels_valid = df_valid.pop('quality')"
   ]
  },
  {
   "cell_type": "code",
   "execution_count": 6,
   "id": "documentary-greeting",
   "metadata": {},
   "outputs": [],
   "source": [
    "# build tensorflow datasets from the features and the targets\n",
    "import tensorflow as tf\n",
    "\n",
    "ds_train = tf.data.Dataset.from_tensor_slices((df_train.values, labels_train.values))\n",
    "ds_test = tf.data.Dataset.from_tensor_slices((df_test.values, labels_test.values))\n",
    "ds_valid = tf.data.Dataset.from_tensor_slices((df_valid.values, labels_valid.values))"
   ]
  },
  {
   "cell_type": "code",
   "execution_count": 7,
   "id": "severe-hudson",
   "metadata": {
    "scrolled": true
   },
   "outputs": [
    {
     "name": "stdout",
     "output_type": "stream",
     "text": [
      "Features: [ 9.4    0.43   0.24   2.8    0.092 14.    45.     0.998  3.19   0.73\n",
      " 10.   ], Target: 6\n",
      "Features: [12.3     0.39    0.63    2.3     0.091   6.     18.      1.0004  3.16\n",
      "  0.49    9.5   ], Target: 5\n",
      "Features: [ 8.8      0.27     0.39     2.       0.1     20.      27.       0.99546\n",
      "  3.15     0.69    11.2    ], Target: 6\n"
     ]
    }
   ],
   "source": [
    "for features, target in ds_train.take(3):\n",
    "    print('Features: {}, Target: {}'.format(features, target))"
   ]
  },
  {
   "cell_type": "code",
   "execution_count": 8,
   "id": "healthy-knowing",
   "metadata": {},
   "outputs": [],
   "source": [
    "# median quality of all wines\n",
    "med = pd.read_csv(filepath_or_buffer=\"https://archive.ics.uci.edu/ml/machine-learning-databases/wine-quality/winequality-red.csv\",\n",
    "                             sep=\";\")[\"quality\"].median()\n",
    "\n",
    "# function to make the target binary\n",
    "def make_binary(target):\n",
    "    '''\n",
    "    receives a target (int)\n",
    "    returns a target fit for a binary classification task (threshold: median of the original data)\n",
    "    '''\n",
    "    temp = 1 if target > int(med) else 0\n",
    "    return temp"
   ]
  },
  {
   "cell_type": "code",
   "execution_count": 9,
   "id": "serious-winter",
   "metadata": {},
   "outputs": [],
   "source": [
    "# data pipeline\n",
    "def prepare_data(ds):\n",
    "    # create binary targets\n",
    "    ds = ds.map(lambda features, target: (features, make_binary(target)))\n",
    "    # shuffle, batch and prefetch the data\n",
    "    ds = ds.shuffle(500).batch(32).prefetch(20)\n",
    "    return ds"
   ]
  },
  {
   "cell_type": "code",
   "execution_count": 10,
   "id": "modular-vegetarian",
   "metadata": {},
   "outputs": [],
   "source": [
    "# prepare the training and the test dataset\n",
    "train_dataset = ds_train.apply(prepare_data)\n",
    "test_dataset = ds_test.apply(prepare_data)\n",
    "valid_dataset = ds_valid.apply(prepare_data)"
   ]
  },
  {
   "cell_type": "markdown",
   "id": "limited-correspondence",
   "metadata": {},
   "source": [
    "# Model"
   ]
  },
  {
   "cell_type": "code",
   "execution_count": 11,
   "id": "sharing-homeless",
   "metadata": {},
   "outputs": [],
   "source": [
    "# Custom Layer\n",
    "class SimpleDense(tf.keras.layers.Layer):\n",
    "    '''\n",
    "    Custom layer function, which inherits from the keras.layers.Layer class\n",
    "\n",
    "    Functions:\n",
    "    init: constructor\n",
    "    call: calculates output\n",
    "    build: creates weights and bias when model is called for the first time\n",
    "    '''\n",
    "\n",
    "    def __init__(self, units, activation):\n",
    "        '''\n",
    "        Constructs a fully connected layer\n",
    "        \n",
    "        Args:\n",
    "          units (int): number of perceptrons of the layer\n",
    "          activation (tf.nn activation function): activation function of the layer\n",
    "        '''\n",
    "        super(SimpleDense, self).__init__()\n",
    "        self.units = units\n",
    "        self.activation = activation\n",
    "\n",
    "    def build(self, input_shape): \n",
    "        '''\n",
    "        Creates random weights and bias from a normal distribution\n",
    "\n",
    "        Args:\n",
    "          input_shape: dimension of the input tensor\n",
    "        '''\n",
    "        self.w = self.add_weight(shape=(input_shape[-1], self.units),\n",
    "                               initializer='random_normal',\n",
    "                               trainable=True)\n",
    "        self.b = self.add_weight(shape=(self.units,),\n",
    "                               initializer='random_normal',\n",
    "                               trainable=True)\n",
    "\n",
    "    def call(self, inputs): \n",
    "        '''\n",
    "        Calculates the output of the layer (forward step)\n",
    "\n",
    "        Args:\n",
    "          inputs: input tensor of the layer\n",
    "        \n",
    "        Returns:\n",
    "          x: output of the layer\n",
    "        '''\n",
    "\n",
    "        x = tf.matmul(inputs, self.w) + self.b\n",
    "        x = self.activation(x)\n",
    "        return x"
   ]
  },
  {
   "cell_type": "code",
   "execution_count": 12,
   "id": "ranging-sailing",
   "metadata": {},
   "outputs": [],
   "source": [
    "# Custom Model\n",
    "class MyModel(tf.keras.Model):\n",
    "    \"\"\" \n",
    "    Custom MLP model for a binary classification task, which inherits from the keras.Model class\n",
    "\n",
    "    Functions:\n",
    "    init: constructor\n",
    "    call: performs forward pass\n",
    "    \"\"\"\n",
    "    \n",
    "    def __init__(self):\n",
    "        '''\n",
    "        Constructs the model with 1 hidden layer (16 perceptrons) and an output layer with 1 output neuron\n",
    "        '''\n",
    "        super(MyModel, self).__init__()\n",
    "        self.dense = SimpleDense(16, activation=tf.nn.sigmoid) \n",
    "        self.out = SimpleDense(1, activation=tf.nn.sigmoid) # output layer with 1 unit since we have a binary task\n",
    "\n",
    "    def call(self, inputs):\n",
    "        '''\n",
    "        Performs a forward step in our MLP\n",
    "        \n",
    "        Args:\n",
    "          inputs (Tensor): input to the model\n",
    "        \n",
    "        Returns: \n",
    "          x: output of the model\n",
    "        '''\n",
    "        x = self.dense(inputs)\n",
    "        x = self.out(x)\n",
    "        return x"
   ]
  },
  {
   "cell_type": "markdown",
   "id": "photographic-visibility",
   "metadata": {},
   "source": [
    "# Training"
   ]
  },
  {
   "cell_type": "code",
   "execution_count": 13,
   "id": "controlling-price",
   "metadata": {},
   "outputs": [],
   "source": [
    "def train_step(model, inputs, target, loss_function, optimizer):\n",
    "    '''\n",
    "    Forward and backward pass for one datapoint of the training set\n",
    "\n",
    "    Args:\n",
    "      model: the created tf model\n",
    "      inputs: tensor of the input features\n",
    "      target: target corresponding to the input features\n",
    "      loss_funcion: tensorflow loss function\n",
    "      optimizer: tensorflow optimizer\n",
    "    \n",
    "    Returns:\n",
    "      loss: loss for the datapoint\n",
    "    '''\n",
    "    with tf.GradientTape() as tape:\n",
    "        # forward step\n",
    "        prediction = model(inputs, training=True)\n",
    "        # calculate loss\n",
    "        loss = loss_function(target, prediction)\n",
    "        # calculate gradients\n",
    "        gradients = tape.gradient(loss, model.trainable_variables)\n",
    "    # apply optimizer\n",
    "    optimizer.apply_gradients(zip(gradients, model.trainable_variables))\n",
    "    return loss\n",
    "\n",
    "def test(model, test_data, loss_function):\n",
    "    '''\n",
    "    Tests our model by performing forward pass and calculating loss and accuracy.\n",
    "\n",
    "    Args:\n",
    "      model: the created tf model\n",
    "      test_data: the prepared test dataset\n",
    "      loss_funcion: tensorflow loss function\n",
    "    \n",
    "    Returns:\n",
    "      test_loss: mean loss of this epoch\n",
    "      test_accuracy: mean accuracy of this epoch\n",
    "    \n",
    "    '''    \n",
    "    # initialize lists for accuracys and loss \n",
    "    test_accuracy_aggregator = []\n",
    "    test_loss_aggregator = []\n",
    "    \n",
    "    for (inputs, target) in test_data:\n",
    "        # forward step\n",
    "        prediction = model(inputs)\n",
    "        # calculate loss and accuracy and add them to the respective lists\n",
    "        sample_test_loss = loss_function(target, prediction)\n",
    "        sample_test_accuracy =  np.round(target, 0) == np.round(prediction,0)\n",
    "        sample_test_accuracy = np.mean(sample_test_accuracy)\n",
    "        test_loss_aggregator.append(sample_test_loss.numpy())\n",
    "        test_accuracy_aggregator.append(np.mean(sample_test_accuracy))\n",
    "    \n",
    "    # calculate the mean of the loss and accuracy (for this epoch)\n",
    "    test_loss = tf.reduce_mean(test_loss_aggregator)\n",
    "    test_accuracy = tf.reduce_mean(test_accuracy_aggregator)\n",
    "    \n",
    "    return test_loss, test_accuracy"
   ]
  },
  {
   "cell_type": "code",
   "execution_count": 14,
   "id": "southern-encounter",
   "metadata": {},
   "outputs": [
    {
     "name": "stdout",
     "output_type": "stream",
     "text": [
      "Epoch: 0 starting with accuracy 0.84\n",
      "Epoch: 1 starting with accuracy 0.84\n",
      "Epoch: 2 starting with accuracy 0.83\n",
      "Epoch: 3 starting with accuracy 0.83\n",
      "Epoch: 4 starting with accuracy 0.83\n",
      "Epoch: 5 starting with accuracy 0.83\n",
      "Epoch: 6 starting with accuracy 0.83\n",
      "Epoch: 7 starting with accuracy 0.84\n",
      "Epoch: 8 starting with accuracy 0.84\n",
      "Epoch: 9 starting with accuracy 0.83\n"
     ]
    }
   ],
   "source": [
    "tf.keras.backend.clear_session()\n",
    "\n",
    "# hyperparameters\n",
    "num_epochs = 10\n",
    "learning_rate = 0.01\n",
    "\n",
    "# initialize the model\n",
    "model = MyModel()\n",
    "# initialize the loss function\n",
    "cross_entropy_loss = tf.keras.losses.BinaryCrossentropy()\n",
    "# initialize the optimizer: SGD with default parameters\n",
    "optimizer = tf.keras.optimizers.SGD(learning_rate)\n",
    "\n",
    "# initialize lists for later visualization.\n",
    "train_losses = []\n",
    "\n",
    "test_losses = []\n",
    "test_accuracies = []\n",
    "\n",
    "# testing once before we begin\n",
    "test_loss, test_accuracy = test(model, test_dataset, cross_entropy_loss)\n",
    "test_losses.append(test_loss)\n",
    "test_accuracies.append(test_accuracy)\n",
    "\n",
    "# check how model performs on train data once before we begin\n",
    "train_loss, _ = test(model, train_dataset, cross_entropy_loss)\n",
    "train_losses.append(train_loss)\n",
    "\n",
    "# we train for num_epochs epochs\n",
    "for epoch in range(num_epochs):\n",
    "    print('Epoch: {0} starting with accuracy {1:.2f}'.format(epoch,test_accuracies[-1]))\n",
    "\n",
    "    # training\n",
    "    epoch_loss_agg = []\n",
    "    for input,target in train_dataset:\n",
    "        train_loss = train_step(model, input, target, cross_entropy_loss, optimizer)\n",
    "        epoch_loss_agg.append(train_loss)\n",
    "    \n",
    "    # track training loss\n",
    "    train_losses.append(tf.reduce_mean(epoch_loss_agg))\n",
    "\n",
    "    # testing\n",
    "    test_loss, test_accuracy = test(model, test_dataset, cross_entropy_loss)\n",
    "    test_losses.append(test_loss)\n",
    "    test_accuracies.append(test_accuracy)"
   ]
  },
  {
   "cell_type": "code",
   "execution_count": 15,
   "id": "median-thomas",
   "metadata": {},
   "outputs": [
    {
     "data": {
      "image/png": "[encoded data removed]",
      "text/plain": [
       "<Figure size 432x288 with 1 Axes>"
      ]
     },
     "metadata": {
      "image/png": {
       "height": 266,
       "width": 373
      }
     },
     "output_type": "display_data"
    }
   ],
   "source": [
    "plt.figure()\n",
    "line1, = plt.plot(train_losses)\n",
    "line2, = plt.plot(test_losses)\n",
    "line3, = plt.plot(test_accuracies)\n",
    "plt.xlabel(\"Epochs\")\n",
    "plt.legend((line1,line2,line3),(\"Training loss\",\"Test loss\", \"Accuracy\"))\n",
    "plt.show()"
   ]
  },
  {
   "cell_type": "markdown",
   "id": "beautiful-liberty",
   "metadata": {},
   "source": [
    "# Fine-tuning"
   ]
  },
  {
   "cell_type": "code",
   "execution_count": 16,
   "id": "ranging-consortium",
   "metadata": {},
   "outputs": [],
   "source": [
    "# model with a dropout layer\n",
    "class DropoutModel(tf.keras.Model):\n",
    "    \"\"\" \n",
    "    Custom MLP model for a binary classification task, which inherits from the keras.Model class\n",
    "\n",
    "    Functions:\n",
    "    init: constructor\n",
    "    call: performs forward pass\n",
    "    \"\"\"\n",
    "    \n",
    "    def __init__(self):\n",
    "        '''\n",
    "        Constructs the model with a hidden layer, a dropout layer, and an output layer with one output neuron\n",
    "        '''\n",
    "        super(DropoutModel, self).__init__()\n",
    "        self.dense = SimpleDense(16, activation=tf.nn.sigmoid) # hidden layer\n",
    "        self.dropout = tf.keras.layers.Dropout(0.5) # dropout layer\n",
    "        self.out = SimpleDense(1, activation=tf.nn.sigmoid)\n",
    "\n",
    "    def call(self, inputs, training=False):\n",
    "        '''\n",
    "        Performs a forward step in our MLP\n",
    "        \n",
    "        Args:\n",
    "          inputs (Tensor): input to the model\n",
    "        \n",
    "        Returns: \n",
    "          x: output of the model\n",
    "        '''\n",
    "        x = self.dense(inputs)\n",
    "        x = self.dropout(x, training=training)\n",
    "        x = self.out(x)\n",
    "        return x"
   ]
  },
  {
   "cell_type": "code",
   "execution_count": 17,
   "id": "worldwide-norman",
   "metadata": {},
   "outputs": [
    {
     "data": {
      "image/png": "[encoded data removed]",
      "text/plain": [
       "<Figure size 864x288 with 3 Axes>"
      ]
     },
     "metadata": {
      "image/png": {
       "height": 278,
       "width": 852
      }
     },
     "output_type": "display_data"
    }
   ],
   "source": [
    "# compare results from different optimisers\n",
    "import copy\n",
    "\n",
    "def compare_optimizers(max_steps=10):\n",
    "    \n",
    "    ADA_DICT = [tf.keras.optimizers.Adagrad(learning_rate=0.01), 'Adagrad']\n",
    "    RMS_DICT = [tf.keras.optimizers.RMSprop(learning_rate=0.01), 'RMSprop']\n",
    "    ADAM_DICT = [tf.keras.optimizers.Adam(learning_rate=0.01), 'Adam']\n",
    "    ALL_DICTS = [ADA_DICT, RMS_DICT, ADAM_DICT]\n",
    "    \n",
    "    dropout_model = DropoutModel()\n",
    "    cross_entropy_loss = tf.keras.losses.BinaryCrossentropy()\n",
    "    \n",
    "    TRAIN_LOSS = {}\n",
    "    TEST_LOSS = {}\n",
    "    TEST_ACC = {}\n",
    "    \n",
    "    for opt_dict in ALL_DICTS:\n",
    "        optimizer, opt_name = opt_dict\n",
    "        TRAIN_LOSS[opt_name] = []\n",
    "        TEST_LOSS[opt_name] = []\n",
    "        TEST_ACC[opt_name] = []\n",
    "        \n",
    "\n",
    "        model = copy.deepcopy(dropout_model)\n",
    "\n",
    "        for step in range(max_steps):\n",
    "            loss_agg = []\n",
    "            for input,target in train_dataset:\n",
    "                train_loss = train_step(model, input, target, cross_entropy_loss, optimizer)\n",
    "                loss_agg.append(train_loss)\n",
    "            TRAIN_LOSS[opt_name].append(tf.reduce_mean(epoch_loss_agg))\n",
    "            test_loss, test_accuracy = test(model, test_dataset, cross_entropy_loss)\n",
    "            TEST_LOSS[opt_name].append(test_loss)\n",
    "            TEST_ACC[opt_name].append(test_accuracy)\n",
    "                \n",
    "    fig, axs = plt.subplots(1, len(ALL_DICTS), figsize=(12, 4))\n",
    "    for ax, optim_dict in zip(axs, ALL_DICTS):\n",
    "        opt_name = optim_dict[1]\n",
    "        ax.plot(range(max_steps), TRAIN_LOSS[opt_name], alpha=0.8, label = \"Training loss\")\n",
    "        ax.plot(range(max_steps), TEST_LOSS[opt_name], alpha=0.8, label = \"Test loss\")\n",
    "        ax.plot(range(max_steps), TEST_ACC[opt_name], alpha=0.8, label = \"Accuracy\")\n",
    "        ax.set_title(opt_name)\n",
    "        ax.set_xlabel('Iteration')\n",
    "        ax.legend()\n",
    "        ax.set_ylim(0, 1)\n",
    "    plt.tight_layout()\n",
    "    plt.show()\n",
    "compare_optimizers()"
   ]
  }
 ],
 "metadata": {
  "kernelspec": {
   "display_name": "Python 3",
   "language": "python",
   "name": "python3"
  },
  "language_info": {
   "codemirror_mode": {
    "name": "ipython",
    "version": 3
   },
   "file_extension": ".py",
   "mimetype": "text/x-python",
   "name": "python",
   "nbconvert_exporter": "python",
   "pygments_lexer": "ipython3",
   "version": "3.7.9"
  }
 },
 "nbformat": 4,
 "nbformat_minor": 5
}
