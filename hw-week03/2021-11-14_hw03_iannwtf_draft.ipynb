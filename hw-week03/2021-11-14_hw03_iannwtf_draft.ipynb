{
 "cells": [
  {
   "cell_type": "markdown",
   "id": "undefined-compensation",
   "metadata": {},
   "source": [
    "# Homework 03 — IANNwTF\n",
    "## Group 27\n",
    "Deadline: Nov 14, 2021 23:59\n",
    "\n",
    "<https://forms.gle/8qwiuUXCfLjKGeg67>"
   ]
  },
  {
   "cell_type": "code",
   "execution_count": 1,
   "id": "compatible-london",
   "metadata": {},
   "outputs": [],
   "source": [
    "import numpy as np\n",
    "import tensorflow as tf\n",
    "import matplotlib.pyplot as plt\n",
    "%config InlineBackend.figure_format = 'retina'\n",
    "plt.rcParams['font.size'] = 15"
   ]
  },
  {
   "cell_type": "markdown",
   "id": "increasing-tribune",
   "metadata": {},
   "source": [
    "## Data set\n",
    "Load the data set using 100.000 examples for training and 1000 for testing\n",
    "\n",
    "Prepare the data\n",
    "* convert strings to one-hot-vectors for encoding the nucleotides (A, C, G, T)\n",
    "* one-hot encode the labels"
   ]
  },
  {
   "cell_type": "code",
   "execution_count": 2,
   "id": "monetary-slovak",
   "metadata": {},
   "outputs": [],
   "source": [
    "import tensorflow_datasets as tfds\n",
    "train_ds, test_ds = tfds.load('genomics_ood', split = ['train[:100000]', 'test[:1000]'], as_supervised = True)\n",
    "\n",
    "# helper function to create one-hot-vectors for encoding the nucleotides (A, C, G, T)\n",
    "def onehotify(tensor):\n",
    "    vocab ={'A':'1', 'C': '2', 'G':'3', 'T':'0'}\n",
    "    for key in vocab.keys():\n",
    "        tensor = tf.strings.regex_replace(tensor, key, vocab[key])\n",
    "        split = tf.strings.bytes_split(tensor)\n",
    "        labels = tf.cast(tf.strings.to_number(split), tf.uint8)\n",
    "        onehot = tf.one_hot(labels, 4)\n",
    "        onehot = tf.reshape(onehot, (-1,))\n",
    "    return onehot\n",
    "\n",
    "train_ds = train_ds.map(lambda x, y: (onehotify(x), tf.one_hot(y, 10)))\n",
    "test_ds = test_ds.map(lambda x, y: (onehotify(x), tf.one_hot(y, 10)))\n",
    "\n",
    "train_dataset = train_ds.batch(128)\n",
    "train_dataset = train_dataset.shuffle(buffer_size=128)\n",
    "\n",
    "test_dataset = test_ds.batch(128)"
   ]
  },
  {
   "cell_type": "markdown",
   "id": "useful-webmaster",
   "metadata": {},
   "source": [
    "## Model\n",
    "A simple fully connected feed forward neural network with the following layers:\n",
    "\n",
    "* Hidden layer 1:  256 units, with sigmoid activation function\n",
    "* Hidden layer 2:  256 units, with sigmoid activation function. \n",
    "* Output:  10 units.  With softmax activation function"
   ]
  },
  {
   "cell_type": "code",
   "execution_count": 3,
   "id": "hispanic-storage",
   "metadata": {},
   "outputs": [],
   "source": [
    "from tensorflow.keras import Model\n",
    "from tensorflow.keras.layers import Layer\n",
    "\n",
    "class Model(Layer):\n",
    "    \n",
    "    def __init__(self):\n",
    "        super(Model, self).__init__()\n",
    "        self.hidden_layer_1 = tf.keras.layers.Dense(units=256,\n",
    "                                               activation=tf.keras.activations.sigmoid\n",
    "                                               )\n",
    "        self.hidden_layer_2 = tf.keras.layers.Dense(units=256,\n",
    "                                               activation=tf.keras.activations.sigmoid\n",
    "                                               )\n",
    "        self.output_layer = tf.keras.layers.Dense(units=10,\n",
    "                                               activation=tf.keras.activations.softmax\n",
    "                                               )\n",
    "        \n",
    "    def call(self, x):\n",
    "\n",
    "        x = self.hidden_layer_1(x)\n",
    "        x = self.hidden_layer_2(x)\n",
    "        x = self.output_layer(x)\n",
    "        return x"
   ]
  },
  {
   "cell_type": "markdown",
   "id": "celtic-thread",
   "metadata": {},
   "source": [
    "## Train and test functions"
   ]
  },
  {
   "cell_type": "code",
   "execution_count": 4,
   "id": "faced-abortion",
   "metadata": {},
   "outputs": [],
   "source": [
    "def train_step(model, input, target, loss_function, optimizer):\n",
    "    with tf.GradientTape() as tape:\n",
    "        prediction = model(input)\n",
    "        loss = loss_function(target, prediction)\n",
    "        gradients = tape.gradient(loss, model.trainable_variables)\n",
    "        optimizer.apply_gradients(zip(gradients, model.trainable_variables))\n",
    "    return loss \n",
    "\n",
    "def test(model, test_data, loss_function):\n",
    "    test_accuracy_aggregator = []\n",
    "    test_loss_aggregator = []\n",
    "    for (input, target) in test_data:\n",
    "        prediction = model(input)\n",
    "        sample_test_loss = loss_function(target, prediction)\n",
    "        sample_test_accuracy =  np.sum(np.argmax(target, axis=1) == np.argmax(prediction, axis=1))/target.shape[0]\n",
    "        test_loss_aggregator.append(sample_test_loss.numpy())\n",
    "        test_accuracy_aggregator.append(sample_test_accuracy)\n",
    "    test_loss = np.mean(test_loss_aggregator)\n",
    "    test_accuracy = np.mean(test_accuracy_aggregator)\n",
    "    \n",
    "    return test_loss, test_accuracy"
   ]
  },
  {
   "cell_type": "markdown",
   "id": "regulated-circumstances",
   "metadata": {},
   "source": [
    "## Training and visualisation"
   ]
  },
  {
   "cell_type": "code",
   "execution_count": 5,
   "id": "pleasant-crossing",
   "metadata": {},
   "outputs": [
    {
     "name": "stdout",
     "output_type": "stream",
     "text": [
      "Epoch: __ 0\n",
      "Epoch: __ 1\n",
      "Epoch: __ 2\n",
      "Epoch: __ 3\n",
      "Epoch: __ 4\n",
      "Epoch: __ 5\n",
      "Epoch: __ 6\n",
      "Epoch: __ 7\n",
      "Epoch: __ 8\n",
      "Epoch: __ 9\n"
     ]
    }
   ],
   "source": [
    "tf.keras.backend.clear_session()\n",
    "\n",
    "# hyperparameters\n",
    "num_epochs = 10\n",
    "learning_rate = 0.1\n",
    "running_average_factor = 0.95\n",
    "\n",
    "# initialize the model\n",
    "model = Model()\n",
    "# initialize loss function: categorical cross entropy\n",
    "cross_entropy_loss = tf.keras.losses.CategoricalCrossentropy()\n",
    "# Initialize the optimizer: Adam with default parameters. Check out 'tf.keras.optimizers'\n",
    "optimizer = tf.keras.optimizers.SGD(learning_rate)\n",
    "\n",
    "# save data for visualising later\n",
    "train_losses = []\n",
    "\n",
    "test_losses = []\n",
    "test_accuracies = []\n",
    "\n",
    "# loss and accuracy before training\n",
    "test_loss, test_accuracy = test(model, test_dataset, cross_entropy_loss)\n",
    "test_losses.append(test_loss)\n",
    "test_accuracies.append(test_accuracy)\n",
    "\n",
    "# loss on the training data before training\n",
    "train_loss, _ = test(model, train_dataset, cross_entropy_loss)\n",
    "train_losses.append(train_loss)\n",
    "\n",
    "# train for num_epochs epochs\n",
    "for epoch in range(num_epochs):\n",
    "    print('Epoch: __ ' + str(epoch))\n",
    "\n",
    "    train_dataset = train_dataset.shuffle(buffer_size=128)\n",
    "    test_dataset = test_dataset.shuffle(buffer_size=128)\n",
    "\n",
    "    #training\n",
    "    running_average = 0\n",
    "    for (input,target) in train_dataset:\n",
    "        train_loss = train_step(model, input, target, cross_entropy_loss, optimizer)\n",
    "        running_average = running_average_factor * running_average  + (1 - running_average_factor) * train_loss\n",
    "    train_losses.append(running_average)\n",
    "\n",
    "    #testing\n",
    "    test_loss, test_accuracy = test(model, test_dataset, cross_entropy_loss)\n",
    "    test_losses.append(test_loss)\n",
    "    test_accuracies.append(test_accuracy)"
   ]
  },
  {
   "cell_type": "code",
   "execution_count": 6,
   "id": "pregnant-sterling",
   "metadata": {},
   "outputs": [
    {
     "data": {
      "image/png": "[encoded data removed]",
      "text/plain": [
       "<Figure size 432x288 with 1 Axes>"
      ]
     },
     "metadata": {
      "image/png": {
       "height": 274,
       "width": 380
      },
      "needs_background": "light"
     },
     "output_type": "display_data"
    }
   ],
   "source": [
    "plt.figure()\n",
    "line1, = plt.plot(train_losses)\n",
    "line2, = plt.plot(test_losses)\n",
    "line3, = plt.plot(test_accuracies)\n",
    "plt.xlabel(\"Epochs\")\n",
    "plt.legend((line1,line2,line3),(\"Training loss\",\"Test loss\", \"Accuracy\"))\n",
    "plt.show()"
   ]
  },
  {
   "cell_type": "code",
   "execution_count": null,
   "id": "romance-minute",
   "metadata": {},
   "outputs": [],
   "source": []
  }
 ],
 "metadata": {
  "kernelspec": {
   "display_name": "Python 3",
   "language": "python",
   "name": "python3"
  },
  "language_info": {
   "codemirror_mode": {
    "name": "ipython",
    "version": 3
   },
   "file_extension": ".py",
   "mimetype": "text/x-python",
   "name": "python",
   "nbconvert_exporter": "python",
   "pygments_lexer": "ipython3",
   "version": "3.7.9"
  }
 },
 "nbformat": 4,
 "nbformat_minor": 5
}
