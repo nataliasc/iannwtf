{
 "cells": [
  {
   "cell_type": "code",
   "execution_count": 1,
   "metadata": {
    "id": "_VEfLeeF_eju"
   },
   "outputs": [],
   "source": [
    "# import the libraries we need\n",
    "import tensorflow_datasets as tfds\n",
    "import tensorflow as tf\n",
    "import numpy as np\n",
    "import matplotlib.pyplot as plt\n",
    "%config InlineBackend.figure_format = 'retina'\n",
    "plt.rcParams['font.size'] = 15"
   ]
  },
  {
   "cell_type": "markdown",
   "metadata": {
    "id": "iIPLT--UYiPB"
   },
   "source": [
    "# Dataset"
   ]
  },
  {
   "cell_type": "code",
   "execution_count": 2,
   "metadata": {
    "colab": {
     "base_uri": "https://localhost:8080/",
     "height": 1000,
     "referenced_widgets": [
      "1a97726de21145b2ba9ae8641235b472",
      "2527a206d82a40d899aaf7abaa2e6acb",
      "cc89f0c4a17449dbaec41453324105f2",
      "13b493d6fcbd41ef9adbb211fd3ca561",
      "21b651a9be3447fdb384e2cc76667f50",
      "0dc5c6016988437ea738653a266a70a7",
      "42b6c8b318ec413f9f669ed6251ff628",
      "9264d31ac8734caea4328b28a31fadf2",
      "dfded82ddec14be484425c3cbccdc2ae",
      "a59536e9df5a476ea879e3b0921cdad6",
      "9db990b7b96d4a78b5cc73cc1681a57f"
     ]
    },
    "id": "-pIS5Cuk_j3U",
    "outputId": "a70cc22f-c5ea-438b-b88d-202092602648"
   },
   "outputs": [
    {
     "name": "stdout",
     "output_type": "stream",
     "text": [
      "tfds.core.DatasetInfo(\n",
      "    name='genomics_ood',\n",
      "    version=0.0.1,\n",
      "    description='Bacteria identification based on genomic sequences holds the promise of early\n",
      "detection of diseases, but requires a model that can output low confidence\n",
      "predictions on out-of-distribution (OOD) genomic sequences from new bacteria\n",
      "that were not present in the training data.\n",
      "\n",
      "We introduce a genomics dataset for OOD detection that allows other researchers\n",
      "to benchmark progress on this important problem. New bacterial classes are\n",
      "gradually discovered over the years. Grouping classes by years is a natural way\n",
      "to mimic the in-distribution and OOD examples.\n",
      "\n",
      "The dataset contains genomic sequences sampled from 10 bacteria classes that\n",
      "were discovered before the year 2011 as in-distribution classes, 60 bacteria\n",
      "classes discovered between 2011-2016 as OOD for validation, and another 60\n",
      "different bacteria classes discovered after 2016 as OOD for test, in total 130\n",
      "bacteria classes. Note that training, validation, and test data are provided for\n",
      "the in-distribution classes, and validation and test data are proviede for OOD\n",
      "classes. By its nature, OOD data is not available at the training time.\n",
      "\n",
      "The genomic sequence is 250 long, composed by characters of {A, C, G, T}. The\n",
      "sample size of each class is 100,000 in the training and 10,000 for the\n",
      "validation and test sets.\n",
      "\n",
      "For each example, the features include:\n",
      "  seq: the input DNA sequence composed by {A, C, G, T}.\n",
      "  label: the name of the bacteria class.\n",
      "  seq_info: the source of the DNA sequence, i.e., the genome name, NCBI\n",
      "  accession number, and the position where it was sampled from.\n",
      "  domain: if the bacteria is in-distribution (in), or OOD (ood)\n",
      "\n",
      "The details of the dataset can be found in the paper supplemental.',\n",
      "    homepage='https://github.com/google-research/google-research/tree/master/genomics_ood',\n",
      "    features=FeaturesDict({\n",
      "        'domain': Text(shape=(), dtype=tf.string),\n",
      "        'label': ClassLabel(shape=(), dtype=tf.int64, num_classes=130),\n",
      "        'seq': Text(shape=(), dtype=tf.string),\n",
      "        'seq_info': Text(shape=(), dtype=tf.string),\n",
      "    }),\n",
      "    total_num_examples=2400000,\n",
      "    splits={\n",
      "        'test': 100000,\n",
      "        'test_ood': 600000,\n",
      "        'train': 1000000,\n",
      "        'validation': 100000,\n",
      "        'validation_ood': 600000,\n",
      "    },\n",
      "    supervised_keys=('seq', 'label'),\n",
      "    citation=\"\"\"@inproceedings{ren2019likelihood,\n",
      "      title={Likelihood ratios for out-of-distribution detection},\n",
      "      author={Ren, Jie and\n",
      "      Liu, Peter J and\n",
      "      Fertig, Emily and\n",
      "      Snoek, Jasper and\n",
      "      Poplin, Ryan and\n",
      "      Depristo, Mark and\n",
      "      Dillon, Joshua and\n",
      "      Lakshminarayanan, Balaji},\n",
      "      booktitle={Advances in Neural Information Processing Systems},\n",
      "      pages={14707--14718},\n",
      "      year={2019}\n",
      "    }\"\"\",\n",
      "    redistribution_info=,\n",
      ")\n",
      "\n"
     ]
    }
   ],
   "source": [
    "# import the dataset from tensorflow_datasets\n",
    "(train_ds, test_ds), info = tfds.load('genomics_ood', split=['train', 'test'], as_supervised=True, with_info=True)\n",
    "print(info)"
   ]
  },
  {
   "cell_type": "code",
   "execution_count": 3,
   "metadata": {
    "colab": {
     "base_uri": "https://localhost:8080/",
     "height": 216
    },
    "id": "3LtJI8-8C4cx",
    "outputId": "cf06e7f7-4082-4ddc-c1a8-d27f82b3a76d"
   },
   "outputs": [
    {
     "data": {
      "text/html": [
       "<style  type=\"text/css\" >\n",
       "</style><table id=\"T_33ce729c_4575_11ec_82b7_784f437e6aae\" ><thead>    <tr>        <th class=\"blank level0\" ></th>        <th class=\"col_heading level0 col0\" >label</th>        <th class=\"col_heading level0 col1\" >seq</th>    </tr></thead><tbody>\n",
       "                <tr>\n",
       "                        <th id=\"T_33ce729c_4575_11ec_82b7_784f437e6aaelevel0_row0\" class=\"row_heading level0 row0\" >0</th>\n",
       "                        <td id=\"T_33ce729c_4575_11ec_82b7_784f437e6aaerow0_col0\" class=\"data row0 col0\" >7 (Staphylococcus)</td>\n",
       "                        <td id=\"T_33ce729c_4575_11ec_82b7_784f437e6aaerow0_col1\" class=\"data row0 col1\" >AAACTATGTTATATTCACGATGATTAACTTACAAAGGAGTTTCAACTATGAAGATGATAAACAAATTAATCGTTCCGGTAACAGCTAGTGCTTTATTATTAGGCGCTTGTGGCGCTAGTGCCACAGACTCTAAAGAAAATACATTAATTTCTTCTAAAGCTGGAGACGTAACAGTTGCAGATACAATGAAAAAAATCGGTAAAGATCAAATTGCAAATGCATCATTTACTGAAATGTTAAATAAAATTTT</td>\n",
       "            </tr>\n",
       "            <tr>\n",
       "                        <th id=\"T_33ce729c_4575_11ec_82b7_784f437e6aaelevel0_row1\" class=\"row_heading level0 row1\" >1</th>\n",
       "                        <td id=\"T_33ce729c_4575_11ec_82b7_784f437e6aaerow1_col0\" class=\"data row1 col0\" >5 (Pseudomonas)</td>\n",
       "                        <td id=\"T_33ce729c_4575_11ec_82b7_784f437e6aaerow1_col1\" class=\"data row1 col1\" >CACAGCCGGCCGCTGACCTGCTGGCCATCGGAGCGCTGGCCGGCCTCGAGGATATTGGCCAGCAGCAGGTGGATGTCTCGGGCATAGCGCTCCCCCTGGTAGGTGATGCGAATGCTGCGGCCCTGGCGCTCGGTCAGGGCAAAACCCAGGGTCTGCTCCAGGCTCTTGATCTGGTGGCTGATGGCGCTGGGCGTCAGGTTCAGCTCATTGGCGGCCTCGGCGACACTGCCCAGGCGGGCCACCGCGTCCA</td>\n",
       "            </tr>\n",
       "            <tr>\n",
       "                        <th id=\"T_33ce729c_4575_11ec_82b7_784f437e6aaelevel0_row2\" class=\"row_heading level0 row2\" >2</th>\n",
       "                        <td id=\"T_33ce729c_4575_11ec_82b7_784f437e6aaerow2_col0\" class=\"data row2 col0\" >1 (Burkholderia)</td>\n",
       "                        <td id=\"T_33ce729c_4575_11ec_82b7_784f437e6aaerow2_col1\" class=\"data row2 col1\" >CGCCGGCACCGTTGCTGGCCAAAATCGCCGAGCGTCCGGATGCCGGCATGCATCGTGAATCGTCTTATCTGAAATGGCACTGGCGCGTTTGCCGGGAACTTCTCCAACGTCGGGAGCACGGGGCAACTCATGGCTAAACTCATCGTGGGCAACGTCGATAACGAAGCAATGATCGGGGACACGAAGCGTGCATCGCTTCCGCTTCGCCAGGTATCAGCGATTGCAGCAAGGCGCCTCGTCTGGCAGATGA</td>\n",
       "            </tr>\n",
       "            <tr>\n",
       "                        <th id=\"T_33ce729c_4575_11ec_82b7_784f437e6aaelevel0_row3\" class=\"row_heading level0 row3\" >3</th>\n",
       "                        <td id=\"T_33ce729c_4575_11ec_82b7_784f437e6aaerow3_col0\" class=\"data row3 col0\" >5 (Pseudomonas)</td>\n",
       "                        <td id=\"T_33ce729c_4575_11ec_82b7_784f437e6aaerow3_col1\" class=\"data row3 col1\" >GCAGGTGCTGTTGGCCGGCACCAACCACCACATCCGCCTGCTGCAGAATGGCCAGCTGGCCTACACTGCCGAGCCGGTCAACGAAATCTATCGGCCTTCGATCGATGTGTTCTTCGAAAGCGTCGCGCGCTATTGGTCGGGCGATGCGGTGGGCGTGCTGCTCACCGGCATGGGCCGCGATGGTGCCCAGGGCCTGAAGCTGATGCGCCAGCAGGGCTTCCTGACCATCGCCCAGGACCAGCAGAGCAGC</td>\n",
       "            </tr>\n",
       "            <tr>\n",
       "                        <th id=\"T_33ce729c_4575_11ec_82b7_784f437e6aaelevel0_row4\" class=\"row_heading level0 row4\" >4</th>\n",
       "                        <td id=\"T_33ce729c_4575_11ec_82b7_784f437e6aaerow4_col0\" class=\"data row4 col0\" >6 (Salmonella)</td>\n",
       "                        <td id=\"T_33ce729c_4575_11ec_82b7_784f437e6aaerow4_col1\" class=\"data row4 col1\" >TCCGGACGCCAATTTATTACCGGTAAGAAAAGCGAACTCACCTAATTTTACGGTCTGGTGACCAGAACCGACCGCACGCAAAAGCTTCTGAACCGATGAGGATGCTATGGGAAACACAACAATACAAACGCAGAGTTTTCGTGCTGTGGATGCAGAGCAAAGCAAGAGCAAGCGCTACATTATTCCATTCGCCTTACTTTGCTCGCTATTTTTTCTGTGGGCTGTCGCCAATAATCTGAATGACATTTTA</td>\n",
       "            </tr>\n",
       "    </tbody></table>"
      ],
      "text/plain": [
       "   label                                                seq\n",
       "0      7  b'AAACTATGTTATATTCACGATGATTAACTTACAAAGGAGTTTCA...\n",
       "1      5  b'CACAGCCGGCCGCTGACCTGCTGGCCATCGGAGCGCTGGCCGGC...\n",
       "2      1  b'CGCCGGCACCGTTGCTGGCCAAAATCGCCGAGCGTCCGGATGCC...\n",
       "3      5  b'GCAGGTGCTGTTGGCCGGCACCAACCACCACATCCGCCTGCTGC...\n",
       "4      6  b'TCCGGACGCCAATTTATTACCGGTAAGAAAAGCGAACTCACCTA..."
      ]
     },
     "execution_count": 3,
     "metadata": {},
     "output_type": "execute_result"
    }
   ],
   "source": [
    "# have a look at some example datapoints\n",
    "tfds.as_dataframe(train_ds.take(5), info)"
   ]
  },
  {
   "cell_type": "code",
   "execution_count": 4,
   "metadata": {
    "colab": {
     "base_uri": "https://localhost:8080/"
    },
    "id": "u7H2mK8ZS_r_",
    "outputId": "e686c743-b96e-4e17-83aa-f18528a243ae"
   },
   "outputs": [
    {
     "name": "stdout",
     "output_type": "stream",
     "text": [
      "tf.Tensor(b'AAACTATGTTATATTCACGATGATTAACTTACAAAGGAGTTTCAACTATGAAGATGATAAACAAATTAATCGTTCCGGTAACAGCTAGTGCTTTATTATTAGGCGCTTGTGGCGCTAGTGCCACAGACTCTAAAGAAAATACATTAATTTCTTCTAAAGCTGGAGACGTAACAGTTGCAGATACAATGAAAAAAATCGGTAAAGATCAAATTGCAAATGCATCATTTACTGAAATGTTAAATAAAATTTT', shape=(), dtype=string)\n",
      "tf.Tensor(7, shape=(), dtype=int64)\n"
     ]
    }
   ],
   "source": [
    "# check the structure of a single tensor\n",
    "for elem in train_ds.take(1):\n",
    "    for e in elem:\n",
    "        print(e)"
   ]
  },
  {
   "cell_type": "code",
   "execution_count": 5,
   "metadata": {
    "id": "IrMyWzUhmwTE"
   },
   "outputs": [],
   "source": [
    "# function to transform the genomic sequence string to one-hot-vectors for encoding the nucleotides (A, C, G, T)\n",
    "def onehotify(tensor):\n",
    "    vocab = {'A':'1', 'C': '2', 'G':'3', 'T':'0'}\n",
    "    for key in vocab.keys():\n",
    "        tensor = tf.strings.regex_replace(tensor, key, vocab[key])\n",
    "    split = tf.strings.bytes_split(tensor)\n",
    "    labels = tf.cast(tf.strings.to_number(split), tf.uint8)\n",
    "    onehot = tf.one_hot(labels, 4)\n",
    "    onehot = tf.reshape(onehot, (-1,))\n",
    "    return onehot"
   ]
  },
  {
   "cell_type": "code",
   "execution_count": 6,
   "metadata": {
    "id": "vWqSDI3VGbZj"
   },
   "outputs": [],
   "source": [
    "# function to prepare the dataset\n",
    "def prepare_genomics_data(ds):\n",
    "    # create one-hot sequences\n",
    "    ds = ds.map(lambda seq, target: (onehotify(seq), target))\n",
    "    # create one-hot targets\n",
    "    ds = ds.map(lambda seq, target: (seq, tf.one_hot(target, depth=10)))\n",
    "    # shuffle, batch and prefetch the data\n",
    "    ds = ds.shuffle(1000).batch(25).prefetch(20)\n",
    "    return ds"
   ]
  },
  {
   "cell_type": "code",
   "execution_count": 7,
   "metadata": {
    "id": "1fJbSHdT_pKU"
   },
   "outputs": [],
   "source": [
    "# use 100.000 examples for training and 1.000 for testing\n",
    "train_ds = train_ds.take(100000)\n",
    "test_ds = test_ds.take(1000)"
   ]
  },
  {
   "cell_type": "code",
   "execution_count": 8,
   "metadata": {
    "id": "ymh2acpuPfb7"
   },
   "outputs": [],
   "source": [
    "# prepare the training and the test dataset\n",
    "train_dataset = train_ds.apply(prepare_genomics_data)\n",
    "test_dataset = test_ds.apply(prepare_genomics_data)"
   ]
  },
  {
   "cell_type": "code",
   "execution_count": 9,
   "metadata": {
    "colab": {
     "base_uri": "https://localhost:8080/"
    },
    "id": "A-QkBiWHUkAf",
    "outputId": "39b28bb9-6259-409c-abd1-00d2ab987b0c"
   },
   "outputs": [
    {
     "name": "stdout",
     "output_type": "stream",
     "text": [
      "tf.Tensor(\n",
      "[[0. 1. 0. ... 0. 1. 0.]\n",
      " [0. 0. 0. ... 0. 0. 0.]\n",
      " [0. 0. 1. ... 1. 0. 0.]\n",
      " ...\n",
      " [0. 0. 0. ... 1. 0. 0.]\n",
      " [0. 0. 0. ... 0. 1. 0.]\n",
      " [0. 1. 0. ... 0. 1. 0.]], shape=(25, 1000), dtype=float32)\n",
      "tf.Tensor(\n",
      "[[0. 0. 0. 0. 0. 0. 0. 0. 0. 1.]\n",
      " [0. 0. 0. 0. 0. 0. 0. 0. 1. 0.]\n",
      " [0. 0. 0. 1. 0. 0. 0. 0. 0. 0.]\n",
      " [0. 0. 1. 0. 0. 0. 0. 0. 0. 0.]\n",
      " [0. 0. 0. 0. 0. 0. 0. 0. 1. 0.]\n",
      " [0. 0. 0. 0. 1. 0. 0. 0. 0. 0.]\n",
      " [0. 0. 0. 0. 0. 1. 0. 0. 0. 0.]\n",
      " [0. 0. 0. 0. 0. 0. 0. 1. 0. 0.]\n",
      " [0. 0. 1. 0. 0. 0. 0. 0. 0. 0.]\n",
      " [0. 0. 0. 1. 0. 0. 0. 0. 0. 0.]\n",
      " [0. 0. 1. 0. 0. 0. 0. 0. 0. 0.]\n",
      " [0. 0. 0. 0. 0. 0. 0. 0. 0. 1.]\n",
      " [0. 0. 0. 0. 1. 0. 0. 0. 0. 0.]\n",
      " [0. 0. 0. 0. 0. 0. 0. 1. 0. 0.]\n",
      " [0. 1. 0. 0. 0. 0. 0. 0. 0. 0.]\n",
      " [0. 0. 0. 0. 0. 1. 0. 0. 0. 0.]\n",
      " [0. 0. 0. 0. 0. 0. 1. 0. 0. 0.]\n",
      " [0. 0. 0. 0. 0. 0. 0. 0. 1. 0.]\n",
      " [0. 1. 0. 0. 0. 0. 0. 0. 0. 0.]\n",
      " [0. 0. 0. 0. 0. 0. 0. 0. 1. 0.]\n",
      " [0. 0. 0. 0. 0. 0. 0. 0. 0. 1.]\n",
      " [0. 0. 0. 0. 0. 0. 0. 0. 1. 0.]\n",
      " [0. 0. 0. 0. 0. 0. 0. 0. 1. 0.]\n",
      " [0. 0. 0. 1. 0. 0. 0. 0. 0. 0.]\n",
      " [1. 0. 0. 0. 0. 0. 0. 0. 0. 0.]], shape=(25, 10), dtype=float32)\n"
     ]
    }
   ],
   "source": [
    "# let's inspect the respective shapes again after preparing the data \n",
    "for a, b in train_dataset.take(1):\n",
    "    print(a)\n",
    "    print(b)"
   ]
  },
  {
   "cell_type": "markdown",
   "metadata": {
    "id": "0xcgJhJcYn9i"
   },
   "source": [
    "# Model"
   ]
  },
  {
   "cell_type": "code",
   "execution_count": 10,
   "metadata": {
    "id": "BmYHT4vPYpwz"
   },
   "outputs": [],
   "source": [
    "# Custom Layer\n",
    "class SimpleDense(tf.keras.layers.Layer):\n",
    "\n",
    "    def __init__(self, units, activation):\n",
    "        super(SimpleDense, self).__init__()\n",
    "        self.units = units\n",
    "        self.activation = activation\n",
    "\n",
    "    def build(self, input_shape): \n",
    "        self.w = self.add_weight(shape=(input_shape[-1], self.units),\n",
    "                               initializer='random_normal',\n",
    "                               trainable=True)\n",
    "        self.b = self.add_weight(shape=(self.units,),\n",
    "                               initializer='random_normal',\n",
    "                               trainable=True)\n",
    "\n",
    "    def call(self, inputs): \n",
    "        x = tf.matmul(inputs, self.w) + self.b\n",
    "        x = self.activation(x)\n",
    "        return x"
   ]
  },
  {
   "cell_type": "code",
   "execution_count": 11,
   "metadata": {
    "id": "mp0Sego3Y6N0"
   },
   "outputs": [],
   "source": [
    "# Custom Model\n",
    "class MyModel(tf.keras.Model):\n",
    "    \n",
    "    def __init__(self):\n",
    "        super(MyModel, self).__init__()\n",
    "        self.dense1 = SimpleDense(256, activation=tf.nn.sigmoid) # 1st hidden layer with 256 units\n",
    "        self.dense2 = SimpleDense(256, activation=tf.nn.sigmoid) # 2nd hidden layer with 256 units\n",
    "        self.out = SimpleDense(10, activation=tf.nn.softmax) # output layer with 10 units\n",
    "\n",
    "    def call(self, inputs):\n",
    "        x = self.dense1(inputs)\n",
    "        x = self.dense2(x)\n",
    "        x = self.out(x)\n",
    "        return x"
   ]
  },
  {
   "cell_type": "markdown",
   "metadata": {
    "id": "-ba8vW1GawDu"
   },
   "source": [
    "# Training function"
   ]
  },
  {
   "cell_type": "code",
   "execution_count": 13,
   "metadata": {
    "id": "lNZR5Fz9axYs"
   },
   "outputs": [],
   "source": [
    "def train_step(model, input, target, loss_function, optimizer):\n",
    "    # loss_object and optimizer_object are instances of respective tensorflow classes\n",
    "    with tf.GradientTape() as tape:\n",
    "        prediction = model(input)\n",
    "        loss = loss_function(target, prediction)\n",
    "        gradients = tape.gradient(loss, model.trainable_variables)\n",
    "    optimizer.apply_gradients(zip(gradients, model.trainable_variables))\n",
    "    return loss\n",
    "\n",
    "def test(model, test_data, loss_function):\n",
    "    # test over complete test data\n",
    "    \n",
    "    test_accuracy_aggregator = []\n",
    "    test_loss_aggregator = []\n",
    "    \n",
    "    for (input, target) in test_data:\n",
    "        prediction = model(input)\n",
    "        sample_test_loss = loss_function(target, prediction)\n",
    "        sample_test_accuracy =  np.argmax(target, axis=1) == np.argmax(prediction, axis=1)\n",
    "        sample_test_accuracy = np.mean(sample_test_accuracy)\n",
    "        test_loss_aggregator.append(sample_test_loss.numpy())\n",
    "        test_accuracy_aggregator.append(np.mean(sample_test_accuracy))\n",
    "        \n",
    "    test_loss = tf.reduce_mean(test_loss_aggregator)\n",
    "    test_accuracy = tf.reduce_mean(test_accuracy_aggregator)\n",
    "    \n",
    "    return test_loss, test_accuracy"
   ]
  },
  {
   "cell_type": "markdown",
   "metadata": {
    "id": "GlwqMuXTbHyM"
   },
   "source": [
    "# Training and visualization"
   ]
  },
  {
   "cell_type": "code",
   "execution_count": 14,
   "metadata": {
    "colab": {
     "base_uri": "https://localhost:8080/"
    },
    "id": "klLqbbraa-zZ",
    "outputId": "249a0bb6-c5c5-4fe6-c900-2313d2294bdb"
   },
   "outputs": [
    {
     "name": "stdout",
     "output_type": "stream",
     "text": [
      "Epoch: 0 starting with accuracy 0.10\n",
      "Epoch: 1 starting with accuracy 0.32\n",
      "Epoch: 2 starting with accuracy 0.37\n",
      "Epoch: 3 starting with accuracy 0.36\n",
      "Epoch: 4 starting with accuracy 0.36\n",
      "Epoch: 5 starting with accuracy 0.36\n",
      "Epoch: 6 starting with accuracy 0.36\n",
      "Epoch: 7 starting with accuracy 0.35\n",
      "Epoch: 8 starting with accuracy 0.36\n",
      "Epoch: 9 starting with accuracy 0.37\n"
     ]
    }
   ],
   "source": [
    "tf.keras.backend.clear_session()\n",
    "\n",
    "# Hyperparameters\n",
    "num_epochs = 10\n",
    "learning_rate = 0.1\n",
    "\n",
    "# Initialize the model\n",
    "model = MyModel()\n",
    "# Initialize the loss: categorical cross entropy. Check out 'tf.keras.losses'\n",
    "cross_entropy_loss = tf.keras.losses.CategoricalCrossentropy()\n",
    "# Initialize the optimizer: SGD with default parameters. Check out 'tf.keras.optimizers'\n",
    "optimizer = tf.keras.optimizers.SGD(learning_rate)\n",
    "\n",
    "# Initialize lists for later visualization.\n",
    "train_losses = []\n",
    "\n",
    "test_losses = []\n",
    "test_accuracies = []\n",
    "\n",
    "# Testing once before we begin\n",
    "test_loss, test_accuracy = test(model, test_dataset, cross_entropy_loss)\n",
    "test_losses.append(test_loss)\n",
    "test_accuracies.append(test_accuracy)\n",
    "\n",
    "# Check how model performs on train data once before we begin\n",
    "train_loss, _ = test(model, train_dataset, cross_entropy_loss)\n",
    "train_losses.append(train_loss)\n",
    "\n",
    "# We train for num_epochs epochs\n",
    "for epoch in range(num_epochs):\n",
    "    print('Epoch: {0} starting with accuracy {1:.2f}'.format(epoch,test_accuracies[-1]))\n",
    "\n",
    "    # Training (and checking in with training)\n",
    "    epoch_loss_agg = []\n",
    "    for input,target in train_dataset:\n",
    "        train_loss = train_step(model, input, target, cross_entropy_loss, optimizer)\n",
    "        epoch_loss_agg.append(train_loss)\n",
    "    \n",
    "    # Track training loss\n",
    "    train_losses.append(tf.reduce_mean(epoch_loss_agg))\n",
    "\n",
    "    # Testing, so we can track accuracy and test loss\n",
    "    test_loss, test_accuracy = test(model, test_dataset, cross_entropy_loss)\n",
    "    test_losses.append(test_loss)\n",
    "    test_accuracies.append(test_accuracy)"
   ]
  },
  {
   "cell_type": "code",
   "execution_count": 15,
   "metadata": {
    "colab": {
     "base_uri": "https://localhost:8080/",
     "height": 279
    },
    "id": "qqeNnQvYbbZ-",
    "outputId": "a0c659f8-65ef-4b06-9f29-80e8bb7dc627"
   },
   "outputs": [
    {
     "data": {
      "image/png": "[encoded data removed]",
      "text/plain": [
       "<Figure size 432x288 with 1 Axes>"
      ]
     },
     "metadata": {
      "image/png": {
       "height": 271,
       "width": 398
      },
      "needs_background": "light"
     },
     "output_type": "display_data"
    }
   ],
   "source": [
    "# Visualize accuracy and loss for training and test data\n",
    "plt.figure()\n",
    "line1, = plt.plot(train_losses)\n",
    "line2, = plt.plot(test_losses)\n",
    "line3, = plt.plot(test_accuracies)\n",
    "plt.xlabel(\"Training steps\")\n",
    "plt.ylabel(\"Loss/ Accuracy\")\n",
    "plt.legend((line1,line2, line3),(\"training loss\",\"test loss\", \"test accuracy\"))\n",
    "plt.show()"
   ]
  },
  {
   "cell_type": "code",
   "execution_count": null,
   "metadata": {},
   "outputs": [],
   "source": []
  }
 ],
 "metadata": {
  "colab": {
   "collapsed_sections": [],
   "name": "2021-11-14_hw03_iannwtf.ipynb",
   "provenance": []
  },
  "kernelspec": {
   "display_name": "Python 3",
   "language": "python",
   "name": "python3"
  },
  "language_info": {
   "codemirror_mode": {
    "name": "ipython",
    "version": 3
   },
   "file_extension": ".py",
   "mimetype": "text/x-python",
   "name": "python",
   "nbconvert_exporter": "python",
   "pygments_lexer": "ipython3",
   "version": "3.7.9"
  },
  "widgets": {
   "application/vnd.jupyter.widget-state+json": {
    "0dc5c6016988437ea738653a266a70a7": {
     "model_module": "@jupyter-widgets/controls",
     "model_module_version": "1.5.0",
     "model_name": "DescriptionStyleModel",
     "state": {
      "_model_module": "@jupyter-widgets/controls",
      "_model_module_version": "1.5.0",
      "_model_name": "DescriptionStyleModel",
      "_view_count": null,
      "_view_module": "@jupyter-widgets/base",
      "_view_module_version": "1.2.0",
      "_view_name": "StyleView",
      "description_width": ""
     }
    },
    "13b493d6fcbd41ef9adbb211fd3ca561": {
     "model_module": "@jupyter-widgets/controls",
     "model_module_version": "1.5.0",
     "model_name": "FloatProgressModel",
     "state": {
      "_dom_classes": [],
      "_model_module": "@jupyter-widgets/controls",
      "_model_module_version": "1.5.0",
      "_model_name": "FloatProgressModel",
      "_view_count": null,
      "_view_module": "@jupyter-widgets/controls",
      "_view_module_version": "1.5.0",
      "_view_name": "ProgressView",
      "bar_style": "success",
      "description": "",
      "description_tooltip": null,
      "layout": "IPY_MODEL_dfded82ddec14be484425c3cbccdc2ae",
      "max": 12,
      "min": 0,
      "orientation": "horizontal",
      "style": "IPY_MODEL_9264d31ac8734caea4328b28a31fadf2",
      "value": 12
     }
    },
    "1a97726de21145b2ba9ae8641235b472": {
     "model_module": "@jupyter-widgets/controls",
     "model_module_version": "1.5.0",
     "model_name": "HBoxModel",
     "state": {
      "_dom_classes": [],
      "_model_module": "@jupyter-widgets/controls",
      "_model_module_version": "1.5.0",
      "_model_name": "HBoxModel",
      "_view_count": null,
      "_view_module": "@jupyter-widgets/controls",
      "_view_module_version": "1.5.0",
      "_view_name": "HBoxView",
      "box_style": "",
      "children": [
       "IPY_MODEL_cc89f0c4a17449dbaec41453324105f2",
       "IPY_MODEL_13b493d6fcbd41ef9adbb211fd3ca561",
       "IPY_MODEL_21b651a9be3447fdb384e2cc76667f50"
      ],
      "layout": "IPY_MODEL_2527a206d82a40d899aaf7abaa2e6acb"
     }
    },
    "21b651a9be3447fdb384e2cc76667f50": {
     "model_module": "@jupyter-widgets/controls",
     "model_module_version": "1.5.0",
     "model_name": "HTMLModel",
     "state": {
      "_dom_classes": [],
      "_model_module": "@jupyter-widgets/controls",
      "_model_module_version": "1.5.0",
      "_model_name": "HTMLModel",
      "_view_count": null,
      "_view_module": "@jupyter-widgets/controls",
      "_view_module_version": "1.5.0",
      "_view_name": "HTMLView",
      "description": "",
      "description_tooltip": null,
      "layout": "IPY_MODEL_9db990b7b96d4a78b5cc73cc1681a57f",
      "placeholder": "​",
      "style": "IPY_MODEL_a59536e9df5a476ea879e3b0921cdad6",
      "value": " 12/12 [00:04&lt;00:00,  3.54 file/s]"
     }
    },
    "2527a206d82a40d899aaf7abaa2e6acb": {
     "model_module": "@jupyter-widgets/base",
     "model_module_version": "1.2.0",
     "model_name": "LayoutModel",
     "state": {
      "_model_module": "@jupyter-widgets/base",
      "_model_module_version": "1.2.0",
      "_model_name": "LayoutModel",
      "_view_count": null,
      "_view_module": "@jupyter-widgets/base",
      "_view_module_version": "1.2.0",
      "_view_name": "LayoutView",
      "align_content": null,
      "align_items": null,
      "align_self": null,
      "border": null,
      "bottom": null,
      "display": null,
      "flex": null,
      "flex_flow": null,
      "grid_area": null,
      "grid_auto_columns": null,
      "grid_auto_flow": null,
      "grid_auto_rows": null,
      "grid_column": null,
      "grid_gap": null,
      "grid_row": null,
      "grid_template_areas": null,
      "grid_template_columns": null,
      "grid_template_rows": null,
      "height": null,
      "justify_content": null,
      "justify_items": null,
      "left": null,
      "margin": null,
      "max_height": null,
      "max_width": null,
      "min_height": null,
      "min_width": null,
      "object_fit": null,
      "object_position": null,
      "order": null,
      "overflow": null,
      "overflow_x": null,
      "overflow_y": null,
      "padding": null,
      "right": null,
      "top": null,
      "visibility": null,
      "width": null
     }
    },
    "42b6c8b318ec413f9f669ed6251ff628": {
     "model_module": "@jupyter-widgets/base",
     "model_module_version": "1.2.0",
     "model_name": "LayoutModel",
     "state": {
      "_model_module": "@jupyter-widgets/base",
      "_model_module_version": "1.2.0",
      "_model_name": "LayoutModel",
      "_view_count": null,
      "_view_module": "@jupyter-widgets/base",
      "_view_module_version": "1.2.0",
      "_view_name": "LayoutView",
      "align_content": null,
      "align_items": null,
      "align_self": null,
      "border": null,
      "bottom": null,
      "display": null,
      "flex": null,
      "flex_flow": null,
      "grid_area": null,
      "grid_auto_columns": null,
      "grid_auto_flow": null,
      "grid_auto_rows": null,
      "grid_column": null,
      "grid_gap": null,
      "grid_row": null,
      "grid_template_areas": null,
      "grid_template_columns": null,
      "grid_template_rows": null,
      "height": null,
      "justify_content": null,
      "justify_items": null,
      "left": null,
      "margin": null,
      "max_height": null,
      "max_width": null,
      "min_height": null,
      "min_width": null,
      "object_fit": null,
      "object_position": null,
      "order": null,
      "overflow": null,
      "overflow_x": null,
      "overflow_y": null,
      "padding": null,
      "right": null,
      "top": null,
      "visibility": null,
      "width": null
     }
    },
    "9264d31ac8734caea4328b28a31fadf2": {
     "model_module": "@jupyter-widgets/controls",
     "model_module_version": "1.5.0",
     "model_name": "ProgressStyleModel",
     "state": {
      "_model_module": "@jupyter-widgets/controls",
      "_model_module_version": "1.5.0",
      "_model_name": "ProgressStyleModel",
      "_view_count": null,
      "_view_module": "@jupyter-widgets/base",
      "_view_module_version": "1.2.0",
      "_view_name": "StyleView",
      "bar_color": null,
      "description_width": ""
     }
    },
    "9db990b7b96d4a78b5cc73cc1681a57f": {
     "model_module": "@jupyter-widgets/base",
     "model_module_version": "1.2.0",
     "model_name": "LayoutModel",
     "state": {
      "_model_module": "@jupyter-widgets/base",
      "_model_module_version": "1.2.0",
      "_model_name": "LayoutModel",
      "_view_count": null,
      "_view_module": "@jupyter-widgets/base",
      "_view_module_version": "1.2.0",
      "_view_name": "LayoutView",
      "align_content": null,
      "align_items": null,
      "align_self": null,
      "border": null,
      "bottom": null,
      "display": null,
      "flex": null,
      "flex_flow": null,
      "grid_area": null,
      "grid_auto_columns": null,
      "grid_auto_flow": null,
      "grid_auto_rows": null,
      "grid_column": null,
      "grid_gap": null,
      "grid_row": null,
      "grid_template_areas": null,
      "grid_template_columns": null,
      "grid_template_rows": null,
      "height": null,
      "justify_content": null,
      "justify_items": null,
      "left": null,
      "margin": null,
      "max_height": null,
      "max_width": null,
      "min_height": null,
      "min_width": null,
      "object_fit": null,
      "object_position": null,
      "order": null,
      "overflow": null,
      "overflow_x": null,
      "overflow_y": null,
      "padding": null,
      "right": null,
      "top": null,
      "visibility": null,
      "width": null
     }
    },
    "a59536e9df5a476ea879e3b0921cdad6": {
     "model_module": "@jupyter-widgets/controls",
     "model_module_version": "1.5.0",
     "model_name": "DescriptionStyleModel",
     "state": {
      "_model_module": "@jupyter-widgets/controls",
      "_model_module_version": "1.5.0",
      "_model_name": "DescriptionStyleModel",
      "_view_count": null,
      "_view_module": "@jupyter-widgets/base",
      "_view_module_version": "1.2.0",
      "_view_name": "StyleView",
      "description_width": ""
     }
    },
    "cc89f0c4a17449dbaec41453324105f2": {
     "model_module": "@jupyter-widgets/controls",
     "model_module_version": "1.5.0",
     "model_name": "HTMLModel",
     "state": {
      "_dom_classes": [],
      "_model_module": "@jupyter-widgets/controls",
      "_model_module_version": "1.5.0",
      "_model_name": "HTMLModel",
      "_view_count": null,
      "_view_module": "@jupyter-widgets/controls",
      "_view_module_version": "1.5.0",
      "_view_name": "HTMLView",
      "description": "",
      "description_tooltip": null,
      "layout": "IPY_MODEL_42b6c8b318ec413f9f669ed6251ff628",
      "placeholder": "​",
      "style": "IPY_MODEL_0dc5c6016988437ea738653a266a70a7",
      "value": "Dl Completed...: 100%"
     }
    },
    "dfded82ddec14be484425c3cbccdc2ae": {
     "model_module": "@jupyter-widgets/base",
     "model_module_version": "1.2.0",
     "model_name": "LayoutModel",
     "state": {
      "_model_module": "@jupyter-widgets/base",
      "_model_module_version": "1.2.0",
      "_model_name": "LayoutModel",
      "_view_count": null,
      "_view_module": "@jupyter-widgets/base",
      "_view_module_version": "1.2.0",
      "_view_name": "LayoutView",
      "align_content": null,
      "align_items": null,
      "align_self": null,
      "border": null,
      "bottom": null,
      "display": null,
      "flex": null,
      "flex_flow": null,
      "grid_area": null,
      "grid_auto_columns": null,
      "grid_auto_flow": null,
      "grid_auto_rows": null,
      "grid_column": null,
      "grid_gap": null,
      "grid_row": null,
      "grid_template_areas": null,
      "grid_template_columns": null,
      "grid_template_rows": null,
      "height": null,
      "justify_content": null,
      "justify_items": null,
      "left": null,
      "margin": null,
      "max_height": null,
      "max_width": null,
      "min_height": null,
      "min_width": null,
      "object_fit": null,
      "object_position": null,
      "order": null,
      "overflow": null,
      "overflow_x": null,
      "overflow_y": null,
      "padding": null,
      "right": null,
      "top": null,
      "visibility": null,
      "width": null
     }
    }
   }
  }
 },
 "nbformat": 4,
 "nbformat_minor": 1
}
