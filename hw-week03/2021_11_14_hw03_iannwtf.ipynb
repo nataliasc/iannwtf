{
  "nbformat": 4,
  "nbformat_minor": 0,
  "metadata": {
    "colab": {
      "name": "2021-11-14_hw03_iannwtf.ipynb",
      "provenance": [],
      "collapsed_sections": []
    },
    "kernelspec": {
      "display_name": "Python 3",
      "name": "python3"
    },
    "language_info": {
      "name": "python"
    }
  },
  "cells": [
    {
      "cell_type": "code",
      "metadata": {
        "id": "_VEfLeeF_eju"
      },
      "source": [
        "# import the libraries we need\n",
        "import tensorflow_datasets as tfds\n",
        "import tensorflow as tf\n",
        "import numpy as np\n",
        "import matplotlib.pyplot as plt\n"
      ],
      "execution_count": 1,
      "outputs": []
    },
    {
      "cell_type": "markdown",
      "metadata": {
        "id": "iIPLT--UYiPB"
      },
      "source": [
        "# Dataset"
      ]
    },
    {
      "cell_type": "code",
      "metadata": {
        "colab": {
          "base_uri": "https://localhost:8080/"
        },
        "id": "-pIS5Cuk_j3U",
        "outputId": "cfecb3a0-befc-4825-89c6-bd9cdaae4090"
      },
      "source": [
        "# import the dataset from tensorflow_datasets\n",
        "(train_ds, test_ds), info = tfds.load('genomics_ood', split=['train', 'test'], as_supervised=True, with_info=True)\n",
        "print(info)"
      ],
      "execution_count": 2,
      "outputs": [
        {
          "output_type": "stream",
          "name": "stdout",
          "text": [
            "tfds.core.DatasetInfo(\n",
            "    name='genomics_ood',\n",
            "    version=0.0.1,\n",
            "    description='Bacteria identification based on genomic sequences holds the promise of early\n",
            "detection of diseases, but requires a model that can output low confidence\n",
            "predictions on out-of-distribution (OOD) genomic sequences from new bacteria\n",
            "that were not present in the training data.\n",
            "\n",
            "We introduce a genomics dataset for OOD detection that allows other researchers\n",
            "to benchmark progress on this important problem. New bacterial classes are\n",
            "gradually discovered over the years. Grouping classes by years is a natural way\n",
            "to mimic the in-distribution and OOD examples.\n",
            "\n",
            "The dataset contains genomic sequences sampled from 10 bacteria classes that\n",
            "were discovered before the year 2011 as in-distribution classes, 60 bacteria\n",
            "classes discovered between 2011-2016 as OOD for validation, and another 60\n",
            "different bacteria classes discovered after 2016 as OOD for test, in total 130\n",
            "bacteria classes. Note that training, validation, and test data are provided for\n",
            "the in-distribution classes, and validation and test data are proviede for OOD\n",
            "classes. By its nature, OOD data is not available at the training time.\n",
            "\n",
            "The genomic sequence is 250 long, composed by characters of {A, C, G, T}. The\n",
            "sample size of each class is 100,000 in the training and 10,000 for the\n",
            "validation and test sets.\n",
            "\n",
            "For each example, the features include:\n",
            "  seq: the input DNA sequence composed by {A, C, G, T}.\n",
            "  label: the name of the bacteria class.\n",
            "  seq_info: the source of the DNA sequence, i.e., the genome name, NCBI\n",
            "  accession number, and the position where it was sampled from.\n",
            "  domain: if the bacteria is in-distribution (in), or OOD (ood)\n",
            "\n",
            "The details of the dataset can be found in the paper supplemental.',\n",
            "    homepage='https://github.com/google-research/google-research/tree/master/genomics_ood',\n",
            "    features=FeaturesDict({\n",
            "        'domain': Text(shape=(), dtype=tf.string),\n",
            "        'label': ClassLabel(shape=(), dtype=tf.int64, num_classes=130),\n",
            "        'seq': Text(shape=(), dtype=tf.string),\n",
            "        'seq_info': Text(shape=(), dtype=tf.string),\n",
            "    }),\n",
            "    total_num_examples=2400000,\n",
            "    splits={\n",
            "        'test': 100000,\n",
            "        'test_ood': 600000,\n",
            "        'train': 1000000,\n",
            "        'validation': 100000,\n",
            "        'validation_ood': 600000,\n",
            "    },\n",
            "    supervised_keys=('seq', 'label'),\n",
            "    citation=\"\"\"@inproceedings{ren2019likelihood,\n",
            "      title={Likelihood ratios for out-of-distribution detection},\n",
            "      author={Ren, Jie and\n",
            "      Liu, Peter J and\n",
            "      Fertig, Emily and\n",
            "      Snoek, Jasper and\n",
            "      Poplin, Ryan and\n",
            "      Depristo, Mark and\n",
            "      Dillon, Joshua and\n",
            "      Lakshminarayanan, Balaji},\n",
            "      booktitle={Advances in Neural Information Processing Systems},\n",
            "      pages={14707--14718},\n",
            "      year={2019}\n",
            "    }\"\"\",\n",
            "    redistribution_info=,\n",
            ")\n",
            "\n"
          ]
        }
      ]
    },
    {
      "cell_type": "code",
      "metadata": {
        "colab": {
          "base_uri": "https://localhost:8080/",
          "height": 216
        },
        "id": "3LtJI8-8C4cx",
        "outputId": "eaf94aef-9146-41c8-eff0-79d8a7293cb2"
      },
      "source": [
        "# have a look at some example datapoints\n",
        "tfds.as_dataframe(train_ds.take(5), info)"
      ],
      "execution_count": 3,
      "outputs": [
        {
          "output_type": "execute_result",
          "data": {
            "text/html": [
              "<style  type=\"text/css\" >\n",
              "</style><table id=\"T_280b4bde_44d9_11ec_85d6_0242ac1c0002\" ><thead>    <tr>        <th class=\"blank level0\" ></th>        <th class=\"col_heading level0 col0\" >label</th>        <th class=\"col_heading level0 col1\" >seq</th>    </tr></thead><tbody>\n",
              "                <tr>\n",
              "                        <th id=\"T_280b4bde_44d9_11ec_85d6_0242ac1c0002level0_row0\" class=\"row_heading level0 row0\" >0</th>\n",
              "                        <td id=\"T_280b4bde_44d9_11ec_85d6_0242ac1c0002row0_col0\" class=\"data row0 col0\" >7 (Staphylococcus)</td>\n",
              "                        <td id=\"T_280b4bde_44d9_11ec_85d6_0242ac1c0002row0_col1\" class=\"data row0 col1\" >AAACTATGTTATATTCACGATGATTAACTTACAAAGGAGTTTCAACTATGAAGATGATAAACAAATTAATCGTTCCGGTAACAGCTAGTGCTTTATTATTAGGCGCTTGTGGCGCTAGTGCCACAGACTCTAAAGAAAATACATTAATTTCTTCTAAAGCTGGAGACGTAACAGTTGCAGATACAATGAAAAAAATCGGTAAAGATCAAATTGCAAATGCATCATTTACTGAAATGTTAAATAAAATTTT</td>\n",
              "            </tr>\n",
              "            <tr>\n",
              "                        <th id=\"T_280b4bde_44d9_11ec_85d6_0242ac1c0002level0_row1\" class=\"row_heading level0 row1\" >1</th>\n",
              "                        <td id=\"T_280b4bde_44d9_11ec_85d6_0242ac1c0002row1_col0\" class=\"data row1 col0\" >5 (Pseudomonas)</td>\n",
              "                        <td id=\"T_280b4bde_44d9_11ec_85d6_0242ac1c0002row1_col1\" class=\"data row1 col1\" >CACAGCCGGCCGCTGACCTGCTGGCCATCGGAGCGCTGGCCGGCCTCGAGGATATTGGCCAGCAGCAGGTGGATGTCTCGGGCATAGCGCTCCCCCTGGTAGGTGATGCGAATGCTGCGGCCCTGGCGCTCGGTCAGGGCAAAACCCAGGGTCTGCTCCAGGCTCTTGATCTGGTGGCTGATGGCGCTGGGCGTCAGGTTCAGCTCATTGGCGGCCTCGGCGACACTGCCCAGGCGGGCCACCGCGTCCA</td>\n",
              "            </tr>\n",
              "            <tr>\n",
              "                        <th id=\"T_280b4bde_44d9_11ec_85d6_0242ac1c0002level0_row2\" class=\"row_heading level0 row2\" >2</th>\n",
              "                        <td id=\"T_280b4bde_44d9_11ec_85d6_0242ac1c0002row2_col0\" class=\"data row2 col0\" >1 (Burkholderia)</td>\n",
              "                        <td id=\"T_280b4bde_44d9_11ec_85d6_0242ac1c0002row2_col1\" class=\"data row2 col1\" >CGCCGGCACCGTTGCTGGCCAAAATCGCCGAGCGTCCGGATGCCGGCATGCATCGTGAATCGTCTTATCTGAAATGGCACTGGCGCGTTTGCCGGGAACTTCTCCAACGTCGGGAGCACGGGGCAACTCATGGCTAAACTCATCGTGGGCAACGTCGATAACGAAGCAATGATCGGGGACACGAAGCGTGCATCGCTTCCGCTTCGCCAGGTATCAGCGATTGCAGCAAGGCGCCTCGTCTGGCAGATGA</td>\n",
              "            </tr>\n",
              "            <tr>\n",
              "                        <th id=\"T_280b4bde_44d9_11ec_85d6_0242ac1c0002level0_row3\" class=\"row_heading level0 row3\" >3</th>\n",
              "                        <td id=\"T_280b4bde_44d9_11ec_85d6_0242ac1c0002row3_col0\" class=\"data row3 col0\" >5 (Pseudomonas)</td>\n",
              "                        <td id=\"T_280b4bde_44d9_11ec_85d6_0242ac1c0002row3_col1\" class=\"data row3 col1\" >GCAGGTGCTGTTGGCCGGCACCAACCACCACATCCGCCTGCTGCAGAATGGCCAGCTGGCCTACACTGCCGAGCCGGTCAACGAAATCTATCGGCCTTCGATCGATGTGTTCTTCGAAAGCGTCGCGCGCTATTGGTCGGGCGATGCGGTGGGCGTGCTGCTCACCGGCATGGGCCGCGATGGTGCCCAGGGCCTGAAGCTGATGCGCCAGCAGGGCTTCCTGACCATCGCCCAGGACCAGCAGAGCAGC</td>\n",
              "            </tr>\n",
              "            <tr>\n",
              "                        <th id=\"T_280b4bde_44d9_11ec_85d6_0242ac1c0002level0_row4\" class=\"row_heading level0 row4\" >4</th>\n",
              "                        <td id=\"T_280b4bde_44d9_11ec_85d6_0242ac1c0002row4_col0\" class=\"data row4 col0\" >6 (Salmonella)</td>\n",
              "                        <td id=\"T_280b4bde_44d9_11ec_85d6_0242ac1c0002row4_col1\" class=\"data row4 col1\" >TCCGGACGCCAATTTATTACCGGTAAGAAAAGCGAACTCACCTAATTTTACGGTCTGGTGACCAGAACCGACCGCACGCAAAAGCTTCTGAACCGATGAGGATGCTATGGGAAACACAACAATACAAACGCAGAGTTTTCGTGCTGTGGATGCAGAGCAAAGCAAGAGCAAGCGCTACATTATTCCATTCGCCTTACTTTGCTCGCTATTTTTTCTGTGGGCTGTCGCCAATAATCTGAATGACATTTTA</td>\n",
              "            </tr>\n",
              "    </tbody></table>"
            ],
            "text/plain": [
              "   label                                                seq\n",
              "0      7  b'AAACTATGTTATATTCACGATGATTAACTTACAAAGGAGTTTCA...\n",
              "1      5  b'CACAGCCGGCCGCTGACCTGCTGGCCATCGGAGCGCTGGCCGGC...\n",
              "2      1  b'CGCCGGCACCGTTGCTGGCCAAAATCGCCGAGCGTCCGGATGCC...\n",
              "3      5  b'GCAGGTGCTGTTGGCCGGCACCAACCACCACATCCGCCTGCTGC...\n",
              "4      6  b'TCCGGACGCCAATTTATTACCGGTAAGAAAAGCGAACTCACCTA..."
            ]
          },
          "metadata": {},
          "execution_count": 3
        }
      ]
    },
    {
      "cell_type": "code",
      "metadata": {
        "colab": {
          "base_uri": "https://localhost:8080/"
        },
        "id": "u7H2mK8ZS_r_",
        "outputId": "0043c609-8385-4f15-ff3e-53e79b5611b7"
      },
      "source": [
        "# check the structure of a single tensor\n",
        "for elem in train_ds.take(1):\n",
        "  for e in elem:\n",
        "    print(e)"
      ],
      "execution_count": 4,
      "outputs": [
        {
          "output_type": "stream",
          "name": "stdout",
          "text": [
            "tf.Tensor(b'AAACTATGTTATATTCACGATGATTAACTTACAAAGGAGTTTCAACTATGAAGATGATAAACAAATTAATCGTTCCGGTAACAGCTAGTGCTTTATTATTAGGCGCTTGTGGCGCTAGTGCCACAGACTCTAAAGAAAATACATTAATTTCTTCTAAAGCTGGAGACGTAACAGTTGCAGATACAATGAAAAAAATCGGTAAAGATCAAATTGCAAATGCATCATTTACTGAAATGTTAAATAAAATTTT', shape=(), dtype=string)\n",
            "tf.Tensor(7, shape=(), dtype=int64)\n"
          ]
        }
      ]
    },
    {
      "cell_type": "code",
      "metadata": {
        "id": "IrMyWzUhmwTE"
      },
      "source": [
        "# function to transform the genomic sequence string to one-hot-vectors for encoding the nucleotides (A, C, G, T)\n",
        "def onehotify(tensor):\n",
        "  vocab = {'A':'1', 'C': '2', 'G':'3', 'T':'0'}\n",
        "  for key in vocab.keys():\n",
        "    tensor = tf.strings.regex_replace(tensor, key, vocab[key])\n",
        "  split = tf.strings.bytes_split(tensor)\n",
        "  labels = tf.cast(tf.strings.to_number(split), tf.uint8)\n",
        "  onehot = tf.one_hot(labels, 4)\n",
        "  onehot = tf.reshape(onehot, (-1,))\n",
        "  return onehot"
      ],
      "execution_count": 5,
      "outputs": []
    },
    {
      "cell_type": "code",
      "metadata": {
        "id": "vWqSDI3VGbZj"
      },
      "source": [
        "# function to prepare the dataset\n",
        "def prepare_genomics_data(ds):\n",
        "  # create one-hot sequences\n",
        "  ds = ds.map(lambda seq, target: (onehotify(seq), target))\n",
        "  # create one-hot targets\n",
        "  ds = ds.map(lambda seq, target: (seq, tf.one_hot(target, depth=10)))\n",
        "  # shuffle, batch and prefetch the data\n",
        "  ds = ds.shuffle(1000).batch(25).prefetch(20)\n",
        "  return ds"
      ],
      "execution_count": 6,
      "outputs": []
    },
    {
      "cell_type": "code",
      "metadata": {
        "id": "1fJbSHdT_pKU"
      },
      "source": [
        "# use 100.000 examples for training and 1.000 for testing\n",
        "train_ds = train_ds.take(100000)\n",
        "test_ds = test_ds.take(1000)"
      ],
      "execution_count": 7,
      "outputs": []
    },
    {
      "cell_type": "code",
      "metadata": {
        "id": "ymh2acpuPfb7"
      },
      "source": [
        "# prepare the training and the test dataset\n",
        "train_dataset = train_ds.apply(prepare_genomics_data)\n",
        "test_dataset = test_ds.apply(prepare_genomics_data)\n"
      ],
      "execution_count": 8,
      "outputs": []
    },
    {
      "cell_type": "code",
      "metadata": {
        "colab": {
          "base_uri": "https://localhost:8080/"
        },
        "id": "A-QkBiWHUkAf",
        "outputId": "932f03f4-3dc7-43e4-be08-2f2abc487e32"
      },
      "source": [
        "# let's inspect the respective shapes again after preparing the data \n",
        "for a, b in train_dataset.take(1):\n",
        "  print(a)\n",
        "  print(b)"
      ],
      "execution_count": 9,
      "outputs": [
        {
          "output_type": "stream",
          "name": "stdout",
          "text": [
            "tf.Tensor(\n",
            "[[1. 0. 0. ... 1. 0. 0.]\n",
            " [1. 0. 0. ... 0. 0. 1.]\n",
            " [0. 0. 0. ... 0. 0. 1.]\n",
            " ...\n",
            " [1. 0. 0. ... 1. 0. 0.]\n",
            " [0. 0. 0. ... 0. 1. 0.]\n",
            " [0. 0. 1. ... 0. 0. 0.]], shape=(25, 1000), dtype=float32)\n",
            "tf.Tensor(\n",
            "[[0. 0. 0. 1. 0. 0. 0. 0. 0. 0.]\n",
            " [0. 0. 0. 0. 0. 0. 0. 0. 1. 0.]\n",
            " [0. 0. 0. 0. 0. 0. 0. 0. 0. 1.]\n",
            " [0. 0. 0. 0. 0. 0. 0. 0. 1. 0.]\n",
            " [0. 0. 0. 0. 0. 0. 0. 1. 0. 0.]\n",
            " [0. 0. 0. 0. 0. 0. 0. 0. 1. 0.]\n",
            " [0. 1. 0. 0. 0. 0. 0. 0. 0. 0.]\n",
            " [0. 0. 1. 0. 0. 0. 0. 0. 0. 0.]\n",
            " [0. 0. 0. 0. 0. 0. 0. 0. 1. 0.]\n",
            " [0. 0. 0. 0. 0. 0. 0. 1. 0. 0.]\n",
            " [0. 0. 0. 1. 0. 0. 0. 0. 0. 0.]\n",
            " [0. 0. 0. 1. 0. 0. 0. 0. 0. 0.]\n",
            " [0. 0. 0. 0. 0. 0. 0. 0. 0. 1.]\n",
            " [0. 0. 0. 1. 0. 0. 0. 0. 0. 0.]\n",
            " [0. 0. 0. 0. 1. 0. 0. 0. 0. 0.]\n",
            " [1. 0. 0. 0. 0. 0. 0. 0. 0. 0.]\n",
            " [0. 0. 0. 1. 0. 0. 0. 0. 0. 0.]\n",
            " [0. 1. 0. 0. 0. 0. 0. 0. 0. 0.]\n",
            " [0. 0. 0. 0. 0. 0. 0. 1. 0. 0.]\n",
            " [0. 0. 0. 1. 0. 0. 0. 0. 0. 0.]\n",
            " [0. 0. 1. 0. 0. 0. 0. 0. 0. 0.]\n",
            " [0. 1. 0. 0. 0. 0. 0. 0. 0. 0.]\n",
            " [0. 0. 0. 0. 0. 0. 1. 0. 0. 0.]\n",
            " [0. 0. 0. 0. 0. 1. 0. 0. 0. 0.]\n",
            " [0. 0. 0. 0. 0. 0. 0. 0. 0. 1.]], shape=(25, 10), dtype=float32)\n"
          ]
        }
      ]
    },
    {
      "cell_type": "markdown",
      "metadata": {
        "id": "0xcgJhJcYn9i"
      },
      "source": [
        "# Model"
      ]
    },
    {
      "cell_type": "code",
      "metadata": {
        "id": "BmYHT4vPYpwz"
      },
      "source": [
        "# Custom Layer\n",
        "class SimpleDense(tf.keras.layers.Layer):\n",
        "\n",
        "    def __init__(self, units, activation):\n",
        "        super(SimpleDense, self).__init__()\n",
        "        self.units = units\n",
        "        self.activation = activation\n",
        "\n",
        "    def build(self, input_shape): \n",
        "        self.w = self.add_weight(shape=(input_shape[-1], self.units),\n",
        "                               initializer='random_normal',\n",
        "                               trainable=True)\n",
        "        self.b = self.add_weight(shape=(self.units,),\n",
        "                               initializer='random_normal',\n",
        "                               trainable=True)\n",
        "\n",
        "    def call(self, inputs): \n",
        "        x = tf.matmul(inputs, self.w) + self.b\n",
        "        x = self.activation(x)\n",
        "        return x"
      ],
      "execution_count": 10,
      "outputs": []
    },
    {
      "cell_type": "code",
      "metadata": {
        "id": "mp0Sego3Y6N0"
      },
      "source": [
        "# Custom Model\n",
        "class MyModel(tf.keras.Model):\n",
        "    \n",
        "    def __init__(self):\n",
        "        super(MyModel, self).__init__()\n",
        "        self.dense1 = tf.keras.layers.Dense(256, activation=tf.nn.sigmoid) # 1st hidden layer with 256 units\n",
        "        self.dense2 = tf.keras.layers.Dense(256, activation=tf.nn.sigmoid) # 2nd hidden layer with 256 units\n",
        "        self.out = tf.keras.layers.Dense(10, activation=tf.nn.softmax) # output layer with 10 units\n",
        "\n",
        "    def call(self, inputs):\n",
        "        x = self.dense1(inputs)\n",
        "        x = self.dense2(x)\n",
        "        x = self.out(x)\n",
        "        return x"
      ],
      "execution_count": 11,
      "outputs": []
    },
    {
      "cell_type": "markdown",
      "metadata": {
        "id": "-ba8vW1GawDu"
      },
      "source": [
        "# Training function"
      ]
    },
    {
      "cell_type": "code",
      "metadata": {
        "id": "lNZR5Fz9axYs"
      },
      "source": [
        "def train_step(model, input, target, loss_function, optimizer):\n",
        "  # loss_object and optimizer_object are instances of respective tensorflow classes\n",
        "  with tf.GradientTape() as tape:\n",
        "    prediction = model(input)\n",
        "    loss = loss_function(target, prediction)\n",
        "    gradients = tape.gradient(loss, model.trainable_variables)\n",
        "  optimizer.apply_gradients(zip(gradients, model.trainable_variables))\n",
        "  return loss\n",
        "\n",
        "def test(model, test_data, loss_function):\n",
        "  # test over complete test data\n",
        "\n",
        "  test_accuracy_aggregator = []\n",
        "  test_loss_aggregator = []\n",
        "\n",
        "  for (input, target) in test_data:\n",
        "    prediction = model(input)\n",
        "    sample_test_loss = loss_function(target, prediction)\n",
        "    sample_test_accuracy =  np.argmax(target, axis=1) == np.argmax(prediction, axis=1)\n",
        "    sample_test_accuracy = np.mean(sample_test_accuracy)\n",
        "    test_loss_aggregator.append(sample_test_loss.numpy())\n",
        "    test_accuracy_aggregator.append(np.mean(sample_test_accuracy))\n",
        "\n",
        "  test_loss = tf.reduce_mean(test_loss_aggregator)\n",
        "  test_accuracy = tf.reduce_mean(test_accuracy_aggregator)\n",
        "\n",
        "  return test_loss, test_accuracy"
      ],
      "execution_count": 12,
      "outputs": []
    },
    {
      "cell_type": "markdown",
      "metadata": {
        "id": "GlwqMuXTbHyM"
      },
      "source": [
        "# Training and visualization"
      ]
    },
    {
      "cell_type": "code",
      "metadata": {
        "colab": {
          "base_uri": "https://localhost:8080/"
        },
        "id": "klLqbbraa-zZ",
        "outputId": "33c701d4-62ea-4ddd-95bd-ec05ffcd21e1"
      },
      "source": [
        "tf.keras.backend.clear_session()\n",
        "\n",
        "# Hyperparameters\n",
        "num_epochs = 10\n",
        "learning_rate = 0.1\n",
        "\n",
        "# Initialize the model\n",
        "model = MyModel()\n",
        "# Initialize the loss: categorical cross entropy. Check out 'tf.keras.losses'\n",
        "cross_entropy_loss = tf.keras.losses.CategoricalCrossentropy()\n",
        "# Initialize the optimizer: SGD with default parameters. Check out 'tf.keras.optimizers'\n",
        "optimizer = tf.keras.optimizers.SGD(learning_rate)\n",
        "\n",
        "# Initialize lists for later visualization.\n",
        "train_losses = []\n",
        "\n",
        "test_losses = []\n",
        "test_accuracies = []\n",
        "\n",
        "# Testing once before we begin\n",
        "test_loss, test_accuracy = test(model, test_dataset, cross_entropy_loss)\n",
        "test_losses.append(test_loss)\n",
        "test_accuracies.append(test_accuracy)\n",
        "\n",
        "# Check how model performs on train data once before we begin\n",
        "train_loss, _ = test(model, train_dataset, cross_entropy_loss)\n",
        "train_losses.append(train_loss)\n",
        "\n",
        "# We train for num_epochs epochs\n",
        "for epoch in range(num_epochs):\n",
        "    print(f'Epoch: {str(epoch)} starting with accuracy {test_accuracies[-1]}')\n",
        "\n",
        "    # Training (and checking in with training)\n",
        "    epoch_loss_agg = []\n",
        "    for input,target in train_dataset:\n",
        "        train_loss = train_step(model, input, target, cross_entropy_loss, optimizer)\n",
        "        epoch_loss_agg.append(train_loss)\n",
        "    \n",
        "    # Track training loss\n",
        "    train_losses.append(tf.reduce_mean(epoch_loss_agg))\n",
        "\n",
        "    # Testing, so we can track accuracy and test loss\n",
        "    test_loss, test_accuracy = test(model, test_dataset, cross_entropy_loss)\n",
        "    test_losses.append(test_loss)\n",
        "    test_accuracies.append(test_accuracy)"
      ],
      "execution_count": 13,
      "outputs": [
        {
          "output_type": "stream",
          "name": "stdout",
          "text": [
            "Epoch: 0 starting with accuracy 0.093\n",
            "Epoch: 1 starting with accuracy 0.318\n",
            "Epoch: 2 starting with accuracy 0.368\n",
            "Epoch: 3 starting with accuracy 0.34500000000000003\n",
            "Epoch: 4 starting with accuracy 0.378\n",
            "Epoch: 5 starting with accuracy 0.366\n",
            "Epoch: 6 starting with accuracy 0.379\n",
            "Epoch: 7 starting with accuracy 0.35300000000000004\n",
            "Epoch: 8 starting with accuracy 0.358\n",
            "Epoch: 9 starting with accuracy 0.348\n"
          ]
        }
      ]
    },
    {
      "cell_type": "code",
      "metadata": {
        "colab": {
          "base_uri": "https://localhost:8080/",
          "height": 279
        },
        "id": "qqeNnQvYbbZ-",
        "outputId": "de5f6327-dc46-44b7-863a-3bc7fb9728cf"
      },
      "source": [
        "# Visualize accuracy and loss for training and test data\n",
        "plt.figure()\n",
        "line1, = plt.plot(train_losses)\n",
        "line2, = plt.plot(test_losses)\n",
        "line3, = plt.plot(test_accuracies)\n",
        "plt.xlabel(\"Training steps\")\n",
        "plt.ylabel(\"Loss/Accuracy\")\n",
        "plt.legend((line1,line2, line3),(\"training\",\"test\", \"test accuracy\"))\n",
        "plt.show()"
      ],
      "execution_count": 14,
      "outputs": [
        {
          "output_type": "display_data",
          "data": {
            "image/png": "[encoded data removed]",
            "text/plain": [
              "<Figure size 432x288 with 1 Axes>"
            ]
          },
          "metadata": {
            "needs_background": "light"
          }
        }
      ]
    }
  ]
}