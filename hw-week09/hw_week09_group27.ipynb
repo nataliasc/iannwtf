{
 "cells": [
  {
   "cell_type": "markdown",
   "metadata": {
    "id": "2Qaj18msKDOK"
   },
   "source": [
    "# Homework 09 — IANNwTF\n",
    "## Group 27\n",
    "Deadline: Jan 16, 2021 23:59\n",
    "\n",
    "<https://forms.gle/n6ERdhYx3uBPzuGn9>\n"
   ]
  },
  {
   "cell_type": "code",
   "execution_count": 1,
   "metadata": {
    "id": "sd37kIBGJ8-U"
   },
   "outputs": [],
   "source": [
    "import numpy as np\n",
    "import tensorflow as tf\n",
    "import matplotlib.pyplot as plt\n",
    "%config InlineBackend.figure_format = 'retina'\n",
    "plt.rcParams['font.size'] = 15"
   ]
  },
  {
   "cell_type": "markdown",
   "metadata": {
    "id": "qf7u6G_YeN1T"
   },
   "source": [
    "# The Quick, Draw! Dataset"
   ]
  },
  {
   "cell_type": "code",
   "execution_count": 2,
   "metadata": {
    "id": "M4X2hjL1eRSz"
   },
   "outputs": [],
   "source": [
    "import os\n",
    "import glob\n",
    "import imageio\n",
    "import matplotlib.pyplot as plt\n",
    "import numpy as np\n",
    "import PIL\n",
    "from tensorflow.keras import layers\n",
    "import time\n",
    "\n",
    "from IPython import display"
   ]
  },
  {
   "cell_type": "code",
   "execution_count": 3,
   "metadata": {
    "colab": {
     "base_uri": "https://localhost:8080/"
    },
    "id": "EyVButk1eUGv",
    "outputId": "c64b832f-b929-4eac-89a8-ad5b72d95d09"
   },
   "outputs": [
    {
     "name": "stdout",
     "output_type": "stream",
     "text": [
      "[b'aircraft carrier', b'airplane', b'alarm clock', b'ambulance', b'angel', b'animal migration', b'ant', b'anvil', b'apple', b'arm']\n"
     ]
    }
   ],
   "source": [
    "import urllib\n",
    "categories = [line.rstrip(b'\\n') for line in urllib.request.urlopen('https://raw.githubusercontent.com/googlecreativelab/quickdraw-dataset/master/categories.txt')]\n",
    "print(categories[:10])\n",
    "category = 'candle'"
   ]
  },
  {
   "cell_type": "code",
   "execution_count": 4,
   "metadata": {
    "colab": {
     "base_uri": "https://localhost:8080/"
    },
    "id": "HxTw2KjIeWE2",
    "outputId": "f2917eef-9667-4d2a-b5be-cfc8898f28a7"
   },
   "outputs": [
    {
     "name": "stdout",
     "output_type": "stream",
     "text": [
      "141545 images available\n",
      "\n",
      "10000 images used for training\n",
      "41545 images used for testing\n"
     ]
    }
   ],
   "source": [
    "# Creates a folder to download the original drawings into.\n",
    "# We chose to use the numpy format : 1x784 pixel vectors, with values going from 0 (white) to 255 (black).\n",
    "# We reshape them later to 28x28 grids and normalize the pixel intensity to [-1, 1]\n",
    "\n",
    "if not os.path.isdir('npy_files'):\n",
    "    os.mkdir('npy_files')\n",
    "    \n",
    "url = f'https://storage.googleapis.com/quickdraw_dataset/full/numpy_bitmap/{category}.npy'  \n",
    "urllib.request.urlretrieve(url, f'npy_files/{category}.npy')\n",
    "\n",
    "images = np.load(f'npy_files/{category}.npy')\n",
    "print(f'{len(images)} images available')\n",
    "\n",
    "# You can limit the amount of images you use for training by setting :\n",
    "train_images = images[:10000]\n",
    "# You should also define a samller subset of the images for testing..\n",
    "test_images = images[100000:]\n",
    "\n",
    "print()\n",
    "print(f'{len(train_images)} images used for training')\n",
    "print(f'{len(test_images)} images used for testing')"
   ]
  },
  {
   "cell_type": "code",
   "execution_count": 5,
   "metadata": {
    "colab": {
     "base_uri": "https://localhost:8080/",
     "height": 174
    },
    "id": "Lide4TqhhIWv",
    "outputId": "b6df827e-bde6-4e52-9575-e912b7d924b8"
   },
   "outputs": [
    {
     "data": {
      "image/png": "[encoded data removed]",
      "text/plain": [
       "<Figure size 1080x216 with 5 Axes>"
      ]
     },
     "metadata": {
      "image/png": {
       "height": 158,
       "width": 851
      },
      "needs_background": "light"
     },
     "output_type": "display_data"
    }
   ],
   "source": [
    "# show example images\n",
    "npics = 5\n",
    "fig, ax = plt.subplots(nrows=1, ncols=npics, figsize=(15,3))\n",
    "ax = ax.flatten()\n",
    "for i in range(5):\n",
    "    ax[i].imshow(np.reshape(train_images[i], (28, 28)), cmap='gray', vmin=0, vmax=255)\n",
    "    ax[i].axis(\"off\")"
   ]
  },
  {
   "cell_type": "markdown",
   "metadata": {
    "id": "pytsUrBwKYea"
   },
   "source": [
    "# Preprocessing"
   ]
  },
  {
   "cell_type": "code",
   "execution_count": 6,
   "metadata": {
    "id": "eZC3DWYzfnEn"
   },
   "outputs": [],
   "source": [
    "def prepare_data(image_array):\n",
    "    # create dataset from array\n",
    "    ds = tf.data.Dataset.from_tensor_slices(image_array)\n",
    "    # cast tensors to float32\n",
    "    ds = ds.map(lambda img: tf.cast(img, tf.float32))\n",
    "    # reshape the pixel arrays to images\n",
    "    ds = ds.map(lambda img: tf.reshape(img, (28,28,1)))\n",
    "    # normalize (bring values to a range from -1 to 1)\n",
    "    ds = ds.map(lambda img: ((img/128.)-1.))\n",
    "    # shuffle, batch, prefetch\n",
    "    ds = ds.shuffle(1000).batch(32).prefetch(tf.data.AUTOTUNE)\n",
    "    return ds"
   ]
  },
  {
   "cell_type": "code",
   "execution_count": 7,
   "metadata": {
    "id": "w4rcURbQfVaQ"
   },
   "outputs": [],
   "source": [
    "train_ds = prepare_data(train_images)\n",
    "test_ds = prepare_data(test_images)"
   ]
  },
  {
   "cell_type": "markdown",
   "metadata": {
    "id": "S_AaJR8jkCoD"
   },
   "source": [
    "# Model: GAN"
   ]
  },
  {
   "cell_type": "code",
   "execution_count": 8,
   "metadata": {
    "id": "I3xCHM3jkC6M"
   },
   "outputs": [],
   "source": [
    "class Discriminator(tf.keras.Model):\n",
    "  def __init__(self):\n",
    "    super(Discriminator, self).__init__()\n",
    "    self.layers_1 = [# first convolution\n",
    "                     tf.keras.layers.Conv2D(16, (3,3), activation='relu', padding='same', input_shape=(28, 28, 1)),\n",
    "                     tf.keras.layers.Dropout(0.3)]\n",
    "    self.bn_1 = tf.keras.layers.BatchNormalization()\n",
    "    self.layers_2 = [tf.keras.layers.MaxPooling2D(2, 2),\n",
    "                     # second convolution\n",
    "                      tf.keras.layers.Conv2D(32, (3,3), activation='relu', padding='same'),\n",
    "                      tf.keras.layers.Dropout(0.3)]\n",
    "    self.bn_2 = tf.keras.layers.BatchNormalization()\n",
    "    self.layers_3 = [tf.keras.layers.MaxPooling2D(2, 2),\n",
    "                     # third convolution\n",
    "                      tf.keras.layers.Conv2D(64, (3,3), activation='relu', padding='same'),\n",
    "                      tf.keras.layers.Dropout(0.3)]\n",
    "    self.bn_3 = tf.keras.layers.BatchNormalization()\n",
    "    self.layers_4 = [tf.keras.layers.MaxPooling2D(2,2),\n",
    "                     # flatten, dense, output\n",
    "                    tf.keras.layers.Flatten(),\n",
    "                    tf.keras.layers.Dense(512, activation='relu'),\n",
    "                    tf.keras.layers.Dense(1, activation='sigmoid')]\n",
    "  \n",
    "  def call(self, x, training=True):\n",
    "    for layer in self.layers_1:\n",
    "      x = layer(x)\n",
    "    x = self.bn_1(x, training = training)\n",
    "    for layer in self.layers_2:\n",
    "      x = layer(x)\n",
    "    x = self.bn_2(x, training = training)\n",
    "    for layer in self.layers_3:\n",
    "      x = layer(x)\n",
    "    x = self.bn_3(x, training = training)\n",
    "    for layer in self.layers_4:\n",
    "      x = layer(x)\n",
    "\n",
    "    return x\n"
   ]
  },
  {
   "cell_type": "markdown",
   "metadata": {},
   "source": [
    "The generator: partly following <https://www.tensorflow.org/tutorials/generative/dcgan#the_generator>"
   ]
  },
  {
   "cell_type": "code",
   "execution_count": 9,
   "metadata": {
    "id": "AUAmIuqb2-ex"
   },
   "outputs": [],
   "source": [
    "class Generator(tf.keras.Model):\n",
    "    \n",
    "    \"\"\"\n",
    "    The generator uses upsampling layers to produce an image\n",
    "    of size 28x28x1 from random noise. Uses leaky ReLU as the activation\n",
    "    function for all layers except the output layer.\n",
    "    \"\"\"\n",
    "    \n",
    "    def __init__(self):\n",
    "        super(Generator, self).__init__()\n",
    "        \n",
    "        self.layers_list = [\n",
    "            tf.keras.layers.Dense(7*7*128,\n",
    "                                  input_shape=(100,), # the latent space will be made of 100-dimensional vectors\n",
    "                                  activation=None),\n",
    "            tf.keras.layers.LeakyReLU(alpha=0.2),\n",
    "            tf.keras.layers.Reshape((7, 7, 128)),\n",
    "            \n",
    "            tf.keras.layers.Conv2DTranspose(filters=128,\n",
    "                                            kernel_size=4,\n",
    "                                            strides=2,\n",
    "                                            padding='same'),\n",
    "            tf.keras.layers.BatchNormalization(),\n",
    "            tf.keras.layers.LeakyReLU(alpha=0.2),\n",
    "            \n",
    "            tf.keras.layers.Conv2DTranspose(256,\n",
    "                                            kernel_size=4,\n",
    "                                            strides=2,\n",
    "                                            padding=\"same\"),\n",
    "            tf.keras.layers.BatchNormalization(),\n",
    "            tf.keras.layers.LeakyReLU(alpha=0.2),\n",
    "            tf.keras.layers.Conv2DTranspose(512,\n",
    "                                            kernel_size=4,\n",
    "                                            strides=2,\n",
    "                                            padding=\"same\"),\n",
    "            tf.keras.layers.BatchNormalization(),\n",
    "            tf.keras.layers.LeakyReLU(alpha=0.2),\n",
    "            tf.keras.layers.Conv2D(1,\n",
    "                                   kernel_size=4,\n",
    "                                   strides=2,\n",
    "                                   padding=\"same\",\n",
    "                                   activation=\"tanh\"),  \n",
    "        ]\n",
    "\n",
    "    def call(self, x, training=True):\n",
    "\n",
    "        for layer in self.layers_list:\n",
    "            try:\n",
    "                x = layer(x, training)\n",
    "            except:\n",
    "                x = layer(x)\n",
    "       \n",
    "        return x"
   ]
  },
  {
   "cell_type": "markdown",
   "metadata": {},
   "source": [
    "Use the (untrained) generator to create an image."
   ]
  },
  {
   "cell_type": "code",
   "execution_count": 10,
   "metadata": {},
   "outputs": [
    {
     "data": {
      "image/png": "[encoded data removed]",
      "text/plain": [
       "<Figure size 432x288 with 1 Axes>"
      ]
     },
     "metadata": {
      "image/png": {
       "height": 255,
       "width": 257
      },
      "needs_background": "light"
     },
     "output_type": "display_data"
    }
   ],
   "source": [
    "generator = Generator()\n",
    "\n",
    "noise = tf.random.normal([1, 100])\n",
    "generated_image = generator(noise, training=False)\n",
    "\n",
    "plt.imshow(generated_image[0, :, :, 0], cmap='gray');"
   ]
  },
  {
   "cell_type": "code",
   "execution_count": 11,
   "metadata": {},
   "outputs": [],
   "source": [
    "class GAN(tf.keras.Model):\n",
    "    def __init__(self, discriminator, generator, latent_dim):\n",
    "        super().__init__()\n",
    "        self.discriminator = discriminator\n",
    "        self.generator = generator\n",
    "        self.latent_dim = latent_dim\n",
    "        self.d_loss_metric = tf.keras.metrics.Mean(name=\"d_loss\")\n",
    "        self.g_loss_metric = tf.keras.metrics.Mean(name=\"g_loss\")\n",
    "        \n",
    "    @property\n",
    "    def metrics(self):\n",
    "        return [self.d_loss_metric, self.g_loss_metric]"
   ]
  },
  {
   "cell_type": "markdown",
   "metadata": {
    "id": "L2L0O8Aqpm_9"
   },
   "source": [
    "# Training"
   ]
  },
  {
   "cell_type": "code",
   "execution_count": null,
   "metadata": {},
   "outputs": [],
   "source": []
  }
 ],
 "metadata": {
  "accelerator": "GPU",
  "colab": {
   "collapsed_sections": [],
   "name": "hw-week09-group27.ipynb",
   "provenance": []
  },
  "kernelspec": {
   "display_name": "Python 3",
   "language": "python",
   "name": "python3"
  },
  "language_info": {
   "codemirror_mode": {
    "name": "ipython",
    "version": 3
   },
   "file_extension": ".py",
   "mimetype": "text/x-python",
   "name": "python",
   "nbconvert_exporter": "python",
   "pygments_lexer": "ipython3",
   "version": "3.7.9"
  }
 },
 "nbformat": 4,
 "nbformat_minor": 1
}
