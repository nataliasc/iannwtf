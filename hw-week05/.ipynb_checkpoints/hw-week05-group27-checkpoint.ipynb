{
 "cells": [
  {
   "cell_type": "markdown",
   "id": "087fb95f",
   "metadata": {},
   "source": [
    "# Homework 05 — IANNwTF\n",
    "## Group 27\n",
    "Deadline: Nov 28, 2021 23:59\n",
    "\n",
    "<https://forms.gle/8qwiuUXCfLjKGeg67>"
   ]
  },
  {
   "cell_type": "markdown",
   "id": "8178647b",
   "metadata": {},
   "source": [
    "# Dataset"
   ]
  },
  {
   "cell_type": "code",
   "execution_count": 1,
   "id": "bbb7a682",
   "metadata": {
    "scrolled": true
   },
   "outputs": [
    {
     "data": {
      "image/png": "[encoded data removed]",
      "text/plain": [
       "<Figure size 648x648 with 9 Axes>"
      ]
     },
     "metadata": {},
     "output_type": "display_data"
    },
    {
     "name": "stdout",
     "output_type": "stream",
     "text": [
      "tfds.core.DatasetInfo(\n",
      "    name='fashion_mnist',\n",
      "    full_name='fashion_mnist/3.0.1',\n",
      "    description=\"\"\"\n",
      "    Fashion-MNIST is a dataset of Zalando's article images consisting of a training set of 60,000 examples and a test set of 10,000 examples. Each example is a 28x28 grayscale image, associated with a label from 10 classes.\n",
      "    \"\"\",\n",
      "    homepage='https://github.com/zalandoresearch/fashion-mnist',\n",
      "    data_path='C:\\\\Users\\\\zoran\\\\tensorflow_datasets\\\\fashion_mnist\\\\3.0.1',\n",
      "    download_size=29.45 MiB,\n",
      "    dataset_size=36.42 MiB,\n",
      "    features=FeaturesDict({\n",
      "        'image': Image(shape=(28, 28, 1), dtype=tf.uint8),\n",
      "        'label': ClassLabel(shape=(), dtype=tf.int64, num_classes=10),\n",
      "    }),\n",
      "    supervised_keys=('image', 'label'),\n",
      "    disable_shuffling=False,\n",
      "    splits={\n",
      "        'test': <SplitInfo num_examples=10000, num_shards=1>,\n",
      "        'train': <SplitInfo num_examples=60000, num_shards=1>,\n",
      "    },\n",
      "    citation=\"\"\"@article{DBLP:journals/corr/abs-1708-07747,\n",
      "      author    = {Han Xiao and\n",
      "                   Kashif Rasul and\n",
      "                   Roland Vollgraf},\n",
      "      title     = {Fashion-MNIST: a Novel Image Dataset for Benchmarking Machine Learning\n",
      "                   Algorithms},\n",
      "      journal   = {CoRR},\n",
      "      volume    = {abs/1708.07747},\n",
      "      year      = {2017},\n",
      "      url       = {http://arxiv.org/abs/1708.07747},\n",
      "      archivePrefix = {arXiv},\n",
      "      eprint    = {1708.07747},\n",
      "      timestamp = {Mon, 13 Aug 2018 16:47:27 +0200},\n",
      "      biburl    = {https://dblp.org/rec/bib/journals/corr/abs-1708-07747},\n",
      "      bibsource = {dblp computer science bibliography, https://dblp.org}\n",
      "    }\"\"\",\n",
      ")\n"
     ]
    }
   ],
   "source": [
    "import tensorflow as tf\n",
    "import tensorflow_datasets as tfds\n",
    "\n",
    "(train_ds, test_ds), info = tfds.load('fashion_mnist', split=['train', 'test'], shuffle_files=True, with_info=True, as_supervised=True)\n",
    "fig = tfds.show_examples(train_ds, info)\n",
    "print(info)"
   ]
  },
  {
   "cell_type": "code",
   "execution_count": 2,
   "id": "b34f1860",
   "metadata": {},
   "outputs": [
    {
     "name": "stdout",
     "output_type": "stream",
     "text": [
      "Image dimensions:  (28, 28, 1)\n",
      "Target:  tf.Tensor(2, shape=(), dtype=int64)\n"
     ]
    }
   ],
   "source": [
    "for elem in train_ds.take(1):\n",
    "    print(\"Image dimensions: \", elem[0].shape)\n",
    "    print(\"Target: \", elem[1])"
   ]
  },
  {
   "cell_type": "code",
   "execution_count": 3,
   "id": "1a0519e2",
   "metadata": {},
   "outputs": [],
   "source": [
    "def prepare_fashion_mnist_data(ds):\n",
    "    # convert data from uint8 to float32\n",
    "    ds = ds.map(lambda img, target: (tf.cast(img, tf.float32), target))\n",
    "    # input normalization: bringing image values from range [0, 255] to [-1, 1]\n",
    "    ds = ds.map(lambda img, target: ((img/128.)-1., target))\n",
    "    # create one-hot targets\n",
    "    ds = ds.map(lambda img, target: (img, tf.one_hot(target, depth=10)))\n",
    "    # cache this progress in memory\n",
    "    ds = ds.cache()\n",
    "    # shuffle, batch, prefetch\n",
    "    ds = ds.shuffle(1000).batch(8).prefetch(20)\n",
    "    # return preprocessed dataset\n",
    "    return ds\n"
   ]
  },
  {
   "cell_type": "code",
   "execution_count": 4,
   "id": "9891efdf",
   "metadata": {},
   "outputs": [],
   "source": [
    "train_ds = train_ds.apply(prepare_fashion_mnist_data)\n",
    "test_ds = test_ds.apply(prepare_fashion_mnist_data)"
   ]
  },
  {
   "cell_type": "code",
   "execution_count": 5,
   "id": "fb31ef36",
   "metadata": {
    "scrolled": true
   },
   "outputs": [
    {
     "name": "stdout",
     "output_type": "stream",
     "text": [
      "Image dimensions:  (8, 28, 28, 1)\n",
      "Target:  tf.Tensor(\n",
      "[[0. 0. 0. 0. 0. 0. 0. 0. 0. 1.]\n",
      " [0. 0. 0. 0. 0. 1. 0. 0. 0. 0.]\n",
      " [0. 0. 0. 0. 0. 0. 0. 1. 0. 0.]\n",
      " [0. 0. 0. 0. 0. 0. 0. 0. 0. 1.]\n",
      " [0. 0. 0. 0. 0. 0. 0. 0. 1. 0.]\n",
      " [1. 0. 0. 0. 0. 0. 0. 0. 0. 0.]\n",
      " [0. 0. 0. 0. 1. 0. 0. 0. 0. 0.]\n",
      " [0. 0. 0. 0. 1. 0. 0. 0. 0. 0.]], shape=(8, 10), dtype=float32)\n"
     ]
    }
   ],
   "source": [
    "for elem in train_ds.take(1):\n",
    "    print(\"Image dimensions: \", elem[0].shape)\n",
    "    print(\"Target: \", elem[1])"
   ]
  },
  {
   "cell_type": "markdown",
   "id": "bbf96140",
   "metadata": {},
   "source": [
    "# Model"
   ]
  },
  {
   "cell_type": "code",
   "execution_count": null,
   "id": "fbc810f6",
   "metadata": {},
   "outputs": [],
   "source": []
  },
  {
   "cell_type": "markdown",
   "id": "178db567",
   "metadata": {},
   "source": [
    "3. For example, use one or two convolutional layers followed by a max pooling operation\n",
    "4. You should be able to solve the task with 5 layers only. Also, you should witness an increase in accuracy already after the first training epoch. On Colab with GPU support, an epoch doesn’t need to take more than a minute.\n",
    "5. A kernel size of 3, no stride and ’same’ padding usually is a good starting point. For filter sizes, we didn’t use more than 64 filters per layer, but feel free to experiment (be aware of lengthy training times though)\n",
    "6. Apply Global Average Pooling followed by a Dense layer with the number of units depending on your number of classes. Use a softmax activation.\n",
    "7. For this task you again have to use tf.keras.losses.CategoricalCrossentropy()\n",
    "8. Again, with the right architecture this should be doable in 10 epochs and shouldn’t take too long on Colab. If using Colab make sure to have your runtime settings set to GPU"
   ]
  }
 ],
 "metadata": {
  "kernelspec": {
   "display_name": "Python 3",
   "language": "python",
   "name": "python3"
  },
  "language_info": {
   "codemirror_mode": {
    "name": "ipython",
    "version": 3
   },
   "file_extension": ".py",
   "mimetype": "text/x-python",
   "name": "python",
   "nbconvert_exporter": "python",
   "pygments_lexer": "ipython3",
   "version": "3.8.8"
  }
 },
 "nbformat": 4,
 "nbformat_minor": 5
}
