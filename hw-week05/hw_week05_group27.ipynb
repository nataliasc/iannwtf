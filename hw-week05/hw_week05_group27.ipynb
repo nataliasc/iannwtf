{
  "nbformat": 4,
  "nbformat_minor": 5,
  "metadata": {
    "kernelspec": {
      "display_name": "Python 3",
      "language": "python",
      "name": "python3"
    },
    "language_info": {
      "codemirror_mode": {
        "name": "ipython",
        "version": 3
      },
      "file_extension": ".py",
      "mimetype": "text/x-python",
      "name": "python",
      "nbconvert_exporter": "python",
      "pygments_lexer": "ipython3",
      "version": "3.8.8"
    },
    "colab": {
      "name": "hw-week05-group27.ipynb",
      "provenance": [],
      "collapsed_sections": []
    },
    "accelerator": "GPU"
  },
  "cells": [
    {
      "cell_type": "markdown",
      "metadata": {
        "id": "087fb95f"
      },
      "source": [
        "# Homework 05 — IANNwTF\n",
        "## Group 27\n",
        "Deadline: Nov 28, 2021 23:59\n",
        "\n",
        "<https://forms.gle/8qwiuUXCfLjKGeg67>"
      ],
      "id": "087fb95f"
    },
    {
      "cell_type": "code",
      "metadata": {
        "id": "c7f9d8ae"
      },
      "source": [
        "# important libraries\n",
        "import numpy as np\n",
        "import tensorflow as tf\n",
        "import tensorflow_datasets as tfds\n",
        "import matplotlib.pyplot as plt"
      ],
      "id": "c7f9d8ae",
      "execution_count": 1,
      "outputs": []
    },
    {
      "cell_type": "markdown",
      "metadata": {
        "id": "8178647b"
      },
      "source": [
        "# Dataset"
      ],
      "id": "8178647b"
    },
    {
      "cell_type": "code",
      "metadata": {
        "scrolled": true,
        "colab": {
          "base_uri": "https://localhost:8080/",
          "height": 1000
        },
        "id": "bbb7a682",
        "outputId": "b82dc5e4-fb87-448b-a5eb-11636aaaf137"
      },
      "source": [
        "(train_ds, test_ds), info = tfds.load('fashion_mnist', split=['train', 'test'], shuffle_files=True, with_info=True, as_supervised=True)\n",
        "fig = tfds.show_examples(train_ds, info)\n",
        "print(info)"
      ],
      "id": "bbb7a682",
      "execution_count": 2,
      "outputs": [
        {
          "output_type": "display_data",
          "data": {
            "image/png": "[encoded data removed]",
            "text/plain": [
              "<Figure size 648x648 with 9 Axes>"
            ]
          },
          "metadata": {}
        },
        {
          "output_type": "stream",
          "name": "stdout",
          "text": [
            "tfds.core.DatasetInfo(\n",
            "    name='fashion_mnist',\n",
            "    version=3.0.1,\n",
            "    description='Fashion-MNIST is a dataset of Zalando's article images consisting of a training set of 60,000 examples and a test set of 10,000 examples. Each example is a 28x28 grayscale image, associated with a label from 10 classes.',\n",
            "    homepage='https://github.com/zalandoresearch/fashion-mnist',\n",
            "    features=FeaturesDict({\n",
            "        'image': Image(shape=(28, 28, 1), dtype=tf.uint8),\n",
            "        'label': ClassLabel(shape=(), dtype=tf.int64, num_classes=10),\n",
            "    }),\n",
            "    total_num_examples=70000,\n",
            "    splits={\n",
            "        'test': 10000,\n",
            "        'train': 60000,\n",
            "    },\n",
            "    supervised_keys=('image', 'label'),\n",
            "    citation=\"\"\"@article{DBLP:journals/corr/abs-1708-07747,\n",
            "      author    = {Han Xiao and\n",
            "                   Kashif Rasul and\n",
            "                   Roland Vollgraf},\n",
            "      title     = {Fashion-MNIST: a Novel Image Dataset for Benchmarking Machine Learning\n",
            "                   Algorithms},\n",
            "      journal   = {CoRR},\n",
            "      volume    = {abs/1708.07747},\n",
            "      year      = {2017},\n",
            "      url       = {http://arxiv.org/abs/1708.07747},\n",
            "      archivePrefix = {arXiv},\n",
            "      eprint    = {1708.07747},\n",
            "      timestamp = {Mon, 13 Aug 2018 16:47:27 +0200},\n",
            "      biburl    = {https://dblp.org/rec/bib/journals/corr/abs-1708-07747},\n",
            "      bibsource = {dblp computer science bibliography, https://dblp.org}\n",
            "    }\"\"\",\n",
            "    redistribution_info=,\n",
            ")\n",
            "\n"
          ]
        }
      ]
    },
    {
      "cell_type": "code",
      "metadata": {
        "colab": {
          "base_uri": "https://localhost:8080/"
        },
        "id": "b34f1860",
        "outputId": "4f8e9655-4816-4e23-bdc3-0ac33d22847c"
      },
      "source": [
        "for elem in train_ds.take(1):\n",
        "    print(\"Image dimensions: \", elem[0].shape)\n",
        "    print(\"Target: \", elem[1])"
      ],
      "id": "b34f1860",
      "execution_count": 3,
      "outputs": [
        {
          "output_type": "stream",
          "name": "stdout",
          "text": [
            "Image dimensions:  (28, 28, 1)\n",
            "Target:  tf.Tensor(2, shape=(), dtype=int64)\n"
          ]
        }
      ]
    },
    {
      "cell_type": "code",
      "metadata": {
        "id": "1a0519e2"
      },
      "source": [
        "def prepare_fashion_mnist_data(ds):\n",
        "    # convert data from uint8 to float32\n",
        "    ds = ds.map(lambda img, target: (tf.cast(img, tf.float32), target))\n",
        "    # input normalization: bringing image values from range [0, 255] to [-1, 1]\n",
        "    ds = ds.map(lambda img, target: ((img/128.)-1., target))\n",
        "    # create one-hot targets\n",
        "    ds = ds.map(lambda img, target: (img, tf.one_hot(target, depth=10)))\n",
        "    # cache this progress in memory\n",
        "    ds = ds.cache()\n",
        "    # shuffle, batch, prefetch\n",
        "    ds = ds.shuffle(1000).batch(8).prefetch(20)\n",
        "    # return preprocessed dataset\n",
        "    return ds\n"
      ],
      "id": "1a0519e2",
      "execution_count": 4,
      "outputs": []
    },
    {
      "cell_type": "code",
      "metadata": {
        "id": "9891efdf"
      },
      "source": [
        "train_ds = train_ds.apply(prepare_fashion_mnist_data)\n",
        "test_ds = test_ds.apply(prepare_fashion_mnist_data)"
      ],
      "id": "9891efdf",
      "execution_count": 5,
      "outputs": []
    },
    {
      "cell_type": "code",
      "metadata": {
        "scrolled": true,
        "colab": {
          "base_uri": "https://localhost:8080/"
        },
        "id": "fb31ef36",
        "outputId": "2baad7df-5001-4598-9a95-f0ab3900cd40"
      },
      "source": [
        "for elem in train_ds.take(1):\n",
        "    print(\"Image dimensions: \", elem[0].shape)\n",
        "    input_shape = np.array(elem[0].shape) # save shape of model input for later when building the model\n",
        "    print(\"Target: \", elem[1])"
      ],
      "id": "fb31ef36",
      "execution_count": 6,
      "outputs": [
        {
          "output_type": "stream",
          "name": "stdout",
          "text": [
            "Image dimensions:  (8, 28, 28, 1)\n",
            "Target:  tf.Tensor(\n",
            "[[0. 0. 0. 0. 0. 1. 0. 0. 0. 0.]\n",
            " [0. 0. 0. 0. 0. 1. 0. 0. 0. 0.]\n",
            " [0. 0. 0. 0. 0. 0. 0. 0. 0. 1.]\n",
            " [0. 1. 0. 0. 0. 0. 0. 0. 0. 0.]\n",
            " [0. 0. 1. 0. 0. 0. 0. 0. 0. 0.]\n",
            " [0. 0. 0. 0. 0. 0. 0. 0. 1. 0.]\n",
            " [0. 0. 0. 0. 0. 0. 1. 0. 0. 0.]\n",
            " [0. 0. 1. 0. 0. 0. 0. 0. 0. 0.]], shape=(8, 10), dtype=float32)\n"
          ]
        }
      ]
    },
    {
      "cell_type": "markdown",
      "metadata": {
        "id": "bbf96140"
      },
      "source": [
        "# Model"
      ],
      "id": "bbf96140"
    },
    {
      "cell_type": "code",
      "metadata": {
        "id": "c79afae3"
      },
      "source": [
        "n_outputs = 4 # number of filters to be applied in the convolutional layers\n"
      ],
      "id": "c79afae3",
      "execution_count": 7,
      "outputs": []
    },
    {
      "cell_type": "code",
      "metadata": {
        "id": "fbc810f6"
      },
      "source": [
        "##### this is just a DRAFT!\n",
        "\n",
        "# Custom Model\n",
        "class MyModel(tf.keras.Model):\n",
        "    \"\"\" \n",
        "    Custom CNN model for a classification task, which inherits from the keras.Model class\n",
        "\n",
        "    Functions:\n",
        "    init: constructor\n",
        "    call: performs forward pass\n",
        "    \"\"\"\n",
        "    \n",
        "    def __init__(self):\n",
        "        '''\n",
        "        Constructs the model with X layers, and 1 dense layer with 10 output neurons\n",
        "        '''\n",
        "        super(MyModel, self).__init__()\n",
        "        self.conv1 = tf.keras.layers.Conv2D(8, (5, 5), padding='same')\n",
        "        self.conv2 = tf.keras.layers.Conv2D(24, (3, 3), padding='same')        \n",
        "        self.pool3 = tf.keras.layers.MaxPooling2D((2, 2), padding='same')\n",
        "        self.pool4 =  tf.keras.layers.GlobalAveragePooling2D()\n",
        "        self.out = tf.keras.layers.Dense(10, activation ='softmax') # output layer with 10 units (we have 10 classes) and softmax activation\n",
        "\n",
        "    def call(self, inputs):\n",
        "        '''\n",
        "        Performs a forward step in our MLP\n",
        "        \n",
        "        Args:\n",
        "          inputs (Tensor): input to the model\n",
        "        \n",
        "        Returns: \n",
        "          x: output of the model\n",
        "        '''\n",
        "        x = self.conv1(inputs)\n",
        "        x = self.conv2(x)\n",
        "        x = self.pool3(x)\n",
        "        x = self.pool4(x)\n",
        "        x = self.out(x)\n",
        "        return x"
      ],
      "id": "fbc810f6",
      "execution_count": 8,
      "outputs": []
    },
    {
      "cell_type": "markdown",
      "metadata": {
        "id": "d841fd0e"
      },
      "source": [
        "# Training"
      ],
      "id": "d841fd0e"
    },
    {
      "cell_type": "code",
      "metadata": {
        "id": "c1e0e776"
      },
      "source": [
        "def train_step(model, input, target, loss_function, optimizer):\n",
        "    # loss_object and optimizer_object are instances of respective tensorflow classes\n",
        "    with tf.GradientTape() as tape:\n",
        "        prediction = model(input)\n",
        "        loss = loss_function(target, prediction)\n",
        "        gradients = tape.gradient(loss, model.trainable_variables)\n",
        "    optimizer.apply_gradients(zip(gradients, model.trainable_variables))\n",
        "    return loss\n",
        "\n",
        "def test(model, test_data, loss_function):\n",
        "    # test over complete test data\n",
        "    \n",
        "    test_accuracy_aggregator = []\n",
        "    test_loss_aggregator = []\n",
        "    \n",
        "    for (input, target) in test_data:\n",
        "        prediction = model(input)\n",
        "        sample_test_loss = loss_function(target, prediction)\n",
        "        sample_test_accuracy =  np.argmax(target, axis=1) == np.argmax(prediction, axis=1)\n",
        "        sample_test_accuracy = np.mean(sample_test_accuracy)\n",
        "        test_loss_aggregator.append(sample_test_loss.numpy())\n",
        "        test_accuracy_aggregator.append(np.mean(sample_test_accuracy))\n",
        "        \n",
        "    test_loss = tf.reduce_mean(test_loss_aggregator)\n",
        "    test_accuracy = tf.reduce_mean(test_accuracy_aggregator)\n",
        "    \n",
        "    return test_loss, test_accuracy"
      ],
      "id": "c1e0e776",
      "execution_count": 9,
      "outputs": []
    },
    {
      "cell_type": "code",
      "metadata": {
        "colab": {
          "base_uri": "https://localhost:8080/"
        },
        "id": "2d9f6b57",
        "outputId": "de39db10-390c-4dbe-a87a-404d82441fa3"
      },
      "source": [
        "tf.keras.backend.clear_session()\n",
        "\n",
        "# Hyperparameters\n",
        "num_epochs = 10\n",
        "learning_rate = 0.1\n",
        "\n",
        "# Initialize the model\n",
        "model = MyModel()\n",
        "# Initialize the loss: categorical cross entropy. Check out 'tf.keras.losses'\n",
        "cross_entropy_loss = tf.keras.losses.CategoricalCrossentropy()\n",
        "# Initialize the optimizer: SGD with default parameters. Check out 'tf.keras.optimizers'\n",
        "optimizer = tf.keras.optimizers.Adam(learning_rate)\n",
        "\n",
        "# Initialize lists for later visualization.\n",
        "train_losses = []\n",
        "\n",
        "test_losses = []\n",
        "test_accuracies = []\n",
        "\n",
        "# Testing once before we begin\n",
        "test_loss, test_accuracy = test(model, test_ds, cross_entropy_loss)\n",
        "test_losses.append(test_loss)\n",
        "test_accuracies.append(test_accuracy)\n",
        "\n",
        "# Check how model performs on train data once before we begin\n",
        "train_loss, _ = test(model, train_ds, cross_entropy_loss)\n",
        "train_losses.append(train_loss)\n",
        "\n",
        "# We train for num_epochs epochs\n",
        "for epoch in range(num_epochs):\n",
        "    print('Epoch: {0} starting with accuracy {1:.2f}'.format(epoch,test_accuracies[-1]))\n",
        "\n",
        "    # Training (and checking in with training)\n",
        "    epoch_loss_agg = []\n",
        "    for input,target in train_ds:\n",
        "        train_loss = train_step(model, input, target, cross_entropy_loss, optimizer)\n",
        "        epoch_loss_agg.append(train_loss)\n",
        "    \n",
        "    # Track training loss\n",
        "    train_losses.append(tf.reduce_mean(epoch_loss_agg))\n",
        "\n",
        "    # Testing, so we can track accuracy and test loss\n",
        "    test_loss, test_accuracy = test(model, test_ds, cross_entropy_loss)\n",
        "    test_losses.append(test_loss)\n",
        "    test_accuracies.append(test_accuracy)"
      ],
      "id": "2d9f6b57",
      "execution_count": 10,
      "outputs": [
        {
          "output_type": "stream",
          "name": "stdout",
          "text": [
            "Epoch: 0 starting with accuracy 0.20\n",
            "Epoch: 1 starting with accuracy 0.48\n",
            "Epoch: 2 starting with accuracy 0.33\n",
            "Epoch: 3 starting with accuracy 0.59\n",
            "Epoch: 4 starting with accuracy 0.58\n",
            "Epoch: 5 starting with accuracy 0.59\n",
            "Epoch: 6 starting with accuracy 0.56\n",
            "Epoch: 7 starting with accuracy 0.33\n",
            "Epoch: 8 starting with accuracy 0.58\n",
            "Epoch: 9 starting with accuracy 0.49\n"
          ]
        }
      ]
    },
    {
      "cell_type": "code",
      "metadata": {
        "id": "2a7e7e37",
        "colab": {
          "base_uri": "https://localhost:8080/",
          "height": 301
        },
        "outputId": "a7229433-3866-463e-d784-cd675f878ee5"
      },
      "source": [
        "# Visualize accuracy and loss for training and test data\n",
        "plt.figure()\n",
        "line1, = plt.plot(train_losses)\n",
        "line2, = plt.plot(test_losses)\n",
        "line3, = plt.plot(test_accuracies)\n",
        "plt.xlabel(\"Training steps\")\n",
        "plt.ylabel(\"Loss/ Accuracy\")\n",
        "plt.legend((line1,line2, line3),(\"training loss\",\"test loss\", \"test accuracy\"))\n",
        "plt.ylim(0,1)\n",
        "plt.show()\n",
        "\n",
        "'''\n",
        "# Play an audio beep. Any audio URL will do.\n",
        "from google.colab import output\n",
        "output.eval_js('new Audio(\"https://upload.wikimedia.org/wikipedia/commons/0/05/Beep-09.ogg\").play()')\n",
        "'''"
      ],
      "id": "2a7e7e37",
      "execution_count": 14,
      "outputs": [
        {
          "output_type": "display_data",
          "data": {
            "image/png": "[encoded data removed]",
            "text/plain": [
              "<Figure size 432x288 with 1 Axes>"
            ]
          },
          "metadata": {
            "needs_background": "light"
          }
        },
        {
          "output_type": "execute_result",
          "data": {
            "application/vnd.google.colaboratory.intrinsic+json": {
              "type": "string"
            },
            "text/plain": [
              "'\\n# Play an audio beep. Any audio URL will do.\\nfrom google.colab import output\\noutput.eval_js(\\'new Audio(\"https://upload.wikimedia.org/wikipedia/commons/0/05/Beep-09.ogg\").play()\\')\\n'"
            ]
          },
          "metadata": {},
          "execution_count": 14
        }
      ]
    }
  ]
}